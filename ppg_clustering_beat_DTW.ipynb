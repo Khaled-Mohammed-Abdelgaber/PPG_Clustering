{
  "nbformat": 4,
  "nbformat_minor": 0,
  "metadata": {
    "colab": {
      "name": "ppg_beat_DTW.ipynb",
      "provenance": [],
      "authorship_tag": "ABX9TyNRT+LqJJstSkpniGX4b+cV",
      "include_colab_link": true
    },
    "kernelspec": {
      "name": "python3",
      "display_name": "Python 3"
    },
    "language_info": {
      "name": "python"
    }
  },
  "cells": [
    {
      "cell_type": "markdown",
      "metadata": {
        "id": "view-in-github",
        "colab_type": "text"
      },
      "source": [
        "<a href=\"https://colab.research.google.com/github/Khaled-Mohammed-Abdelgaber/PPG_Clustering/blob/main/ppg_clustering_beat_DTW.ipynb\" target=\"_parent\"><img src=\"https://colab.research.google.com/assets/colab-badge.svg\" alt=\"Open In Colab\"/></a>"
      ]
    },
    {
      "cell_type": "code",
      "execution_count": 11,
      "metadata": {
        "colab": {
          "base_uri": "https://localhost:8080/"
        },
        "id": "ZmoBSYv06Ml3",
        "outputId": "5cc57b91-e9dd-4f45-88a9-c32a763672c5"
      },
      "outputs": [
        {
          "output_type": "stream",
          "name": "stdout",
          "text": [
            "Mounted at /content/gdrive\n"
          ]
        }
      ],
      "source": [
        "from google.colab import drive\n",
        "drive.mount('/content/gdrive')"
      ]
    },
    {
      "cell_type": "code",
      "source": [
        "import pandas as pd \n",
        "import matplotlib.pyplot as plt\n",
        "import numpy as np"
      ],
      "metadata": {
        "id": "Jn6zI9cJ6sDF"
      },
      "execution_count": 12,
      "outputs": []
    },
    {
      "cell_type": "markdown",
      "source": [
        "# Heart rate equqlization function"
      ],
      "metadata": {
        "id": "dKwcVbD_BGwI"
      }
    },
    {
      "cell_type": "code",
      "source": [
        "from scipy.signal import find_peaks\n",
        "def rescale(arr, no_samples):\n",
        "    n = len(arr)\n",
        "    factor = no_samples/n\n",
        "    return np.interp(np.linspace(0, n, int(factor*n+1)), np.arange(n), arr)\n",
        "\n",
        "def heart_rate_equqlization(data_frame,no_samples,n_signals = 10001,p_threshold = 0.7):\n",
        "  eq_rate_data = pd.DataFrame()\n",
        "  for i in range(n_signals):\n",
        "    print(\"signal number \",i)\n",
        "    peaks, _ = find_peaks(data_frame.loc[i], height=p_threshold)\n",
        "    \n",
        "    np_sig = data_frame.iloc[i,:].values\n",
        "    #print(\"original signal : \")\n",
        "    #print(np_sig)\n",
        "    #print(\"=============================\")\n",
        "\n",
        "    mid_peak = peaks[int(len(peaks)/2)]\n",
        "    start = mid_peak\n",
        "    stop =peaks[int(len(peaks)/2)+1]\n",
        "    np_sig = np_sig[start:stop]\n",
        "    #print(\"cuted signal [np_signale] \\n \",np_sig)\n",
        "    #print(\"=============================\")\n",
        "    \n",
        "    \n",
        "    scaled = rescale(np_sig,no_samples)\n",
        "    df = pd.DataFrame(data = np.transpose(scaled) )\n",
        "    #print(\"final shape is \",df.values.shape)\n",
        "    #print(df.values)\n",
        "    #print(\"**************************************\")\n",
        "    eq_rate_data = pd.concat([eq_rate_data , df],axis = 1,ignore_index=True)\n",
        "  return eq_rate_data.transpose()"
      ],
      "metadata": {
        "id": "KjIWR7KUBFwG"
      },
      "execution_count": 45,
      "outputs": []
    },
    {
      "cell_type": "markdown",
      "source": [
        "# reading data"
      ],
      "metadata": {
        "id": "sppHmgJA63Gy"
      }
    },
    {
      "cell_type": "code",
      "source": [
        "ppg_csv2 = pd.read_csv(\"/content/gdrive/MyDrive/data/PPG_/2.csv\")\n",
        "ppg_csv2.head()"
      ],
      "metadata": {
        "colab": {
          "base_uri": "https://localhost:8080/",
          "height": 299
        },
        "id": "BVdamPST61o9",
        "outputId": "1e7950b7-9d67-47ea-88f8-78df007a0138"
      },
      "execution_count": 14,
      "outputs": [
        {
          "output_type": "execute_result",
          "data": {
            "text/plain": [
              "         1        2        3        4        5        6        7        8  \\\n",
              "0  0.62666  0.54721  0.47260  0.40627  0.35051  0.30641  0.27399  0.25228   \n",
              "1  0.03850  0.05744  0.08861  0.13297  0.19053  0.26018  0.33985  0.42655   \n",
              "2  0.02279  0.02457  0.02600  0.02805  0.03210  0.03981  0.05300  0.07341   \n",
              "3  0.24520  0.26009  0.27128  0.27849  0.28182  0.28170  0.27876  0.27377   \n",
              "4  0.57657  0.50368  0.42721  0.35303  0.28631  0.23107  0.18983  0.16350   \n",
              "\n",
              "         9       10  ...     1015     1016     1017     1018     1019  \\\n",
              "0  0.23964  0.23397  ...  0.74482  0.82479  0.88590  0.92470  0.93946   \n",
              "1  0.51669  0.60637  ...  0.05267  0.05805  0.06082  0.06036  0.05660   \n",
              "2  0.10256  0.14146  ...  0.00840  0.00365  0.00080  0.00000  0.00116   \n",
              "3  0.26749  0.26060  ...  0.11479  0.11281  0.11491  0.12155  0.13270   \n",
              "4  0.15142  0.15160  ...  0.37350  0.45685  0.53778  0.61003  0.66785   \n",
              "\n",
              "      1020     1021     1022     1023     1024  \n",
              "0  0.93015  0.89849  0.84767  0.78203  0.70660  \n",
              "1  0.05009  0.04208  0.03443  0.02951  0.02998  \n",
              "2  0.00397  0.00790  0.01232  0.01658  0.02016  \n",
              "3  0.14788  0.16619  0.18644  0.20725  0.22726  \n",
              "4  0.70663  0.72333  0.71686  0.68809  0.63987  \n",
              "\n",
              "[5 rows x 1024 columns]"
            ],
            "text/html": [
              "\n",
              "  <div id=\"df-10c806f7-947f-4f41-8f39-da43f19a9a1d\">\n",
              "    <div class=\"colab-df-container\">\n",
              "      <div>\n",
              "<style scoped>\n",
              "    .dataframe tbody tr th:only-of-type {\n",
              "        vertical-align: middle;\n",
              "    }\n",
              "\n",
              "    .dataframe tbody tr th {\n",
              "        vertical-align: top;\n",
              "    }\n",
              "\n",
              "    .dataframe thead th {\n",
              "        text-align: right;\n",
              "    }\n",
              "</style>\n",
              "<table border=\"1\" class=\"dataframe\">\n",
              "  <thead>\n",
              "    <tr style=\"text-align: right;\">\n",
              "      <th></th>\n",
              "      <th>1</th>\n",
              "      <th>2</th>\n",
              "      <th>3</th>\n",
              "      <th>4</th>\n",
              "      <th>5</th>\n",
              "      <th>6</th>\n",
              "      <th>7</th>\n",
              "      <th>8</th>\n",
              "      <th>9</th>\n",
              "      <th>10</th>\n",
              "      <th>...</th>\n",
              "      <th>1015</th>\n",
              "      <th>1016</th>\n",
              "      <th>1017</th>\n",
              "      <th>1018</th>\n",
              "      <th>1019</th>\n",
              "      <th>1020</th>\n",
              "      <th>1021</th>\n",
              "      <th>1022</th>\n",
              "      <th>1023</th>\n",
              "      <th>1024</th>\n",
              "    </tr>\n",
              "  </thead>\n",
              "  <tbody>\n",
              "    <tr>\n",
              "      <th>0</th>\n",
              "      <td>0.62666</td>\n",
              "      <td>0.54721</td>\n",
              "      <td>0.47260</td>\n",
              "      <td>0.40627</td>\n",
              "      <td>0.35051</td>\n",
              "      <td>0.30641</td>\n",
              "      <td>0.27399</td>\n",
              "      <td>0.25228</td>\n",
              "      <td>0.23964</td>\n",
              "      <td>0.23397</td>\n",
              "      <td>...</td>\n",
              "      <td>0.74482</td>\n",
              "      <td>0.82479</td>\n",
              "      <td>0.88590</td>\n",
              "      <td>0.92470</td>\n",
              "      <td>0.93946</td>\n",
              "      <td>0.93015</td>\n",
              "      <td>0.89849</td>\n",
              "      <td>0.84767</td>\n",
              "      <td>0.78203</td>\n",
              "      <td>0.70660</td>\n",
              "    </tr>\n",
              "    <tr>\n",
              "      <th>1</th>\n",
              "      <td>0.03850</td>\n",
              "      <td>0.05744</td>\n",
              "      <td>0.08861</td>\n",
              "      <td>0.13297</td>\n",
              "      <td>0.19053</td>\n",
              "      <td>0.26018</td>\n",
              "      <td>0.33985</td>\n",
              "      <td>0.42655</td>\n",
              "      <td>0.51669</td>\n",
              "      <td>0.60637</td>\n",
              "      <td>...</td>\n",
              "      <td>0.05267</td>\n",
              "      <td>0.05805</td>\n",
              "      <td>0.06082</td>\n",
              "      <td>0.06036</td>\n",
              "      <td>0.05660</td>\n",
              "      <td>0.05009</td>\n",
              "      <td>0.04208</td>\n",
              "      <td>0.03443</td>\n",
              "      <td>0.02951</td>\n",
              "      <td>0.02998</td>\n",
              "    </tr>\n",
              "    <tr>\n",
              "      <th>2</th>\n",
              "      <td>0.02279</td>\n",
              "      <td>0.02457</td>\n",
              "      <td>0.02600</td>\n",
              "      <td>0.02805</td>\n",
              "      <td>0.03210</td>\n",
              "      <td>0.03981</td>\n",
              "      <td>0.05300</td>\n",
              "      <td>0.07341</td>\n",
              "      <td>0.10256</td>\n",
              "      <td>0.14146</td>\n",
              "      <td>...</td>\n",
              "      <td>0.00840</td>\n",
              "      <td>0.00365</td>\n",
              "      <td>0.00080</td>\n",
              "      <td>0.00000</td>\n",
              "      <td>0.00116</td>\n",
              "      <td>0.00397</td>\n",
              "      <td>0.00790</td>\n",
              "      <td>0.01232</td>\n",
              "      <td>0.01658</td>\n",
              "      <td>0.02016</td>\n",
              "    </tr>\n",
              "    <tr>\n",
              "      <th>3</th>\n",
              "      <td>0.24520</td>\n",
              "      <td>0.26009</td>\n",
              "      <td>0.27128</td>\n",
              "      <td>0.27849</td>\n",
              "      <td>0.28182</td>\n",
              "      <td>0.28170</td>\n",
              "      <td>0.27876</td>\n",
              "      <td>0.27377</td>\n",
              "      <td>0.26749</td>\n",
              "      <td>0.26060</td>\n",
              "      <td>...</td>\n",
              "      <td>0.11479</td>\n",
              "      <td>0.11281</td>\n",
              "      <td>0.11491</td>\n",
              "      <td>0.12155</td>\n",
              "      <td>0.13270</td>\n",
              "      <td>0.14788</td>\n",
              "      <td>0.16619</td>\n",
              "      <td>0.18644</td>\n",
              "      <td>0.20725</td>\n",
              "      <td>0.22726</td>\n",
              "    </tr>\n",
              "    <tr>\n",
              "      <th>4</th>\n",
              "      <td>0.57657</td>\n",
              "      <td>0.50368</td>\n",
              "      <td>0.42721</td>\n",
              "      <td>0.35303</td>\n",
              "      <td>0.28631</td>\n",
              "      <td>0.23107</td>\n",
              "      <td>0.18983</td>\n",
              "      <td>0.16350</td>\n",
              "      <td>0.15142</td>\n",
              "      <td>0.15160</td>\n",
              "      <td>...</td>\n",
              "      <td>0.37350</td>\n",
              "      <td>0.45685</td>\n",
              "      <td>0.53778</td>\n",
              "      <td>0.61003</td>\n",
              "      <td>0.66785</td>\n",
              "      <td>0.70663</td>\n",
              "      <td>0.72333</td>\n",
              "      <td>0.71686</td>\n",
              "      <td>0.68809</td>\n",
              "      <td>0.63987</td>\n",
              "    </tr>\n",
              "  </tbody>\n",
              "</table>\n",
              "<p>5 rows × 1024 columns</p>\n",
              "</div>\n",
              "      <button class=\"colab-df-convert\" onclick=\"convertToInteractive('df-10c806f7-947f-4f41-8f39-da43f19a9a1d')\"\n",
              "              title=\"Convert this dataframe to an interactive table.\"\n",
              "              style=\"display:none;\">\n",
              "        \n",
              "  <svg xmlns=\"http://www.w3.org/2000/svg\" height=\"24px\"viewBox=\"0 0 24 24\"\n",
              "       width=\"24px\">\n",
              "    <path d=\"M0 0h24v24H0V0z\" fill=\"none\"/>\n",
              "    <path d=\"M18.56 5.44l.94 2.06.94-2.06 2.06-.94-2.06-.94-.94-2.06-.94 2.06-2.06.94zm-11 1L8.5 8.5l.94-2.06 2.06-.94-2.06-.94L8.5 2.5l-.94 2.06-2.06.94zm10 10l.94 2.06.94-2.06 2.06-.94-2.06-.94-.94-2.06-.94 2.06-2.06.94z\"/><path d=\"M17.41 7.96l-1.37-1.37c-.4-.4-.92-.59-1.43-.59-.52 0-1.04.2-1.43.59L10.3 9.45l-7.72 7.72c-.78.78-.78 2.05 0 2.83L4 21.41c.39.39.9.59 1.41.59.51 0 1.02-.2 1.41-.59l7.78-7.78 2.81-2.81c.8-.78.8-2.07 0-2.86zM5.41 20L4 18.59l7.72-7.72 1.47 1.35L5.41 20z\"/>\n",
              "  </svg>\n",
              "      </button>\n",
              "      \n",
              "  <style>\n",
              "    .colab-df-container {\n",
              "      display:flex;\n",
              "      flex-wrap:wrap;\n",
              "      gap: 12px;\n",
              "    }\n",
              "\n",
              "    .colab-df-convert {\n",
              "      background-color: #E8F0FE;\n",
              "      border: none;\n",
              "      border-radius: 50%;\n",
              "      cursor: pointer;\n",
              "      display: none;\n",
              "      fill: #1967D2;\n",
              "      height: 32px;\n",
              "      padding: 0 0 0 0;\n",
              "      width: 32px;\n",
              "    }\n",
              "\n",
              "    .colab-df-convert:hover {\n",
              "      background-color: #E2EBFA;\n",
              "      box-shadow: 0px 1px 2px rgba(60, 64, 67, 0.3), 0px 1px 3px 1px rgba(60, 64, 67, 0.15);\n",
              "      fill: #174EA6;\n",
              "    }\n",
              "\n",
              "    [theme=dark] .colab-df-convert {\n",
              "      background-color: #3B4455;\n",
              "      fill: #D2E3FC;\n",
              "    }\n",
              "\n",
              "    [theme=dark] .colab-df-convert:hover {\n",
              "      background-color: #434B5C;\n",
              "      box-shadow: 0px 1px 3px 1px rgba(0, 0, 0, 0.15);\n",
              "      filter: drop-shadow(0px 1px 2px rgba(0, 0, 0, 0.3));\n",
              "      fill: #FFFFFF;\n",
              "    }\n",
              "  </style>\n",
              "\n",
              "      <script>\n",
              "        const buttonEl =\n",
              "          document.querySelector('#df-10c806f7-947f-4f41-8f39-da43f19a9a1d button.colab-df-convert');\n",
              "        buttonEl.style.display =\n",
              "          google.colab.kernel.accessAllowed ? 'block' : 'none';\n",
              "\n",
              "        async function convertToInteractive(key) {\n",
              "          const element = document.querySelector('#df-10c806f7-947f-4f41-8f39-da43f19a9a1d');\n",
              "          const dataTable =\n",
              "            await google.colab.kernel.invokeFunction('convertToInteractive',\n",
              "                                                     [key], {});\n",
              "          if (!dataTable) return;\n",
              "\n",
              "          const docLinkHtml = 'Like what you see? Visit the ' +\n",
              "            '<a target=\"_blank\" href=https://colab.research.google.com/notebooks/data_table.ipynb>data table notebook</a>'\n",
              "            + ' to learn more about interactive tables.';\n",
              "          element.innerHTML = '';\n",
              "          dataTable['output_type'] = 'display_data';\n",
              "          await google.colab.output.renderOutput(dataTable, element);\n",
              "          const docLink = document.createElement('div');\n",
              "          docLink.innerHTML = docLinkHtml;\n",
              "          element.appendChild(docLink);\n",
              "        }\n",
              "      </script>\n",
              "    </div>\n",
              "  </div>\n",
              "  "
            ]
          },
          "metadata": {},
          "execution_count": 14
        }
      ]
    },
    {
      "cell_type": "code",
      "source": [
        "ppg_csv2.shape"
      ],
      "metadata": {
        "colab": {
          "base_uri": "https://localhost:8080/"
        },
        "id": "_kFdVUjJ5I_0",
        "outputId": "c62231ba-be73-4161-90b9-d70752439518"
      },
      "execution_count": 43,
      "outputs": [
        {
          "output_type": "execute_result",
          "data": {
            "text/plain": [
              "(10001, 1024)"
            ]
          },
          "metadata": {},
          "execution_count": 43
        }
      ]
    },
    {
      "cell_type": "code",
      "source": [
        "\n",
        "scaled_df = heart_rate_equqlization(ppg_csv2,no_samples = 64,n_signals = 1000,p_threshold = 0.7)"
      ],
      "metadata": {
        "colab": {
          "base_uri": "https://localhost:8080/"
        },
        "id": "LaCpBiHR65jY",
        "outputId": "698277a5-1fcc-46b0-9a79-c56e4ce4d70a"
      },
      "execution_count": 110,
      "outputs": [
        {
          "output_type": "stream",
          "name": "stdout",
          "text": [
            "signal number  0\n",
            "signal number  1\n",
            "signal number  2\n",
            "signal number  3\n",
            "signal number  4\n",
            "signal number  5\n",
            "signal number  6\n",
            "signal number  7\n",
            "signal number  8\n",
            "signal number  9\n",
            "signal number  10\n",
            "signal number  11\n",
            "signal number  12\n",
            "signal number  13\n",
            "signal number  14\n",
            "signal number  15\n",
            "signal number  16\n",
            "signal number  17\n",
            "signal number  18\n",
            "signal number  19\n",
            "signal number  20\n",
            "signal number  21\n",
            "signal number  22\n",
            "signal number  23\n",
            "signal number  24\n",
            "signal number  25\n",
            "signal number  26\n",
            "signal number  27\n",
            "signal number  28\n",
            "signal number  29\n",
            "signal number  30\n",
            "signal number  31\n",
            "signal number  32\n",
            "signal number  33\n",
            "signal number  34\n",
            "signal number  35\n",
            "signal number  36\n",
            "signal number  37\n",
            "signal number  38\n",
            "signal number  39\n",
            "signal number  40\n",
            "signal number  41\n",
            "signal number  42\n",
            "signal number  43\n",
            "signal number  44\n",
            "signal number  45\n",
            "signal number  46\n",
            "signal number  47\n",
            "signal number  48\n",
            "signal number  49\n",
            "signal number  50\n",
            "signal number  51\n",
            "signal number  52\n",
            "signal number  53\n",
            "signal number  54\n",
            "signal number  55\n",
            "signal number  56\n",
            "signal number  57\n",
            "signal number  58\n",
            "signal number  59\n",
            "signal number  60\n",
            "signal number  61\n",
            "signal number  62\n",
            "signal number  63\n",
            "signal number  64\n",
            "signal number  65\n",
            "signal number  66\n",
            "signal number  67\n",
            "signal number  68\n",
            "signal number  69\n",
            "signal number  70\n",
            "signal number  71\n",
            "signal number  72\n",
            "signal number  73\n",
            "signal number  74\n",
            "signal number  75\n",
            "signal number  76\n",
            "signal number  77\n",
            "signal number  78\n",
            "signal number  79\n",
            "signal number  80\n",
            "signal number  81\n",
            "signal number  82\n",
            "signal number  83\n",
            "signal number  84\n",
            "signal number  85\n",
            "signal number  86\n",
            "signal number  87\n",
            "signal number  88\n",
            "signal number  89\n",
            "signal number  90\n",
            "signal number  91\n",
            "signal number  92\n",
            "signal number  93\n",
            "signal number  94\n",
            "signal number  95\n",
            "signal number  96\n",
            "signal number  97\n",
            "signal number  98\n",
            "signal number  99\n",
            "signal number  100\n",
            "signal number  101\n",
            "signal number  102\n",
            "signal number  103\n",
            "signal number  104\n",
            "signal number  105\n",
            "signal number  106\n",
            "signal number  107\n",
            "signal number  108\n",
            "signal number  109\n",
            "signal number  110\n",
            "signal number  111\n",
            "signal number  112\n",
            "signal number  113\n",
            "signal number  114\n",
            "signal number  115\n",
            "signal number  116\n",
            "signal number  117\n",
            "signal number  118\n",
            "signal number  119\n",
            "signal number  120\n",
            "signal number  121\n",
            "signal number  122\n",
            "signal number  123\n",
            "signal number  124\n",
            "signal number  125\n",
            "signal number  126\n",
            "signal number  127\n",
            "signal number  128\n",
            "signal number  129\n",
            "signal number  130\n",
            "signal number  131\n",
            "signal number  132\n",
            "signal number  133\n",
            "signal number  134\n",
            "signal number  135\n",
            "signal number  136\n",
            "signal number  137\n",
            "signal number  138\n",
            "signal number  139\n",
            "signal number  140\n",
            "signal number  141\n",
            "signal number  142\n",
            "signal number  143\n",
            "signal number  144\n",
            "signal number  145\n",
            "signal number  146\n",
            "signal number  147\n",
            "signal number  148\n",
            "signal number  149\n",
            "signal number  150\n",
            "signal number  151\n",
            "signal number  152\n",
            "signal number  153\n",
            "signal number  154\n",
            "signal number  155\n",
            "signal number  156\n",
            "signal number  157\n",
            "signal number  158\n",
            "signal number  159\n",
            "signal number  160\n",
            "signal number  161\n",
            "signal number  162\n",
            "signal number  163\n",
            "signal number  164\n",
            "signal number  165\n",
            "signal number  166\n",
            "signal number  167\n",
            "signal number  168\n",
            "signal number  169\n",
            "signal number  170\n",
            "signal number  171\n",
            "signal number  172\n",
            "signal number  173\n",
            "signal number  174\n",
            "signal number  175\n",
            "signal number  176\n",
            "signal number  177\n",
            "signal number  178\n",
            "signal number  179\n",
            "signal number  180\n",
            "signal number  181\n",
            "signal number  182\n",
            "signal number  183\n",
            "signal number  184\n",
            "signal number  185\n",
            "signal number  186\n",
            "signal number  187\n",
            "signal number  188\n",
            "signal number  189\n",
            "signal number  190\n",
            "signal number  191\n",
            "signal number  192\n",
            "signal number  193\n",
            "signal number  194\n",
            "signal number  195\n",
            "signal number  196\n",
            "signal number  197\n",
            "signal number  198\n",
            "signal number  199\n",
            "signal number  200\n",
            "signal number  201\n",
            "signal number  202\n",
            "signal number  203\n",
            "signal number  204\n",
            "signal number  205\n",
            "signal number  206\n",
            "signal number  207\n",
            "signal number  208\n",
            "signal number  209\n",
            "signal number  210\n",
            "signal number  211\n",
            "signal number  212\n",
            "signal number  213\n",
            "signal number  214\n",
            "signal number  215\n",
            "signal number  216\n",
            "signal number  217\n",
            "signal number  218\n",
            "signal number  219\n",
            "signal number  220\n",
            "signal number  221\n",
            "signal number  222\n",
            "signal number  223\n",
            "signal number  224\n",
            "signal number  225\n",
            "signal number  226\n",
            "signal number  227\n",
            "signal number  228\n",
            "signal number  229\n",
            "signal number  230\n",
            "signal number  231\n",
            "signal number  232\n",
            "signal number  233\n",
            "signal number  234\n",
            "signal number  235\n",
            "signal number  236\n",
            "signal number  237\n",
            "signal number  238\n",
            "signal number  239\n",
            "signal number  240\n",
            "signal number  241\n",
            "signal number  242\n",
            "signal number  243\n",
            "signal number  244\n",
            "signal number  245\n",
            "signal number  246\n",
            "signal number  247\n",
            "signal number  248\n",
            "signal number  249\n",
            "signal number  250\n",
            "signal number  251\n",
            "signal number  252\n",
            "signal number  253\n",
            "signal number  254\n",
            "signal number  255\n",
            "signal number  256\n",
            "signal number  257\n",
            "signal number  258\n",
            "signal number  259\n",
            "signal number  260\n",
            "signal number  261\n",
            "signal number  262\n",
            "signal number  263\n",
            "signal number  264\n",
            "signal number  265\n",
            "signal number  266\n",
            "signal number  267\n",
            "signal number  268\n",
            "signal number  269\n",
            "signal number  270\n",
            "signal number  271\n",
            "signal number  272\n",
            "signal number  273\n",
            "signal number  274\n",
            "signal number  275\n",
            "signal number  276\n",
            "signal number  277\n",
            "signal number  278\n",
            "signal number  279\n",
            "signal number  280\n",
            "signal number  281\n",
            "signal number  282\n",
            "signal number  283\n",
            "signal number  284\n",
            "signal number  285\n",
            "signal number  286\n",
            "signal number  287\n",
            "signal number  288\n",
            "signal number  289\n",
            "signal number  290\n",
            "signal number  291\n",
            "signal number  292\n",
            "signal number  293\n",
            "signal number  294\n",
            "signal number  295\n",
            "signal number  296\n",
            "signal number  297\n",
            "signal number  298\n",
            "signal number  299\n",
            "signal number  300\n",
            "signal number  301\n",
            "signal number  302\n",
            "signal number  303\n",
            "signal number  304\n",
            "signal number  305\n",
            "signal number  306\n",
            "signal number  307\n",
            "signal number  308\n",
            "signal number  309\n",
            "signal number  310\n",
            "signal number  311\n",
            "signal number  312\n",
            "signal number  313\n",
            "signal number  314\n",
            "signal number  315\n",
            "signal number  316\n",
            "signal number  317\n",
            "signal number  318\n",
            "signal number  319\n",
            "signal number  320\n",
            "signal number  321\n",
            "signal number  322\n",
            "signal number  323\n",
            "signal number  324\n",
            "signal number  325\n",
            "signal number  326\n",
            "signal number  327\n",
            "signal number  328\n",
            "signal number  329\n",
            "signal number  330\n",
            "signal number  331\n",
            "signal number  332\n",
            "signal number  333\n",
            "signal number  334\n",
            "signal number  335\n",
            "signal number  336\n",
            "signal number  337\n",
            "signal number  338\n",
            "signal number  339\n",
            "signal number  340\n",
            "signal number  341\n",
            "signal number  342\n",
            "signal number  343\n",
            "signal number  344\n",
            "signal number  345\n",
            "signal number  346\n",
            "signal number  347\n",
            "signal number  348\n",
            "signal number  349\n",
            "signal number  350\n",
            "signal number  351\n",
            "signal number  352\n",
            "signal number  353\n",
            "signal number  354\n",
            "signal number  355\n",
            "signal number  356\n",
            "signal number  357\n",
            "signal number  358\n",
            "signal number  359\n",
            "signal number  360\n",
            "signal number  361\n",
            "signal number  362\n",
            "signal number  363\n",
            "signal number  364\n",
            "signal number  365\n",
            "signal number  366\n",
            "signal number  367\n",
            "signal number  368\n",
            "signal number  369\n",
            "signal number  370\n",
            "signal number  371\n",
            "signal number  372\n",
            "signal number  373\n",
            "signal number  374\n",
            "signal number  375\n",
            "signal number  376\n",
            "signal number  377\n",
            "signal number  378\n",
            "signal number  379\n",
            "signal number  380\n",
            "signal number  381\n",
            "signal number  382\n",
            "signal number  383\n",
            "signal number  384\n",
            "signal number  385\n",
            "signal number  386\n",
            "signal number  387\n",
            "signal number  388\n",
            "signal number  389\n",
            "signal number  390\n",
            "signal number  391\n",
            "signal number  392\n",
            "signal number  393\n",
            "signal number  394\n",
            "signal number  395\n",
            "signal number  396\n",
            "signal number  397\n",
            "signal number  398\n",
            "signal number  399\n",
            "signal number  400\n",
            "signal number  401\n",
            "signal number  402\n",
            "signal number  403\n",
            "signal number  404\n",
            "signal number  405\n",
            "signal number  406\n",
            "signal number  407\n",
            "signal number  408\n",
            "signal number  409\n",
            "signal number  410\n",
            "signal number  411\n",
            "signal number  412\n",
            "signal number  413\n",
            "signal number  414\n",
            "signal number  415\n",
            "signal number  416\n",
            "signal number  417\n",
            "signal number  418\n",
            "signal number  419\n",
            "signal number  420\n",
            "signal number  421\n",
            "signal number  422\n",
            "signal number  423\n",
            "signal number  424\n",
            "signal number  425\n",
            "signal number  426\n",
            "signal number  427\n",
            "signal number  428\n",
            "signal number  429\n",
            "signal number  430\n",
            "signal number  431\n",
            "signal number  432\n",
            "signal number  433\n",
            "signal number  434\n",
            "signal number  435\n",
            "signal number  436\n",
            "signal number  437\n",
            "signal number  438\n",
            "signal number  439\n",
            "signal number  440\n",
            "signal number  441\n",
            "signal number  442\n",
            "signal number  443\n",
            "signal number  444\n",
            "signal number  445\n",
            "signal number  446\n",
            "signal number  447\n",
            "signal number  448\n",
            "signal number  449\n",
            "signal number  450\n",
            "signal number  451\n",
            "signal number  452\n",
            "signal number  453\n",
            "signal number  454\n",
            "signal number  455\n",
            "signal number  456\n",
            "signal number  457\n",
            "signal number  458\n",
            "signal number  459\n",
            "signal number  460\n",
            "signal number  461\n",
            "signal number  462\n",
            "signal number  463\n",
            "signal number  464\n",
            "signal number  465\n",
            "signal number  466\n",
            "signal number  467\n",
            "signal number  468\n",
            "signal number  469\n",
            "signal number  470\n",
            "signal number  471\n",
            "signal number  472\n",
            "signal number  473\n",
            "signal number  474\n",
            "signal number  475\n",
            "signal number  476\n",
            "signal number  477\n",
            "signal number  478\n",
            "signal number  479\n",
            "signal number  480\n",
            "signal number  481\n",
            "signal number  482\n",
            "signal number  483\n",
            "signal number  484\n",
            "signal number  485\n",
            "signal number  486\n",
            "signal number  487\n",
            "signal number  488\n",
            "signal number  489\n",
            "signal number  490\n",
            "signal number  491\n",
            "signal number  492\n",
            "signal number  493\n",
            "signal number  494\n",
            "signal number  495\n",
            "signal number  496\n",
            "signal number  497\n",
            "signal number  498\n",
            "signal number  499\n",
            "signal number  500\n",
            "signal number  501\n",
            "signal number  502\n",
            "signal number  503\n",
            "signal number  504\n",
            "signal number  505\n",
            "signal number  506\n",
            "signal number  507\n",
            "signal number  508\n",
            "signal number  509\n",
            "signal number  510\n",
            "signal number  511\n",
            "signal number  512\n",
            "signal number  513\n",
            "signal number  514\n",
            "signal number  515\n",
            "signal number  516\n",
            "signal number  517\n",
            "signal number  518\n",
            "signal number  519\n",
            "signal number  520\n",
            "signal number  521\n",
            "signal number  522\n",
            "signal number  523\n",
            "signal number  524\n",
            "signal number  525\n",
            "signal number  526\n",
            "signal number  527\n",
            "signal number  528\n",
            "signal number  529\n",
            "signal number  530\n",
            "signal number  531\n",
            "signal number  532\n",
            "signal number  533\n",
            "signal number  534\n",
            "signal number  535\n",
            "signal number  536\n",
            "signal number  537\n",
            "signal number  538\n",
            "signal number  539\n",
            "signal number  540\n",
            "signal number  541\n",
            "signal number  542\n",
            "signal number  543\n",
            "signal number  544\n",
            "signal number  545\n",
            "signal number  546\n",
            "signal number  547\n",
            "signal number  548\n",
            "signal number  549\n",
            "signal number  550\n",
            "signal number  551\n",
            "signal number  552\n",
            "signal number  553\n",
            "signal number  554\n",
            "signal number  555\n",
            "signal number  556\n",
            "signal number  557\n",
            "signal number  558\n",
            "signal number  559\n",
            "signal number  560\n",
            "signal number  561\n",
            "signal number  562\n",
            "signal number  563\n",
            "signal number  564\n",
            "signal number  565\n",
            "signal number  566\n",
            "signal number  567\n",
            "signal number  568\n",
            "signal number  569\n",
            "signal number  570\n",
            "signal number  571\n",
            "signal number  572\n",
            "signal number  573\n",
            "signal number  574\n",
            "signal number  575\n",
            "signal number  576\n",
            "signal number  577\n",
            "signal number  578\n",
            "signal number  579\n",
            "signal number  580\n",
            "signal number  581\n",
            "signal number  582\n",
            "signal number  583\n",
            "signal number  584\n",
            "signal number  585\n",
            "signal number  586\n",
            "signal number  587\n",
            "signal number  588\n",
            "signal number  589\n",
            "signal number  590\n",
            "signal number  591\n",
            "signal number  592\n",
            "signal number  593\n",
            "signal number  594\n",
            "signal number  595\n",
            "signal number  596\n",
            "signal number  597\n",
            "signal number  598\n",
            "signal number  599\n",
            "signal number  600\n",
            "signal number  601\n",
            "signal number  602\n",
            "signal number  603\n",
            "signal number  604\n",
            "signal number  605\n",
            "signal number  606\n",
            "signal number  607\n",
            "signal number  608\n",
            "signal number  609\n",
            "signal number  610\n",
            "signal number  611\n",
            "signal number  612\n",
            "signal number  613\n",
            "signal number  614\n",
            "signal number  615\n",
            "signal number  616\n",
            "signal number  617\n",
            "signal number  618\n",
            "signal number  619\n",
            "signal number  620\n",
            "signal number  621\n",
            "signal number  622\n",
            "signal number  623\n",
            "signal number  624\n",
            "signal number  625\n",
            "signal number  626\n",
            "signal number  627\n",
            "signal number  628\n",
            "signal number  629\n",
            "signal number  630\n",
            "signal number  631\n",
            "signal number  632\n",
            "signal number  633\n",
            "signal number  634\n",
            "signal number  635\n",
            "signal number  636\n",
            "signal number  637\n",
            "signal number  638\n",
            "signal number  639\n",
            "signal number  640\n",
            "signal number  641\n",
            "signal number  642\n",
            "signal number  643\n",
            "signal number  644\n",
            "signal number  645\n",
            "signal number  646\n",
            "signal number  647\n",
            "signal number  648\n",
            "signal number  649\n",
            "signal number  650\n",
            "signal number  651\n",
            "signal number  652\n",
            "signal number  653\n",
            "signal number  654\n",
            "signal number  655\n",
            "signal number  656\n",
            "signal number  657\n",
            "signal number  658\n",
            "signal number  659\n",
            "signal number  660\n",
            "signal number  661\n",
            "signal number  662\n",
            "signal number  663\n",
            "signal number  664\n",
            "signal number  665\n",
            "signal number  666\n",
            "signal number  667\n",
            "signal number  668\n",
            "signal number  669\n",
            "signal number  670\n",
            "signal number  671\n",
            "signal number  672\n",
            "signal number  673\n",
            "signal number  674\n",
            "signal number  675\n",
            "signal number  676\n",
            "signal number  677\n",
            "signal number  678\n",
            "signal number  679\n",
            "signal number  680\n",
            "signal number  681\n",
            "signal number  682\n",
            "signal number  683\n",
            "signal number  684\n",
            "signal number  685\n",
            "signal number  686\n",
            "signal number  687\n",
            "signal number  688\n",
            "signal number  689\n",
            "signal number  690\n",
            "signal number  691\n",
            "signal number  692\n",
            "signal number  693\n",
            "signal number  694\n",
            "signal number  695\n",
            "signal number  696\n",
            "signal number  697\n",
            "signal number  698\n",
            "signal number  699\n",
            "signal number  700\n",
            "signal number  701\n",
            "signal number  702\n",
            "signal number  703\n",
            "signal number  704\n",
            "signal number  705\n",
            "signal number  706\n",
            "signal number  707\n",
            "signal number  708\n",
            "signal number  709\n",
            "signal number  710\n",
            "signal number  711\n",
            "signal number  712\n",
            "signal number  713\n",
            "signal number  714\n",
            "signal number  715\n",
            "signal number  716\n",
            "signal number  717\n",
            "signal number  718\n",
            "signal number  719\n",
            "signal number  720\n",
            "signal number  721\n",
            "signal number  722\n",
            "signal number  723\n",
            "signal number  724\n",
            "signal number  725\n",
            "signal number  726\n",
            "signal number  727\n",
            "signal number  728\n",
            "signal number  729\n",
            "signal number  730\n",
            "signal number  731\n",
            "signal number  732\n",
            "signal number  733\n",
            "signal number  734\n",
            "signal number  735\n",
            "signal number  736\n",
            "signal number  737\n",
            "signal number  738\n",
            "signal number  739\n",
            "signal number  740\n",
            "signal number  741\n",
            "signal number  742\n",
            "signal number  743\n",
            "signal number  744\n",
            "signal number  745\n",
            "signal number  746\n",
            "signal number  747\n",
            "signal number  748\n",
            "signal number  749\n",
            "signal number  750\n",
            "signal number  751\n",
            "signal number  752\n",
            "signal number  753\n",
            "signal number  754\n",
            "signal number  755\n",
            "signal number  756\n",
            "signal number  757\n",
            "signal number  758\n",
            "signal number  759\n",
            "signal number  760\n",
            "signal number  761\n",
            "signal number  762\n",
            "signal number  763\n",
            "signal number  764\n",
            "signal number  765\n",
            "signal number  766\n",
            "signal number  767\n",
            "signal number  768\n",
            "signal number  769\n",
            "signal number  770\n",
            "signal number  771\n",
            "signal number  772\n",
            "signal number  773\n",
            "signal number  774\n",
            "signal number  775\n",
            "signal number  776\n",
            "signal number  777\n",
            "signal number  778\n",
            "signal number  779\n",
            "signal number  780\n",
            "signal number  781\n",
            "signal number  782\n",
            "signal number  783\n",
            "signal number  784\n",
            "signal number  785\n",
            "signal number  786\n",
            "signal number  787\n",
            "signal number  788\n",
            "signal number  789\n",
            "signal number  790\n",
            "signal number  791\n",
            "signal number  792\n",
            "signal number  793\n",
            "signal number  794\n",
            "signal number  795\n",
            "signal number  796\n",
            "signal number  797\n",
            "signal number  798\n",
            "signal number  799\n",
            "signal number  800\n",
            "signal number  801\n",
            "signal number  802\n",
            "signal number  803\n",
            "signal number  804\n",
            "signal number  805\n",
            "signal number  806\n",
            "signal number  807\n",
            "signal number  808\n",
            "signal number  809\n",
            "signal number  810\n",
            "signal number  811\n",
            "signal number  812\n",
            "signal number  813\n",
            "signal number  814\n",
            "signal number  815\n",
            "signal number  816\n",
            "signal number  817\n",
            "signal number  818\n",
            "signal number  819\n",
            "signal number  820\n",
            "signal number  821\n",
            "signal number  822\n",
            "signal number  823\n",
            "signal number  824\n",
            "signal number  825\n",
            "signal number  826\n",
            "signal number  827\n",
            "signal number  828\n",
            "signal number  829\n",
            "signal number  830\n",
            "signal number  831\n",
            "signal number  832\n",
            "signal number  833\n",
            "signal number  834\n",
            "signal number  835\n",
            "signal number  836\n",
            "signal number  837\n",
            "signal number  838\n",
            "signal number  839\n",
            "signal number  840\n",
            "signal number  841\n",
            "signal number  842\n",
            "signal number  843\n",
            "signal number  844\n",
            "signal number  845\n",
            "signal number  846\n",
            "signal number  847\n",
            "signal number  848\n",
            "signal number  849\n",
            "signal number  850\n",
            "signal number  851\n",
            "signal number  852\n",
            "signal number  853\n",
            "signal number  854\n",
            "signal number  855\n",
            "signal number  856\n",
            "signal number  857\n",
            "signal number  858\n",
            "signal number  859\n",
            "signal number  860\n",
            "signal number  861\n",
            "signal number  862\n",
            "signal number  863\n",
            "signal number  864\n",
            "signal number  865\n",
            "signal number  866\n",
            "signal number  867\n",
            "signal number  868\n",
            "signal number  869\n",
            "signal number  870\n",
            "signal number  871\n",
            "signal number  872\n",
            "signal number  873\n",
            "signal number  874\n",
            "signal number  875\n",
            "signal number  876\n",
            "signal number  877\n",
            "signal number  878\n",
            "signal number  879\n",
            "signal number  880\n",
            "signal number  881\n",
            "signal number  882\n",
            "signal number  883\n",
            "signal number  884\n",
            "signal number  885\n",
            "signal number  886\n",
            "signal number  887\n",
            "signal number  888\n",
            "signal number  889\n",
            "signal number  890\n",
            "signal number  891\n",
            "signal number  892\n",
            "signal number  893\n",
            "signal number  894\n",
            "signal number  895\n",
            "signal number  896\n",
            "signal number  897\n",
            "signal number  898\n",
            "signal number  899\n",
            "signal number  900\n",
            "signal number  901\n",
            "signal number  902\n",
            "signal number  903\n",
            "signal number  904\n",
            "signal number  905\n",
            "signal number  906\n",
            "signal number  907\n",
            "signal number  908\n",
            "signal number  909\n",
            "signal number  910\n",
            "signal number  911\n",
            "signal number  912\n",
            "signal number  913\n",
            "signal number  914\n",
            "signal number  915\n",
            "signal number  916\n",
            "signal number  917\n",
            "signal number  918\n",
            "signal number  919\n",
            "signal number  920\n",
            "signal number  921\n",
            "signal number  922\n",
            "signal number  923\n",
            "signal number  924\n",
            "signal number  925\n",
            "signal number  926\n",
            "signal number  927\n",
            "signal number  928\n",
            "signal number  929\n",
            "signal number  930\n",
            "signal number  931\n",
            "signal number  932\n",
            "signal number  933\n",
            "signal number  934\n",
            "signal number  935\n",
            "signal number  936\n",
            "signal number  937\n",
            "signal number  938\n",
            "signal number  939\n",
            "signal number  940\n",
            "signal number  941\n",
            "signal number  942\n",
            "signal number  943\n",
            "signal number  944\n",
            "signal number  945\n",
            "signal number  946\n",
            "signal number  947\n",
            "signal number  948\n",
            "signal number  949\n",
            "signal number  950\n",
            "signal number  951\n",
            "signal number  952\n",
            "signal number  953\n",
            "signal number  954\n",
            "signal number  955\n",
            "signal number  956\n",
            "signal number  957\n",
            "signal number  958\n",
            "signal number  959\n",
            "signal number  960\n",
            "signal number  961\n",
            "signal number  962\n",
            "signal number  963\n",
            "signal number  964\n",
            "signal number  965\n",
            "signal number  966\n",
            "signal number  967\n",
            "signal number  968\n",
            "signal number  969\n",
            "signal number  970\n",
            "signal number  971\n",
            "signal number  972\n",
            "signal number  973\n",
            "signal number  974\n",
            "signal number  975\n",
            "signal number  976\n",
            "signal number  977\n",
            "signal number  978\n",
            "signal number  979\n",
            "signal number  980\n",
            "signal number  981\n",
            "signal number  982\n",
            "signal number  983\n",
            "signal number  984\n",
            "signal number  985\n",
            "signal number  986\n",
            "signal number  987\n",
            "signal number  988\n",
            "signal number  989\n",
            "signal number  990\n",
            "signal number  991\n",
            "signal number  992\n",
            "signal number  993\n",
            "signal number  994\n",
            "signal number  995\n",
            "signal number  996\n",
            "signal number  997\n",
            "signal number  998\n",
            "signal number  999\n"
          ]
        }
      ]
    },
    {
      "cell_type": "code",
      "source": [
        "print(scaled_df.isna().sum(axis = 1))\n"
      ],
      "metadata": {
        "colab": {
          "base_uri": "https://localhost:8080/"
        },
        "id": "BeevJx2t3eKa",
        "outputId": "59ed8fbd-f37a-4118-b2d8-39a4fae6eb3d"
      },
      "execution_count": 100,
      "outputs": [
        {
          "output_type": "stream",
          "name": "stdout",
          "text": [
            "0     0\n",
            "1     0\n",
            "2     0\n",
            "3     0\n",
            "4     0\n",
            "     ..\n",
            "95    0\n",
            "96    0\n",
            "97    0\n",
            "98    0\n",
            "99    0\n",
            "Length: 100, dtype: int64\n"
          ]
        }
      ]
    },
    {
      "cell_type": "code",
      "source": [
        "scaled_df.shape"
      ],
      "metadata": {
        "colab": {
          "base_uri": "https://localhost:8080/"
        },
        "id": "nkLpVNE__AjY",
        "outputId": "3389edf2-1576-42c7-9664-67c53ecad95f"
      },
      "execution_count": 101,
      "outputs": [
        {
          "output_type": "execute_result",
          "data": {
            "text/plain": [
              "(100, 33)"
            ]
          },
          "metadata": {},
          "execution_count": 101
        }
      ]
    },
    {
      "cell_type": "code",
      "source": [
        "from numpy.random import randint\n",
        "\n",
        "# generate some integers\n",
        "row = randint(0, 100, 1)\n",
        "print(row)\n",
        "ppg_sig = scaled_df.iloc[row,:]\n",
        "print(ppg_sig)\n",
        "plt.plot(ppg_sig.values.T)"
      ],
      "metadata": {
        "colab": {
          "base_uri": "https://localhost:8080/",
          "height": 489
        },
        "id": "DwhFEwzc4dYO",
        "outputId": "65f429df-a111-4b75-9db4-c93418d5ffea"
      },
      "execution_count": 120,
      "outputs": [
        {
          "output_type": "stream",
          "name": "stdout",
          "text": [
            "[94]\n",
            "         0         1         2         3         4         5         6   \\\n",
            "94  0.96432  0.959819  0.951937  0.942497  0.932227  0.920513  0.905977   \n",
            "\n",
            "          7         8         9   ...        55        56        57        58  \\\n",
            "94  0.886995  0.862038  0.829523  ...  0.360202  0.446529  0.540175  0.634313   \n",
            "\n",
            "         59        60        61        62        63       64  \n",
            "94  0.72298  0.800206  0.860453  0.903414  0.929232  0.93312  \n",
            "\n",
            "[1 rows x 65 columns]\n"
          ]
        },
        {
          "output_type": "execute_result",
          "data": {
            "text/plain": [
              "[<matplotlib.lines.Line2D at 0x7fc3dc126190>]"
            ]
          },
          "metadata": {},
          "execution_count": 120
        },
        {
          "output_type": "display_data",
          "data": {
            "text/plain": [
              "<Figure size 432x288 with 1 Axes>"
            ],
            "image/png": "[encoded data removed]"
          },
          "metadata": {
            "needs_background": "light"
          }
        }
      ]
    },
    {
      "cell_type": "code",
      "source": [
        "!pip install tslearn"
      ],
      "metadata": {
        "colab": {
          "base_uri": "https://localhost:8080/"
        },
        "id": "sbILtnpyBP6m",
        "outputId": "967fd72a-3646-4315-f227-0bd860ab8922"
      },
      "execution_count": 122,
      "outputs": [
        {
          "output_type": "stream",
          "name": "stdout",
          "text": [
            "Looking in indexes: https://pypi.org/simple, https://us-python.pkg.dev/colab-wheels/public/simple/\n",
            "Collecting tslearn\n",
            "  Downloading tslearn-0.5.2-cp37-cp37m-manylinux_2_5_x86_64.manylinux1_x86_64.manylinux_2_12_x86_64.manylinux2010_x86_64.whl (793 kB)\n",
            "\u001b[K     |████████████████████████████████| 793 kB 5.0 MB/s \n",
            "\u001b[?25hRequirement already satisfied: numpy in /usr/local/lib/python3.7/dist-packages (from tslearn) (1.21.6)\n",
            "Requirement already satisfied: scikit-learn in /usr/local/lib/python3.7/dist-packages (from tslearn) (1.0.2)\n",
            "Requirement already satisfied: scipy in /usr/local/lib/python3.7/dist-packages (from tslearn) (1.7.3)\n",
            "Requirement already satisfied: joblib in /usr/local/lib/python3.7/dist-packages (from tslearn) (1.1.0)\n",
            "Requirement already satisfied: numba in /usr/local/lib/python3.7/dist-packages (from tslearn) (0.56.0)\n",
            "Requirement already satisfied: Cython in /usr/local/lib/python3.7/dist-packages (from tslearn) (0.29.32)\n",
            "Requirement already satisfied: importlib-metadata in /usr/local/lib/python3.7/dist-packages (from numba->tslearn) (4.12.0)\n",
            "Requirement already satisfied: llvmlite<0.40,>=0.39.0dev0 in /usr/local/lib/python3.7/dist-packages (from numba->tslearn) (0.39.0)\n",
            "Requirement already satisfied: setuptools in /usr/local/lib/python3.7/dist-packages (from numba->tslearn) (57.4.0)\n",
            "Requirement already satisfied: zipp>=0.5 in /usr/local/lib/python3.7/dist-packages (from importlib-metadata->numba->tslearn) (3.8.1)\n",
            "Requirement already satisfied: typing-extensions>=3.6.4 in /usr/local/lib/python3.7/dist-packages (from importlib-metadata->numba->tslearn) (4.1.1)\n",
            "Requirement already satisfied: threadpoolctl>=2.0.0 in /usr/local/lib/python3.7/dist-packages (from scikit-learn->tslearn) (3.1.0)\n",
            "Installing collected packages: tslearn\n",
            "Successfully installed tslearn-0.5.2\n"
          ]
        }
      ]
    },
    {
      "cell_type": "code",
      "source": [
        "from tslearn.clustering import TimeSeriesKMeans\n",
        "\n",
        "model = TimeSeriesKMeans(n_clusters=6, metric=\"dtw\",\n",
        "                         max_iter=10)\n",
        "model.fit(scaled_df)"
      ],
      "metadata": {
        "colab": {
          "base_uri": "https://localhost:8080/"
        },
        "id": "FpDq_ow3rPXu",
        "outputId": "76ef5e50-84bc-4469-e1c0-6e3b9d2006b9"
      },
      "execution_count": 125,
      "outputs": [
        {
          "output_type": "execute_result",
          "data": {
            "text/plain": [
              "TimeSeriesKMeans(max_iter=10, metric='dtw', n_clusters=6)"
            ]
          },
          "metadata": {},
          "execution_count": 125
        }
      ]
    },
    {
      "cell_type": "code",
      "source": [
        "scaled_df.values.shape"
      ],
      "metadata": {
        "colab": {
          "base_uri": "https://localhost:8080/"
        },
        "id": "LHIhpu0cC0-r",
        "outputId": "3d237bb3-b742-4c40-855f-76aa676a62ea"
      },
      "execution_count": 129,
      "outputs": [
        {
          "output_type": "execute_result",
          "data": {
            "text/plain": [
              "(1000, 65)"
            ]
          },
          "metadata": {},
          "execution_count": 129
        }
      ]
    },
    {
      "cell_type": "code",
      "source": [
        "# Author: Romain Tavenard\n",
        "# License: BSD 3 clause\n",
        "\n",
        "import numpy\n",
        "import matplotlib.pyplot as plt\n",
        "\n",
        "from tslearn.clustering import TimeSeriesKMeans\n",
        "from tslearn.datasets import CachedDatasets\n",
        "from tslearn.preprocessing import TimeSeriesScalerMeanVariance,  TimeSeriesResampler\n",
        "\n",
        "seed = 0\n",
        "numpy.random.seed(seed)\n",
        "X_train = scaled_df.values #, y_train, X_test, y_test = CachedDatasets().load_dataset(\"Trace\")\n",
        "#X_train = X_train[y_train < 4]  # Keep first 3 classes\n",
        "numpy.random.shuffle(X_train)\n",
        "# Keep only 50 time series\n",
        "X_train = TimeSeriesScalerMeanVariance().fit_transform(X_train)\n",
        "# Make time series shorter\n",
        "X_train = TimeSeriesResampler(sz=64).fit_transform(X_train)\n",
        "sz = X_train.shape[1]\n",
        "\n",
        "# Euclidean k-means\n",
        "print(\"Euclidean k-means\")\n",
        "km = TimeSeriesKMeans(n_clusters=7, verbose=True, random_state=seed)\n",
        "y_pred = km.fit_predict(X_train)\n",
        "\n",
        "plt.figure(figsize=(20,20))\n",
        "for yi in range(7):\n",
        "    plt.subplot(7,7, yi + 1)\n",
        "    for xx in X_train[y_pred == yi]:\n",
        "        plt.plot(xx.ravel(), \"k-\", alpha=.2)\n",
        "    plt.plot(km.cluster_centers_[yi].ravel(), \"r-\")\n",
        "    plt.xlim(0, sz)\n",
        "    plt.ylim(-4, 4)\n",
        "    plt.text(0.55, 0.85,'Cluster %d' % (yi + 1),\n",
        "             transform=plt.gca().transAxes)\n",
        "    if yi == 1:\n",
        "        plt.title(\"Euclidean $k$-means\")\n",
        "\n"
      ],
      "metadata": {
        "colab": {
          "base_uri": "https://localhost:8080/",
          "height": 245
        },
        "id": "9vV7FGiLB9nq",
        "outputId": "ab8c9406-e6a5-430d-e0ed-2df4bd3c6147"
      },
      "execution_count": 134,
      "outputs": [
        {
          "output_type": "stream",
          "name": "stdout",
          "text": [
            "Euclidean k-means\n",
            "1.000 --> 0.643 --> 0.639 --> 0.637 --> 0.633 --> 0.626 --> 0.613 --> 0.604 --> 0.599 --> 0.595 --> 0.592 --> 0.591 --> 0.590 --> 0.589 --> 0.587 --> 0.585 --> 0.579 --> 0.572 --> 0.566 --> 0.560 --> 0.556 --> 0.552 --> 0.550 --> 0.549 --> 0.548 --> 0.546 --> 0.546 --> 0.545 --> 0.545 --> 0.545 --> 0.545 --> 0.545 --> \n"
          ]
        },
        {
          "output_type": "display_data",
          "data": {
            "text/plain": [
              "<Figure size 1440x1440 with 7 Axes>"
            ],
            "image/png": "[encoded data removed]"
          },
          "metadata": {
            "needs_background": "light"
          }
        }
      ]
    },
    {
      "cell_type": "code",
      "source": [
        "# DBA-k-means\n",
        "print(\"DBA k-means\")\n",
        "dba_km = TimeSeriesKMeans(n_clusters=8,\n",
        "                          n_init=2,\n",
        "                          metric=\"dtw\",\n",
        "                          verbose=True,\n",
        "                          max_iter_barycenter=10,\n",
        "                          random_state=seed)\n",
        "y_pred = dba_km.fit_predict(X_train)\n",
        "plt.figure(figsize=(20,20))\n",
        "\n",
        "for yi in range(7):\n",
        "    plt.subplot(7, 7,1 + yi)\n",
        "    for xx in X_train[y_pred == yi]:\n",
        "        plt.plot(xx.ravel(), \"k-\", alpha=.2)\n",
        "    plt.plot(dba_km.cluster_centers_[yi].ravel(), \"r-\")\n",
        "    plt.xlim(0, sz)\n",
        "    plt.ylim(-4, 4)\n",
        "    plt.text(0.55, 0.85,'Cluster %d' % (yi + 1),\n",
        "             transform=plt.gca().transAxes)\n",
        "    if yi == 1:\n",
        "        plt.title(\"DBA $k$-means\")\n"
      ],
      "metadata": {
        "colab": {
          "base_uri": "https://localhost:8080/",
          "height": 1000
        },
        "id": "URyKi1reCuWS",
        "outputId": "338d74f2-a8ba-40a5-8eea-d25b4c2b11bb"
      },
      "execution_count": 140,
      "outputs": [
        {
          "output_type": "stream",
          "name": "stdout",
          "text": [
            "DBA k-means\n",
            "Init 1\n"
          ]
        },
        {
          "output_type": "stream",
          "name": "stderr",
          "text": [
            "[Parallel(n_jobs=1)]: Using backend SequentialBackend with 1 concurrent workers.\n",
            "[Parallel(n_jobs=1)]: Done 1000 out of 1000 | elapsed:    0.2s finished\n",
            "[Parallel(n_jobs=1)]: Using backend SequentialBackend with 1 concurrent workers.\n",
            "[Parallel(n_jobs=1)]: Done 4000 out of 4000 | elapsed:    0.5s finished\n",
            "[Parallel(n_jobs=1)]: Using backend SequentialBackend with 1 concurrent workers.\n",
            "[Parallel(n_jobs=1)]: Done 4000 out of 4000 | elapsed:    1.2s finished\n",
            "[Parallel(n_jobs=1)]: Using backend SequentialBackend with 1 concurrent workers.\n",
            "[Parallel(n_jobs=1)]: Done 4000 out of 4000 | elapsed:    1.1s finished\n",
            "[Parallel(n_jobs=1)]: Using backend SequentialBackend with 1 concurrent workers.\n",
            "[Parallel(n_jobs=1)]: Done 4000 out of 4000 | elapsed:    1.3s finished\n",
            "[Parallel(n_jobs=1)]: Using backend SequentialBackend with 1 concurrent workers.\n",
            "[Parallel(n_jobs=1)]: Done 4000 out of 4000 | elapsed:    0.8s finished\n",
            "[Parallel(n_jobs=1)]: Using backend SequentialBackend with 1 concurrent workers.\n",
            "[Parallel(n_jobs=1)]: Done 4000 out of 4000 | elapsed:    0.5s finished\n",
            "[Parallel(n_jobs=1)]: Using backend SequentialBackend with 1 concurrent workers.\n",
            "[Parallel(n_jobs=1)]: Done 4000 out of 4000 | elapsed:    0.5s finished\n",
            "[Parallel(n_jobs=1)]: Using backend SequentialBackend with 1 concurrent workers.\n",
            "[Parallel(n_jobs=1)]: Done 8000 out of 8000 | elapsed:    1.0s finished\n"
          ]
        },
        {
          "output_type": "stream",
          "name": "stdout",
          "text": [
            "0.222 --> "
          ]
        },
        {
          "output_type": "stream",
          "name": "stderr",
          "text": [
            "[Parallel(n_jobs=1)]: Using backend SequentialBackend with 1 concurrent workers.\n",
            "[Parallel(n_jobs=1)]: Done 8000 out of 8000 | elapsed:    1.4s finished\n"
          ]
        },
        {
          "output_type": "stream",
          "name": "stdout",
          "text": [
            "0.168 --> "
          ]
        },
        {
          "output_type": "stream",
          "name": "stderr",
          "text": [
            "[Parallel(n_jobs=1)]: Using backend SequentialBackend with 1 concurrent workers.\n",
            "[Parallel(n_jobs=1)]: Done 8000 out of 8000 | elapsed:    1.0s finished\n"
          ]
        },
        {
          "output_type": "stream",
          "name": "stdout",
          "text": [
            "0.156 --> "
          ]
        },
        {
          "output_type": "stream",
          "name": "stderr",
          "text": [
            "[Parallel(n_jobs=1)]: Using backend SequentialBackend with 1 concurrent workers.\n",
            "[Parallel(n_jobs=1)]: Done 8000 out of 8000 | elapsed:    1.0s finished\n"
          ]
        },
        {
          "output_type": "stream",
          "name": "stdout",
          "text": [
            "0.153 --> "
          ]
        },
        {
          "output_type": "stream",
          "name": "stderr",
          "text": [
            "[Parallel(n_jobs=1)]: Using backend SequentialBackend with 1 concurrent workers.\n",
            "[Parallel(n_jobs=1)]: Done 8000 out of 8000 | elapsed:    1.0s finished\n"
          ]
        },
        {
          "output_type": "stream",
          "name": "stdout",
          "text": [
            "0.151 --> "
          ]
        },
        {
          "output_type": "stream",
          "name": "stderr",
          "text": [
            "[Parallel(n_jobs=1)]: Using backend SequentialBackend with 1 concurrent workers.\n",
            "[Parallel(n_jobs=1)]: Done 8000 out of 8000 | elapsed:    1.3s finished\n"
          ]
        },
        {
          "output_type": "stream",
          "name": "stdout",
          "text": [
            "0.150 --> "
          ]
        },
        {
          "output_type": "stream",
          "name": "stderr",
          "text": [
            "[Parallel(n_jobs=1)]: Using backend SequentialBackend with 1 concurrent workers.\n",
            "[Parallel(n_jobs=1)]: Done 8000 out of 8000 | elapsed:    1.0s finished\n"
          ]
        },
        {
          "output_type": "stream",
          "name": "stdout",
          "text": [
            "0.150 --> "
          ]
        },
        {
          "output_type": "stream",
          "name": "stderr",
          "text": [
            "[Parallel(n_jobs=1)]: Using backend SequentialBackend with 1 concurrent workers.\n",
            "[Parallel(n_jobs=1)]: Done 8000 out of 8000 | elapsed:    1.1s finished\n"
          ]
        },
        {
          "output_type": "stream",
          "name": "stdout",
          "text": [
            "0.149 --> "
          ]
        },
        {
          "output_type": "stream",
          "name": "stderr",
          "text": [
            "[Parallel(n_jobs=1)]: Using backend SequentialBackend with 1 concurrent workers.\n",
            "[Parallel(n_jobs=1)]: Done 8000 out of 8000 | elapsed:    1.1s finished\n"
          ]
        },
        {
          "output_type": "stream",
          "name": "stdout",
          "text": [
            "0.149 --> "
          ]
        },
        {
          "output_type": "stream",
          "name": "stderr",
          "text": [
            "[Parallel(n_jobs=1)]: Using backend SequentialBackend with 1 concurrent workers.\n",
            "[Parallel(n_jobs=1)]: Done 8000 out of 8000 | elapsed:    1.0s finished\n"
          ]
        },
        {
          "output_type": "stream",
          "name": "stdout",
          "text": [
            "0.149 --> "
          ]
        },
        {
          "output_type": "stream",
          "name": "stderr",
          "text": [
            "[Parallel(n_jobs=1)]: Using backend SequentialBackend with 1 concurrent workers.\n",
            "[Parallel(n_jobs=1)]: Done 8000 out of 8000 | elapsed:    1.0s finished\n"
          ]
        },
        {
          "output_type": "stream",
          "name": "stdout",
          "text": [
            "0.149 --> "
          ]
        },
        {
          "output_type": "stream",
          "name": "stderr",
          "text": [
            "[Parallel(n_jobs=1)]: Using backend SequentialBackend with 1 concurrent workers.\n",
            "[Parallel(n_jobs=1)]: Done 8000 out of 8000 | elapsed:    1.3s finished\n"
          ]
        },
        {
          "output_type": "stream",
          "name": "stdout",
          "text": [
            "0.149 --> "
          ]
        },
        {
          "output_type": "stream",
          "name": "stderr",
          "text": [
            "[Parallel(n_jobs=1)]: Using backend SequentialBackend with 1 concurrent workers.\n",
            "[Parallel(n_jobs=1)]: Done 8000 out of 8000 | elapsed:    1.1s finished\n"
          ]
        },
        {
          "output_type": "stream",
          "name": "stdout",
          "text": [
            "0.149 --> "
          ]
        },
        {
          "output_type": "stream",
          "name": "stderr",
          "text": [
            "[Parallel(n_jobs=1)]: Using backend SequentialBackend with 1 concurrent workers.\n",
            "[Parallel(n_jobs=1)]: Done 8000 out of 8000 | elapsed:    1.0s finished\n"
          ]
        },
        {
          "output_type": "stream",
          "name": "stdout",
          "text": [
            "0.149 --> "
          ]
        },
        {
          "output_type": "stream",
          "name": "stderr",
          "text": [
            "[Parallel(n_jobs=1)]: Using backend SequentialBackend with 1 concurrent workers.\n",
            "[Parallel(n_jobs=1)]: Done 8000 out of 8000 | elapsed:    1.0s finished\n"
          ]
        },
        {
          "output_type": "stream",
          "name": "stdout",
          "text": [
            "0.148 --> "
          ]
        },
        {
          "output_type": "stream",
          "name": "stderr",
          "text": [
            "[Parallel(n_jobs=1)]: Using backend SequentialBackend with 1 concurrent workers.\n",
            "[Parallel(n_jobs=1)]: Done 8000 out of 8000 | elapsed:    1.0s finished\n"
          ]
        },
        {
          "output_type": "stream",
          "name": "stdout",
          "text": [
            "0.148 --> "
          ]
        },
        {
          "output_type": "stream",
          "name": "stderr",
          "text": [
            "[Parallel(n_jobs=1)]: Using backend SequentialBackend with 1 concurrent workers.\n",
            "[Parallel(n_jobs=1)]: Done 8000 out of 8000 | elapsed:    1.3s finished\n"
          ]
        },
        {
          "output_type": "stream",
          "name": "stdout",
          "text": [
            "0.148 --> "
          ]
        },
        {
          "output_type": "stream",
          "name": "stderr",
          "text": [
            "[Parallel(n_jobs=1)]: Using backend SequentialBackend with 1 concurrent workers.\n",
            "[Parallel(n_jobs=1)]: Done 8000 out of 8000 | elapsed:    1.1s finished\n"
          ]
        },
        {
          "output_type": "stream",
          "name": "stdout",
          "text": [
            "0.148 --> "
          ]
        },
        {
          "output_type": "stream",
          "name": "stderr",
          "text": [
            "[Parallel(n_jobs=1)]: Using backend SequentialBackend with 1 concurrent workers.\n",
            "[Parallel(n_jobs=1)]: Done 8000 out of 8000 | elapsed:    1.1s finished\n"
          ]
        },
        {
          "output_type": "stream",
          "name": "stdout",
          "text": [
            "0.148 --> "
          ]
        },
        {
          "output_type": "stream",
          "name": "stderr",
          "text": [
            "[Parallel(n_jobs=1)]: Using backend SequentialBackend with 1 concurrent workers.\n",
            "[Parallel(n_jobs=1)]: Done 8000 out of 8000 | elapsed:    1.0s finished\n"
          ]
        },
        {
          "output_type": "stream",
          "name": "stdout",
          "text": [
            "0.148 --> \n",
            "Init 2\n"
          ]
        },
        {
          "output_type": "stream",
          "name": "stderr",
          "text": [
            "[Parallel(n_jobs=1)]: Using backend SequentialBackend with 1 concurrent workers.\n",
            "[Parallel(n_jobs=1)]: Done 1000 out of 1000 | elapsed:    0.1s finished\n",
            "[Parallel(n_jobs=1)]: Using backend SequentialBackend with 1 concurrent workers.\n",
            "[Parallel(n_jobs=1)]: Done 4000 out of 4000 | elapsed:    0.5s finished\n",
            "[Parallel(n_jobs=1)]: Using backend SequentialBackend with 1 concurrent workers.\n",
            "[Parallel(n_jobs=1)]: Done 4000 out of 4000 | elapsed:    0.5s finished\n",
            "[Parallel(n_jobs=1)]: Using backend SequentialBackend with 1 concurrent workers.\n",
            "[Parallel(n_jobs=1)]: Done 4000 out of 4000 | elapsed:    0.6s finished\n",
            "[Parallel(n_jobs=1)]: Using backend SequentialBackend with 1 concurrent workers.\n",
            "[Parallel(n_jobs=1)]: Done 4000 out of 4000 | elapsed:    0.5s finished\n",
            "[Parallel(n_jobs=1)]: Using backend SequentialBackend with 1 concurrent workers.\n",
            "[Parallel(n_jobs=1)]: Done 4000 out of 4000 | elapsed:    0.5s finished\n",
            "[Parallel(n_jobs=1)]: Using backend SequentialBackend with 1 concurrent workers.\n",
            "[Parallel(n_jobs=1)]: Done 4000 out of 4000 | elapsed:    0.5s finished\n",
            "[Parallel(n_jobs=1)]: Using backend SequentialBackend with 1 concurrent workers.\n",
            "[Parallel(n_jobs=1)]: Done 4000 out of 4000 | elapsed:    0.7s finished\n",
            "[Parallel(n_jobs=1)]: Using backend SequentialBackend with 1 concurrent workers.\n",
            "[Parallel(n_jobs=1)]: Done 8000 out of 8000 | elapsed:    1.0s finished\n"
          ]
        },
        {
          "output_type": "stream",
          "name": "stdout",
          "text": [
            "0.189 --> "
          ]
        },
        {
          "output_type": "stream",
          "name": "stderr",
          "text": [
            "[Parallel(n_jobs=1)]: Using backend SequentialBackend with 1 concurrent workers.\n",
            "[Parallel(n_jobs=1)]: Done 8000 out of 8000 | elapsed:    1.0s finished\n"
          ]
        },
        {
          "output_type": "stream",
          "name": "stdout",
          "text": [
            "0.150 --> "
          ]
        },
        {
          "output_type": "stream",
          "name": "stderr",
          "text": [
            "[Parallel(n_jobs=1)]: Using backend SequentialBackend with 1 concurrent workers.\n",
            "[Parallel(n_jobs=1)]: Done 8000 out of 8000 | elapsed:    1.1s finished\n"
          ]
        },
        {
          "output_type": "stream",
          "name": "stdout",
          "text": [
            "0.145 --> "
          ]
        },
        {
          "output_type": "stream",
          "name": "stderr",
          "text": [
            "[Parallel(n_jobs=1)]: Using backend SequentialBackend with 1 concurrent workers.\n",
            "[Parallel(n_jobs=1)]: Done 8000 out of 8000 | elapsed:    1.0s finished\n"
          ]
        },
        {
          "output_type": "stream",
          "name": "stdout",
          "text": [
            "0.140 --> "
          ]
        },
        {
          "output_type": "stream",
          "name": "stderr",
          "text": [
            "[Parallel(n_jobs=1)]: Using backend SequentialBackend with 1 concurrent workers.\n",
            "[Parallel(n_jobs=1)]: Done 8000 out of 8000 | elapsed:    1.1s finished\n"
          ]
        },
        {
          "output_type": "stream",
          "name": "stdout",
          "text": [
            "0.139 --> "
          ]
        },
        {
          "output_type": "stream",
          "name": "stderr",
          "text": [
            "[Parallel(n_jobs=1)]: Using backend SequentialBackend with 1 concurrent workers.\n",
            "[Parallel(n_jobs=1)]: Done 8000 out of 8000 | elapsed:    1.1s finished\n"
          ]
        },
        {
          "output_type": "stream",
          "name": "stdout",
          "text": [
            "0.139 --> "
          ]
        },
        {
          "output_type": "stream",
          "name": "stderr",
          "text": [
            "[Parallel(n_jobs=1)]: Using backend SequentialBackend with 1 concurrent workers.\n",
            "[Parallel(n_jobs=1)]: Done 8000 out of 8000 | elapsed:    1.8s finished\n"
          ]
        },
        {
          "output_type": "stream",
          "name": "stdout",
          "text": [
            "0.139 --> "
          ]
        },
        {
          "output_type": "stream",
          "name": "stderr",
          "text": [
            "[Parallel(n_jobs=1)]: Using backend SequentialBackend with 1 concurrent workers.\n",
            "[Parallel(n_jobs=1)]: Done 8000 out of 8000 | elapsed:    1.0s finished\n"
          ]
        },
        {
          "output_type": "stream",
          "name": "stdout",
          "text": [
            "0.138 --> "
          ]
        },
        {
          "output_type": "stream",
          "name": "stderr",
          "text": [
            "[Parallel(n_jobs=1)]: Using backend SequentialBackend with 1 concurrent workers.\n",
            "[Parallel(n_jobs=1)]: Done 8000 out of 8000 | elapsed:    1.3s finished\n"
          ]
        },
        {
          "output_type": "stream",
          "name": "stdout",
          "text": [
            "0.138 --> "
          ]
        },
        {
          "output_type": "stream",
          "name": "stderr",
          "text": [
            "[Parallel(n_jobs=1)]: Using backend SequentialBackend with 1 concurrent workers.\n",
            "[Parallel(n_jobs=1)]: Done 8000 out of 8000 | elapsed:    1.1s finished\n"
          ]
        },
        {
          "output_type": "stream",
          "name": "stdout",
          "text": [
            "0.138 --> "
          ]
        },
        {
          "output_type": "stream",
          "name": "stderr",
          "text": [
            "[Parallel(n_jobs=1)]: Using backend SequentialBackend with 1 concurrent workers.\n",
            "[Parallel(n_jobs=1)]: Done 8000 out of 8000 | elapsed:    1.1s finished\n"
          ]
        },
        {
          "output_type": "stream",
          "name": "stdout",
          "text": [
            "0.138 --> "
          ]
        },
        {
          "output_type": "stream",
          "name": "stderr",
          "text": [
            "[Parallel(n_jobs=1)]: Using backend SequentialBackend with 1 concurrent workers.\n",
            "[Parallel(n_jobs=1)]: Done 8000 out of 8000 | elapsed:    1.0s finished\n"
          ]
        },
        {
          "output_type": "stream",
          "name": "stdout",
          "text": [
            "0.138 --> "
          ]
        },
        {
          "output_type": "stream",
          "name": "stderr",
          "text": [
            "[Parallel(n_jobs=1)]: Using backend SequentialBackend with 1 concurrent workers.\n",
            "[Parallel(n_jobs=1)]: Done 8000 out of 8000 | elapsed:    1.0s finished\n"
          ]
        },
        {
          "output_type": "stream",
          "name": "stdout",
          "text": [
            "0.138 --> "
          ]
        },
        {
          "output_type": "stream",
          "name": "stderr",
          "text": [
            "[Parallel(n_jobs=1)]: Using backend SequentialBackend with 1 concurrent workers.\n",
            "[Parallel(n_jobs=1)]: Done 8000 out of 8000 | elapsed:    1.0s finished\n"
          ]
        },
        {
          "output_type": "stream",
          "name": "stdout",
          "text": [
            "0.138 --> "
          ]
        },
        {
          "output_type": "stream",
          "name": "stderr",
          "text": [
            "[Parallel(n_jobs=1)]: Using backend SequentialBackend with 1 concurrent workers.\n",
            "[Parallel(n_jobs=1)]: Done 8000 out of 8000 | elapsed:    1.3s finished\n"
          ]
        },
        {
          "output_type": "stream",
          "name": "stdout",
          "text": [
            "0.138 --> "
          ]
        },
        {
          "output_type": "stream",
          "name": "stderr",
          "text": [
            "[Parallel(n_jobs=1)]: Using backend SequentialBackend with 1 concurrent workers.\n",
            "[Parallel(n_jobs=1)]: Done 8000 out of 8000 | elapsed:    1.1s finished\n"
          ]
        },
        {
          "output_type": "stream",
          "name": "stdout",
          "text": [
            "0.138 --> "
          ]
        },
        {
          "output_type": "stream",
          "name": "stderr",
          "text": [
            "[Parallel(n_jobs=1)]: Using backend SequentialBackend with 1 concurrent workers.\n",
            "[Parallel(n_jobs=1)]: Done 8000 out of 8000 | elapsed:    1.1s finished\n"
          ]
        },
        {
          "output_type": "stream",
          "name": "stdout",
          "text": [
            "0.138 --> "
          ]
        },
        {
          "output_type": "stream",
          "name": "stderr",
          "text": [
            "[Parallel(n_jobs=1)]: Using backend SequentialBackend with 1 concurrent workers.\n",
            "[Parallel(n_jobs=1)]: Done 8000 out of 8000 | elapsed:    1.1s finished\n"
          ]
        },
        {
          "output_type": "stream",
          "name": "stdout",
          "text": [
            "0.138 --> \n"
          ]
        },
        {
          "output_type": "stream",
          "name": "stderr",
          "text": [
            "[Parallel(n_jobs=1)]: Using backend SequentialBackend with 1 concurrent workers.\n",
            "[Parallel(n_jobs=1)]: Done 8000 out of 8000 | elapsed:    1.0s finished\n"
          ]
        },
        {
          "output_type": "display_data",
          "data": {
            "text/plain": [
              "<Figure size 1440x1440 with 7 Axes>"
            ],
            "image/png": "[encoded data removed]"
          },
          "metadata": {
            "needs_background": "light"
          }
        }
      ]
    },
    {
      "cell_type": "code",
      "source": [
        "# Soft-DTW-k-means\n",
        "print(\"Soft-DTW k-means\")\n",
        "sdtw_km = TimeSeriesKMeans(n_clusters=8,\n",
        "                           metric=\"softdtw\",\n",
        "                           metric_params={\"gamma\": .01},\n",
        "                           verbose=True,\n",
        "                           random_state=seed)\n",
        "y_pred = sdtw_km.fit_predict(X_train)\n",
        "plt.figure(figsize=(20,20))\n",
        "\n",
        "for yi in range(7):\n",
        "    plt.subplot(7, 7, 1 + yi)\n",
        "    for xx in X_train[y_pred == yi]:\n",
        "        plt.plot(xx.ravel(), \"k-\", alpha=.2)\n",
        "    plt.plot(sdtw_km.cluster_centers_[yi].ravel(), \"r-\")\n",
        "    plt.xlim(0, sz)\n",
        "    plt.ylim(-4, 4)\n",
        "    plt.text(0.55, 0.85,'Cluster %d' % (yi + 1),\n",
        "             transform=plt.gca().transAxes)\n",
        "    if yi == 1:\n",
        "        plt.title(\"Soft-DTW $k$-means\")\n",
        "\n",
        "plt.tight_layout()\n",
        "plt.show()"
      ],
      "metadata": {
        "colab": {
          "base_uri": "https://localhost:8080/",
          "height": 245
        },
        "id": "r_K9_ndoCxDo",
        "outputId": "7fd4cda4-c31e-4bdb-ba92-41a6804151bc"
      },
      "execution_count": 139,
      "outputs": [
        {
          "output_type": "stream",
          "name": "stdout",
          "text": [
            "Soft-DTW k-means\n",
            "0.089 --> 0.134 --> 0.137 --> 0.138 --> 0.138 --> 0.139 --> 0.139 --> 0.139 --> 0.139 --> 0.139 --> 0.139 --> 0.139 --> 0.139 --> 0.139 --> 0.139 --> 0.140 --> 0.139 --> 0.140 --> 0.140 --> 0.140 --> 0.140 --> 0.140 --> 0.140 --> 0.140 --> 0.140 --> 0.140 --> 0.140 --> 0.140 --> 0.140 --> 0.140 --> 0.140 --> 0.141 --> 0.141 --> 0.142 --> 0.142 --> 0.143 --> 0.143 --> 0.144 --> 0.144 --> 0.145 --> 0.145 --> 0.144 --> 0.145 --> 0.145 --> 0.145 --> 0.145 --> 0.144 --> 0.145 --> 0.144 --> 0.145 --> \n"
          ]
        },
        {
          "output_type": "display_data",
          "data": {
            "text/plain": [
              "<Figure size 1440x1440 with 7 Axes>"
            ],
            "image/png": "[encoded data removed]"
          },
          "metadata": {
            "needs_background": "light"
          }
        }
      ]
    }
  ]
}