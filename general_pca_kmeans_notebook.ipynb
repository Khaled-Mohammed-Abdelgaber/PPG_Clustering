{
  "nbformat": 4,
  "nbformat_minor": 0,
  "metadata": {
    "colab": {
      "name": "general pca kmeans notebook.ipynb",
      "provenance": [],
      "authorship_tag": "ABX9TyO83sQ36dcKhaLoYIpVsHJ+",
      "include_colab_link": true
    },
    "kernelspec": {
      "name": "python3",
      "display_name": "Python 3"
    },
    "language_info": {
      "name": "python"
    }
  },
  "cells": [
    {
      "cell_type": "markdown",
      "metadata": {
        "id": "view-in-github",
        "colab_type": "text"
      },
      "source": [
        "<a href=\"https://colab.research.google.com/github/Khaled-Mohammed-Abdelgaber/PPG_Clustering/blob/main/general_pca_kmeans_notebook.ipynb\" target=\"_parent\"><img src=\"https://colab.research.google.com/assets/colab-badge.svg\" alt=\"Open In Colab\"/></a>"
      ]
    },
    {
      "cell_type": "code",
      "execution_count": 2,
      "metadata": {
        "colab": {
          "base_uri": "https://localhost:8080/"
        },
        "id": "GBp0LBqYbVr_",
        "outputId": "0fdcd773-40df-466d-9ed3-6669b1d0bf03"
      },
      "outputs": [
        {
          "output_type": "stream",
          "name": "stdout",
          "text": [
            "Drive already mounted at /content/gdrive; to attempt to forcibly remount, call drive.mount(\"/content/gdrive\", force_remount=True).\n"
          ]
        }
      ],
      "source": [
        "from google.colab import drive\n",
        "drive.mount('/content/gdrive')"
      ]
    },
    {
      "cell_type": "code",
      "source": [
        "import pandas as pd \n",
        "import matplotlib.pyplot as plt\n",
        "import numpy as np\n",
        "import time\n",
        "from sklearn.decomposition import PCA\n",
        "from sklearn.cluster import KMeans\n",
        "from sklearn.metrics import silhouette_score\n",
        "import matplotlib.pyplot as plt\n",
        "import matplotlib.cm as cm"
      ],
      "metadata": {
        "id": "c_dKa4tObfSJ"
      },
      "execution_count": 3,
      "outputs": []
    },
    {
      "cell_type": "code",
      "source": [
        "def features_generator(pca_components=2,data_frame_bool = False,np_bool = True):\n",
        "  \"\"\" \n",
        "  function take number of pca components and return dataframe or numpy array contains\n",
        "  pca components, normalized systolic/diastolic, normalized systolic, and normalized diastolic \n",
        "   \"\"\" \n",
        "  df = pd.DataFrame()\n",
        "\n",
        "  all_pca = pd.read_csv(\"/content/gdrive/MyDrive/data/pca100_200000.csv\")\n",
        "  all_pca = all_pca.drop(\"Unnamed: 0\",axis = 1)\n",
        "  sys_dia = pd.read_csv(\"/content/gdrive/MyDrive/data/sys_dia_pca1_pca2.csv\")\n",
        "  df[\"norm_sys\"] = sys_dia['systolic'] / sys_dia['systolic'].max() \n",
        "  df[\"norm_dia\"] = sys_dia['diastolic'] / sys_dia['diastolic'].max() \n",
        "  df[\"sys_by_dia\"] = df[\"norm_sys\"] / df['norm_dia']\n",
        "  if data_frame_bool:\n",
        "    for i in range(pca_components):\n",
        "      col_name = \"pca\"+str(i)\n",
        "      df[col_name] = all_pca[str(i)]\n",
        "    \n",
        "    return df\n",
        "  else:\n",
        "    for i in range(pca_components):\n",
        "      col_name = \"pca\"+str(i)\n",
        "      df[col_name] = all_pca[str(i)]\n",
        "    \n",
        "    return df.values\n",
        "\n"
      ],
      "metadata": {
        "id": "5Yjx9GHxkhm4"
      },
      "execution_count": 4,
      "outputs": []
    },
    {
      "cell_type": "code",
      "source": [
        "def Silhouette_analysis(data,start , stop , step):\n",
        "  range_n_clusters = list(range(start,stop,step))\n",
        "  silhouette_avg = []\n",
        "  prev_score = 0.\n",
        "  for num_clusters in range_n_clusters:\n",
        "    # initialise kmeans\n",
        "    kmeans = KMeans(n_clusters=num_clusters)\n",
        "    kmeans.fit(data)\n",
        "    cluster_labels = kmeans.labels_   \n",
        "    # silhouette score\n",
        "    sil_score = silhouette_score(data, cluster_labels)\n",
        "    if sil_score >= prev_score:\n",
        "      silhouette_avg.append(sil_score)\n",
        "      prev_score = sil_score\n",
        "    else:\n",
        "      break\n",
        "    print(\"K = \",num_clusters,\" finished\")\n",
        "    l = len(silhouette_avg)\n",
        "  plt.plot(range_n_clusters[0:l],silhouette_avg,\"bx-\")\n",
        "  plt.xlabel('Values of K') \n",
        "  plt.ylabel(\"‘Silhouette score’\") \n",
        "  plt.title(\"‘Silhouette analysis For Optimal k’\")\n",
        "  plt.show()\n",
        "  max_index = silhouette_avg.index(max(silhouette_avg))\n",
        "  \n",
        "  return  range_n_clusters[max_index]"
      ],
      "metadata": {
        "id": "ChAdswFhhTXO"
      },
      "execution_count": 12,
      "outputs": []
    },
    {
      "cell_type": "code",
      "source": [
        "#k-means plotter \n",
        "def kmeans_plotter(k , data,starCluster,stopCluster ):\n",
        "  kmeans = KMeans(n_clusters=k,max_iter = 10000)\n",
        "  kmeans.fit(data)\n",
        "  cluster_labels = kmeans.labels_\n",
        "  pca = PCA(n_components=2)\n",
        "  pca_values = pca.fit_transform(data)\n",
        "  dic = {}\n",
        "  x = np.arange(k)\n",
        "  ys = [i+x+(i*x)**2 for i in range(k)]\n",
        "\n",
        "  colors = cm.rainbow(np.linspace(0, 1, len(ys)))\n",
        "  for i in range(starCluster,stopCluster):\n",
        "    print(\"number of datasets of cluster \",i,\" = \",cluster_labels[cluster_labels == i].shape[0])\n",
        "    print(\"color of cluster\",i,\" is \",colors[i])\n",
        "    dic[i] = pca_values[cluster_labels == i]\n",
        "    plt.scatter(dic[i][:1000,0],dic[i][:1000,1],color = colors[i])\n",
        "  return cluster_labels"
      ],
      "metadata": {
        "id": "cTm00Mynd9Tw"
      },
      "execution_count": 6,
      "outputs": []
    },
    {
      "cell_type": "code",
      "source": [
        "features = features_generator(2,data_frame_bool=True,np_bool=False)\n"
      ],
      "metadata": {
        "id": "7AXhxOChgC5B"
      },
      "execution_count": 47,
      "outputs": []
    },
    {
      "cell_type": "code",
      "source": [
        "best_k = Silhouette_analysis(features,4,20,2)"
      ],
      "metadata": {
        "colab": {
          "base_uri": "https://localhost:8080/",
          "height": 332
        },
        "id": "KcNcpnzzfhof",
        "outputId": "3e30d248-0742-4376-c5a5-b2f2f6826943"
      },
      "execution_count": 48,
      "outputs": [
        {
          "output_type": "stream",
          "name": "stdout",
          "text": [
            "K =  4  finished\n",
            "K =  6  finished\n"
          ]
        },
        {
          "output_type": "display_data",
          "data": {
            "text/plain": [
              "<Figure size 432x288 with 1 Axes>"
            ],
            "image/png": "[encoded data removed]"
          },
          "metadata": {
            "needs_background": "light"
          }
        }
      ]
    },
    {
      "cell_type": "code",
      "source": [
        "best_k"
      ],
      "metadata": {
        "colab": {
          "base_uri": "https://localhost:8080/"
        },
        "id": "xMZmUrJcSWhQ",
        "outputId": "25503264-0976-4507-9a16-7377c2cfd821"
      },
      "execution_count": 49,
      "outputs": [
        {
          "output_type": "execute_result",
          "data": {
            "text/plain": [
              "6"
            ]
          },
          "metadata": {},
          "execution_count": 49
        }
      ]
    },
    {
      "cell_type": "code",
      "source": [
        "labels = kmeans_plotter(best_k, features,0,best_k )"
      ],
      "metadata": {
        "colab": {
          "base_uri": "https://localhost:8080/",
          "height": 486
        },
        "id": "qKOFkGuSnYVg",
        "outputId": "9722a7e2-ce7c-491a-c785-01511244d330"
      },
      "execution_count": 52,
      "outputs": [
        {
          "output_type": "stream",
          "name": "stdout",
          "text": [
            "number of datasets of cluster  0  =  141490\n",
            "color of cluster 0  is  [0.5 0.  1.  1. ]\n",
            "number of datasets of cluster  1  =  13357\n",
            "color of cluster 1  is  [0.1        0.58778525 0.95105652 1.        ]\n",
            "number of datasets of cluster  2  =  12859\n",
            "color of cluster 2  is  [0.3        0.95105652 0.80901699 1.        ]\n",
            "number of datasets of cluster  3  =  12844\n",
            "color of cluster 3  is  [0.7        0.95105652 0.58778525 1.        ]\n",
            "number of datasets of cluster  4  =  12714\n",
            "color of cluster 4  is  [1.         0.58778525 0.30901699 1.        ]\n",
            "number of datasets of cluster  5  =  12587\n",
            "color of cluster 5  is  [1.0000000e+00 1.2246468e-16 6.1232340e-17 1.0000000e+00]\n"
          ]
        },
        {
          "output_type": "display_data",
          "data": {
            "text/plain": [
              "<Figure size 432x288 with 1 Axes>"
            ],
            "image/png": "[encoded data removed]"
          },
          "metadata": {
            "needs_background": "light"
          }
        }
      ]
    },
    {
      "cell_type": "code",
      "source": [
        "import sklearn\n",
        "\n",
        "sklearn.metrics.davies_bouldin_score(features, labels)"
      ],
      "metadata": {
        "colab": {
          "base_uri": "https://localhost:8080/"
        },
        "id": "GcE5Jnee7fip",
        "outputId": "e805d30d-173c-4fc4-95a3-36a276fa0ba2"
      },
      "execution_count": 53,
      "outputs": [
        {
          "output_type": "execute_result",
          "data": {
            "text/plain": [
              "0.7141372204390762"
            ]
          },
          "metadata": {},
          "execution_count": 53
        }
      ]
    },
    {
      "cell_type": "code",
      "source": [
        "sklearn.metrics.calinski_harabasz_score(features, labels)\n"
      ],
      "metadata": {
        "colab": {
          "base_uri": "https://localhost:8080/"
        },
        "id": "bL7H-AE-8YGl",
        "outputId": "859710d4-74c0-4f4f-89c5-d99357521cf8"
      },
      "execution_count": 54,
      "outputs": [
        {
          "output_type": "execute_result",
          "data": {
            "text/plain": [
              "142496.94698565232"
            ]
          },
          "metadata": {},
          "execution_count": 54
        }
      ]
    }
  ]
}