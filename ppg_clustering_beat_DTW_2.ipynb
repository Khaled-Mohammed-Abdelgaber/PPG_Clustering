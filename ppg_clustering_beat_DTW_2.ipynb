{
  "nbformat": 4,
  "nbformat_minor": 0,
  "metadata": {
    "colab": {
      "name": "ppg_beat_DTW.ipynb",
      "provenance": [],
      "authorship_tag": "ABX9TyPw5SOZQr3NRzehLAemaeCv",
      "include_colab_link": true
    },
    "kernelspec": {
      "name": "python3",
      "display_name": "Python 3"
    },
    "language_info": {
      "name": "python"
    }
  },
  "cells": [
    {
      "cell_type": "markdown",
      "metadata": {
        "id": "view-in-github",
        "colab_type": "text"
      },
      "source": [
        "<a href=\"https://colab.research.google.com/github/Khaled-Mohammed-Abdelgaber/PPG_Clustering/blob/main/ppg_clustering_beat_DTW_2.ipynb\" target=\"_parent\"><img src=\"https://colab.research.google.com/assets/colab-badge.svg\" alt=\"Open In Colab\"/></a>"
      ]
    },
    {
      "cell_type": "code",
      "execution_count": 1,
      "metadata": {
        "colab": {
          "base_uri": "https://localhost:8080/"
        },
        "id": "ZmoBSYv06Ml3",
        "outputId": "f253bda1-55b8-427e-d4c1-6f3817001e2a"
      },
      "outputs": [
        {
          "output_type": "stream",
          "name": "stdout",
          "text": [
            "Mounted at /content/gdrive\n"
          ]
        }
      ],
      "source": [
        "from google.colab import drive\n",
        "drive.mount('/content/gdrive')"
      ]
    },
    {
      "cell_type": "code",
      "source": [
        "import pandas as pd \n",
        "import matplotlib.pyplot as plt\n",
        "import numpy as np"
      ],
      "metadata": {
        "id": "Jn6zI9cJ6sDF"
      },
      "execution_count": 2,
      "outputs": []
    },
    {
      "cell_type": "markdown",
      "source": [
        "# Heart rate equqlization function"
      ],
      "metadata": {
        "id": "dKwcVbD_BGwI"
      }
    },
    {
      "cell_type": "code",
      "source": [
        "from scipy.signal import find_peaks\n",
        "def rescale(arr, no_samples):\n",
        "    n = len(arr)\n",
        "    factor = no_samples/n\n",
        "    return np.interp(np.linspace(0, n, int(factor*n+1)), np.arange(n), arr)\n",
        "\n",
        "def heart_rate_equqlization(data_frame,no_samples,n_signals = 10001,p_threshold = 0.7):\n",
        "  eq_rate_data = pd.DataFrame()\n",
        "  for i in range(n_signals):\n",
        "    print(\"signal number \",i)\n",
        "    peaks, _ = find_peaks(data_frame.loc[i], height=p_threshold)\n",
        "    \n",
        "    np_sig = data_frame.iloc[i,:].values\n",
        "    #print(\"original signal : \")\n",
        "    #print(np_sig)\n",
        "    #print(\"=============================\")\n",
        "\n",
        "    mid_peak = peaks[int(len(peaks)/2)]\n",
        "    start = mid_peak\n",
        "    stop =peaks[int(len(peaks)/2)+1]\n",
        "    np_sig = np_sig[start:stop]\n",
        "    #print(\"cuted signal [np_signale] \\n \",np_sig)\n",
        "    #print(\"=============================\")\n",
        "    \n",
        "    \n",
        "    scaled = rescale(np_sig,no_samples)\n",
        "    df = pd.DataFrame(data = np.transpose(scaled) )\n",
        "    #print(\"final shape is \",df.values.shape)\n",
        "    #print(df.values)\n",
        "    #print(\"**************************************\")\n",
        "    eq_rate_data = pd.concat([eq_rate_data , df],axis = 1,ignore_index=True)\n",
        "  return eq_rate_data.transpose()"
      ],
      "metadata": {
        "id": "KjIWR7KUBFwG"
      },
      "execution_count": 65,
      "outputs": []
    },
    {
      "cell_type": "markdown",
      "source": [
        "# reading data"
      ],
      "metadata": {
        "id": "sppHmgJA63Gy"
      }
    },
    {
      "cell_type": "code",
      "source": [
        "ppg_csv2 = pd.read_csv(\"/content/gdrive/MyDrive/data/PPG_/2.csv\")\n",
        "ABP_csv2 = pd.read_csv(\"/content/gdrive/MyDrive/data/ABP_/2.csv\")\n",
        "ppg_csv2.head()"
      ],
      "metadata": {
        "colab": {
          "base_uri": "https://localhost:8080/",
          "height": 235
        },
        "id": "BVdamPST61o9",
        "outputId": "a72addc2-5aca-40ab-c326-8c2b7cbedbf1"
      },
      "execution_count": 51,
      "outputs": [
        {
          "output_type": "execute_result",
          "data": {
            "text/plain": [
              "         1        2        3        4        5        6        7        8  \\\n",
              "0  0.62666  0.54721  0.47260  0.40627  0.35051  0.30641  0.27399  0.25228   \n",
              "1  0.03850  0.05744  0.08861  0.13297  0.19053  0.26018  0.33985  0.42655   \n",
              "2  0.02279  0.02457  0.02600  0.02805  0.03210  0.03981  0.05300  0.07341   \n",
              "3  0.24520  0.26009  0.27128  0.27849  0.28182  0.28170  0.27876  0.27377   \n",
              "4  0.57657  0.50368  0.42721  0.35303  0.28631  0.23107  0.18983  0.16350   \n",
              "\n",
              "         9       10  ...     1015     1016     1017     1018     1019  \\\n",
              "0  0.23964  0.23397  ...  0.74482  0.82479  0.88590  0.92470  0.93946   \n",
              "1  0.51669  0.60637  ...  0.05267  0.05805  0.06082  0.06036  0.05660   \n",
              "2  0.10256  0.14146  ...  0.00840  0.00365  0.00080  0.00000  0.00116   \n",
              "3  0.26749  0.26060  ...  0.11479  0.11281  0.11491  0.12155  0.13270   \n",
              "4  0.15142  0.15160  ...  0.37350  0.45685  0.53778  0.61003  0.66785   \n",
              "\n",
              "      1020     1021     1022     1023     1024  \n",
              "0  0.93015  0.89849  0.84767  0.78203  0.70660  \n",
              "1  0.05009  0.04208  0.03443  0.02951  0.02998  \n",
              "2  0.00397  0.00790  0.01232  0.01658  0.02016  \n",
              "3  0.14788  0.16619  0.18644  0.20725  0.22726  \n",
              "4  0.70663  0.72333  0.71686  0.68809  0.63987  \n",
              "\n",
              "[5 rows x 1024 columns]"
            ],
            "text/html": [
              "\n",
              "  <div id=\"df-96bc0f9b-b06a-4075-8d96-4886249b254f\">\n",
              "    <div class=\"colab-df-container\">\n",
              "      <div>\n",
              "<style scoped>\n",
              "    .dataframe tbody tr th:only-of-type {\n",
              "        vertical-align: middle;\n",
              "    }\n",
              "\n",
              "    .dataframe tbody tr th {\n",
              "        vertical-align: top;\n",
              "    }\n",
              "\n",
              "    .dataframe thead th {\n",
              "        text-align: right;\n",
              "    }\n",
              "</style>\n",
              "<table border=\"1\" class=\"dataframe\">\n",
              "  <thead>\n",
              "    <tr style=\"text-align: right;\">\n",
              "      <th></th>\n",
              "      <th>1</th>\n",
              "      <th>2</th>\n",
              "      <th>3</th>\n",
              "      <th>4</th>\n",
              "      <th>5</th>\n",
              "      <th>6</th>\n",
              "      <th>7</th>\n",
              "      <th>8</th>\n",
              "      <th>9</th>\n",
              "      <th>10</th>\n",
              "      <th>...</th>\n",
              "      <th>1015</th>\n",
              "      <th>1016</th>\n",
              "      <th>1017</th>\n",
              "      <th>1018</th>\n",
              "      <th>1019</th>\n",
              "      <th>1020</th>\n",
              "      <th>1021</th>\n",
              "      <th>1022</th>\n",
              "      <th>1023</th>\n",
              "      <th>1024</th>\n",
              "    </tr>\n",
              "  </thead>\n",
              "  <tbody>\n",
              "    <tr>\n",
              "      <th>0</th>\n",
              "      <td>0.62666</td>\n",
              "      <td>0.54721</td>\n",
              "      <td>0.47260</td>\n",
              "      <td>0.40627</td>\n",
              "      <td>0.35051</td>\n",
              "      <td>0.30641</td>\n",
              "      <td>0.27399</td>\n",
              "      <td>0.25228</td>\n",
              "      <td>0.23964</td>\n",
              "      <td>0.23397</td>\n",
              "      <td>...</td>\n",
              "      <td>0.74482</td>\n",
              "      <td>0.82479</td>\n",
              "      <td>0.88590</td>\n",
              "      <td>0.92470</td>\n",
              "      <td>0.93946</td>\n",
              "      <td>0.93015</td>\n",
              "      <td>0.89849</td>\n",
              "      <td>0.84767</td>\n",
              "      <td>0.78203</td>\n",
              "      <td>0.70660</td>\n",
              "    </tr>\n",
              "    <tr>\n",
              "      <th>1</th>\n",
              "      <td>0.03850</td>\n",
              "      <td>0.05744</td>\n",
              "      <td>0.08861</td>\n",
              "      <td>0.13297</td>\n",
              "      <td>0.19053</td>\n",
              "      <td>0.26018</td>\n",
              "      <td>0.33985</td>\n",
              "      <td>0.42655</td>\n",
              "      <td>0.51669</td>\n",
              "      <td>0.60637</td>\n",
              "      <td>...</td>\n",
              "      <td>0.05267</td>\n",
              "      <td>0.05805</td>\n",
              "      <td>0.06082</td>\n",
              "      <td>0.06036</td>\n",
              "      <td>0.05660</td>\n",
              "      <td>0.05009</td>\n",
              "      <td>0.04208</td>\n",
              "      <td>0.03443</td>\n",
              "      <td>0.02951</td>\n",
              "      <td>0.02998</td>\n",
              "    </tr>\n",
              "    <tr>\n",
              "      <th>2</th>\n",
              "      <td>0.02279</td>\n",
              "      <td>0.02457</td>\n",
              "      <td>0.02600</td>\n",
              "      <td>0.02805</td>\n",
              "      <td>0.03210</td>\n",
              "      <td>0.03981</td>\n",
              "      <td>0.05300</td>\n",
              "      <td>0.07341</td>\n",
              "      <td>0.10256</td>\n",
              "      <td>0.14146</td>\n",
              "      <td>...</td>\n",
              "      <td>0.00840</td>\n",
              "      <td>0.00365</td>\n",
              "      <td>0.00080</td>\n",
              "      <td>0.00000</td>\n",
              "      <td>0.00116</td>\n",
              "      <td>0.00397</td>\n",
              "      <td>0.00790</td>\n",
              "      <td>0.01232</td>\n",
              "      <td>0.01658</td>\n",
              "      <td>0.02016</td>\n",
              "    </tr>\n",
              "    <tr>\n",
              "      <th>3</th>\n",
              "      <td>0.24520</td>\n",
              "      <td>0.26009</td>\n",
              "      <td>0.27128</td>\n",
              "      <td>0.27849</td>\n",
              "      <td>0.28182</td>\n",
              "      <td>0.28170</td>\n",
              "      <td>0.27876</td>\n",
              "      <td>0.27377</td>\n",
              "      <td>0.26749</td>\n",
              "      <td>0.26060</td>\n",
              "      <td>...</td>\n",
              "      <td>0.11479</td>\n",
              "      <td>0.11281</td>\n",
              "      <td>0.11491</td>\n",
              "      <td>0.12155</td>\n",
              "      <td>0.13270</td>\n",
              "      <td>0.14788</td>\n",
              "      <td>0.16619</td>\n",
              "      <td>0.18644</td>\n",
              "      <td>0.20725</td>\n",
              "      <td>0.22726</td>\n",
              "    </tr>\n",
              "    <tr>\n",
              "      <th>4</th>\n",
              "      <td>0.57657</td>\n",
              "      <td>0.50368</td>\n",
              "      <td>0.42721</td>\n",
              "      <td>0.35303</td>\n",
              "      <td>0.28631</td>\n",
              "      <td>0.23107</td>\n",
              "      <td>0.18983</td>\n",
              "      <td>0.16350</td>\n",
              "      <td>0.15142</td>\n",
              "      <td>0.15160</td>\n",
              "      <td>...</td>\n",
              "      <td>0.37350</td>\n",
              "      <td>0.45685</td>\n",
              "      <td>0.53778</td>\n",
              "      <td>0.61003</td>\n",
              "      <td>0.66785</td>\n",
              "      <td>0.70663</td>\n",
              "      <td>0.72333</td>\n",
              "      <td>0.71686</td>\n",
              "      <td>0.68809</td>\n",
              "      <td>0.63987</td>\n",
              "    </tr>\n",
              "  </tbody>\n",
              "</table>\n",
              "<p>5 rows × 1024 columns</p>\n",
              "</div>\n",
              "      <button class=\"colab-df-convert\" onclick=\"convertToInteractive('df-96bc0f9b-b06a-4075-8d96-4886249b254f')\"\n",
              "              title=\"Convert this dataframe to an interactive table.\"\n",
              "              style=\"display:none;\">\n",
              "        \n",
              "  <svg xmlns=\"http://www.w3.org/2000/svg\" height=\"24px\"viewBox=\"0 0 24 24\"\n",
              "       width=\"24px\">\n",
              "    <path d=\"M0 0h24v24H0V0z\" fill=\"none\"/>\n",
              "    <path d=\"M18.56 5.44l.94 2.06.94-2.06 2.06-.94-2.06-.94-.94-2.06-.94 2.06-2.06.94zm-11 1L8.5 8.5l.94-2.06 2.06-.94-2.06-.94L8.5 2.5l-.94 2.06-2.06.94zm10 10l.94 2.06.94-2.06 2.06-.94-2.06-.94-.94-2.06-.94 2.06-2.06.94z\"/><path d=\"M17.41 7.96l-1.37-1.37c-.4-.4-.92-.59-1.43-.59-.52 0-1.04.2-1.43.59L10.3 9.45l-7.72 7.72c-.78.78-.78 2.05 0 2.83L4 21.41c.39.39.9.59 1.41.59.51 0 1.02-.2 1.41-.59l7.78-7.78 2.81-2.81c.8-.78.8-2.07 0-2.86zM5.41 20L4 18.59l7.72-7.72 1.47 1.35L5.41 20z\"/>\n",
              "  </svg>\n",
              "      </button>\n",
              "      \n",
              "  <style>\n",
              "    .colab-df-container {\n",
              "      display:flex;\n",
              "      flex-wrap:wrap;\n",
              "      gap: 12px;\n",
              "    }\n",
              "\n",
              "    .colab-df-convert {\n",
              "      background-color: #E8F0FE;\n",
              "      border: none;\n",
              "      border-radius: 50%;\n",
              "      cursor: pointer;\n",
              "      display: none;\n",
              "      fill: #1967D2;\n",
              "      height: 32px;\n",
              "      padding: 0 0 0 0;\n",
              "      width: 32px;\n",
              "    }\n",
              "\n",
              "    .colab-df-convert:hover {\n",
              "      background-color: #E2EBFA;\n",
              "      box-shadow: 0px 1px 2px rgba(60, 64, 67, 0.3), 0px 1px 3px 1px rgba(60, 64, 67, 0.15);\n",
              "      fill: #174EA6;\n",
              "    }\n",
              "\n",
              "    [theme=dark] .colab-df-convert {\n",
              "      background-color: #3B4455;\n",
              "      fill: #D2E3FC;\n",
              "    }\n",
              "\n",
              "    [theme=dark] .colab-df-convert:hover {\n",
              "      background-color: #434B5C;\n",
              "      box-shadow: 0px 1px 3px 1px rgba(0, 0, 0, 0.15);\n",
              "      filter: drop-shadow(0px 1px 2px rgba(0, 0, 0, 0.3));\n",
              "      fill: #FFFFFF;\n",
              "    }\n",
              "  </style>\n",
              "\n",
              "      <script>\n",
              "        const buttonEl =\n",
              "          document.querySelector('#df-96bc0f9b-b06a-4075-8d96-4886249b254f button.colab-df-convert');\n",
              "        buttonEl.style.display =\n",
              "          google.colab.kernel.accessAllowed ? 'block' : 'none';\n",
              "\n",
              "        async function convertToInteractive(key) {\n",
              "          const element = document.querySelector('#df-96bc0f9b-b06a-4075-8d96-4886249b254f');\n",
              "          const dataTable =\n",
              "            await google.colab.kernel.invokeFunction('convertToInteractive',\n",
              "                                                     [key], {});\n",
              "          if (!dataTable) return;\n",
              "\n",
              "          const docLinkHtml = 'Like what you see? Visit the ' +\n",
              "            '<a target=\"_blank\" href=https://colab.research.google.com/notebooks/data_table.ipynb>data table notebook</a>'\n",
              "            + ' to learn more about interactive tables.';\n",
              "          element.innerHTML = '';\n",
              "          dataTable['output_type'] = 'display_data';\n",
              "          await google.colab.output.renderOutput(dataTable, element);\n",
              "          const docLink = document.createElement('div');\n",
              "          docLink.innerHTML = docLinkHtml;\n",
              "          element.appendChild(docLink);\n",
              "        }\n",
              "      </script>\n",
              "    </div>\n",
              "  </div>\n",
              "  "
            ]
          },
          "metadata": {},
          "execution_count": 51
        }
      ]
    },
    {
      "cell_type": "code",
      "source": [
        "ABP_csv2.head()"
      ],
      "metadata": {
        "id": "dGFBNhME4E93",
        "outputId": "582c2202-8d3e-4431-82a3-c8ecf6e5f917",
        "colab": {
          "base_uri": "https://localhost:8080/",
          "height": 235
        }
      },
      "execution_count": 5,
      "outputs": [
        {
          "output_type": "execute_result",
          "data": {
            "text/plain": [
              "         1        2        3        4        5        6        7        8  \\\n",
              "0   95.002   90.997   87.431   84.403   82.107   80.349   79.127   78.297   \n",
              "1   95.002   90.997   87.431   84.403   82.107   80.349   79.127   78.297   \n",
              "2  125.290  122.990  120.500  117.810  114.880  111.560  107.950  103.990   \n",
              "3   60.322   60.127   59.883   59.687   59.492   59.297   59.101   59.004   \n",
              "4   65.988   69.554   77.369   89.971  105.700  121.570  135.440  147.120   \n",
              "\n",
              "         9       10  ...    1015    1016    1017    1018    1019     1020  \\\n",
              "0   77.858   77.760  ...  143.16  142.19  140.82  139.16  137.45  135.640   \n",
              "1   77.858   77.760  ...  143.16  142.19  140.82  139.16  137.45  135.640   \n",
              "2   99.935   95.734  ...  111.61  120.55  127.97  133.69  137.54  139.990   \n",
              "3   58.808   58.662  ...  144.63  145.60  145.56  144.63  143.16  141.450   \n",
              "4  156.550  163.580  ...  111.36  107.12  103.99  101.89  100.47   99.691   \n",
              "\n",
              "      1021     1022     1023     1024  \n",
              "0  133.690  131.630  129.530  127.480  \n",
              "1  133.690  131.630  129.530  127.480  \n",
              "2  141.310  141.600  141.160  140.230  \n",
              "3  139.450  137.250  135.010  132.760  \n",
              "4   99.349   99.251   99.154   99.105  \n",
              "\n",
              "[5 rows x 1024 columns]"
            ],
            "text/html": [
              "\n",
              "  <div id=\"df-eeafcf63-8ca8-41f0-b2bc-239b7d7d1dc1\">\n",
              "    <div class=\"colab-df-container\">\n",
              "      <div>\n",
              "<style scoped>\n",
              "    .dataframe tbody tr th:only-of-type {\n",
              "        vertical-align: middle;\n",
              "    }\n",
              "\n",
              "    .dataframe tbody tr th {\n",
              "        vertical-align: top;\n",
              "    }\n",
              "\n",
              "    .dataframe thead th {\n",
              "        text-align: right;\n",
              "    }\n",
              "</style>\n",
              "<table border=\"1\" class=\"dataframe\">\n",
              "  <thead>\n",
              "    <tr style=\"text-align: right;\">\n",
              "      <th></th>\n",
              "      <th>1</th>\n",
              "      <th>2</th>\n",
              "      <th>3</th>\n",
              "      <th>4</th>\n",
              "      <th>5</th>\n",
              "      <th>6</th>\n",
              "      <th>7</th>\n",
              "      <th>8</th>\n",
              "      <th>9</th>\n",
              "      <th>10</th>\n",
              "      <th>...</th>\n",
              "      <th>1015</th>\n",
              "      <th>1016</th>\n",
              "      <th>1017</th>\n",
              "      <th>1018</th>\n",
              "      <th>1019</th>\n",
              "      <th>1020</th>\n",
              "      <th>1021</th>\n",
              "      <th>1022</th>\n",
              "      <th>1023</th>\n",
              "      <th>1024</th>\n",
              "    </tr>\n",
              "  </thead>\n",
              "  <tbody>\n",
              "    <tr>\n",
              "      <th>0</th>\n",
              "      <td>95.002</td>\n",
              "      <td>90.997</td>\n",
              "      <td>87.431</td>\n",
              "      <td>84.403</td>\n",
              "      <td>82.107</td>\n",
              "      <td>80.349</td>\n",
              "      <td>79.127</td>\n",
              "      <td>78.297</td>\n",
              "      <td>77.858</td>\n",
              "      <td>77.760</td>\n",
              "      <td>...</td>\n",
              "      <td>143.16</td>\n",
              "      <td>142.19</td>\n",
              "      <td>140.82</td>\n",
              "      <td>139.16</td>\n",
              "      <td>137.45</td>\n",
              "      <td>135.640</td>\n",
              "      <td>133.690</td>\n",
              "      <td>131.630</td>\n",
              "      <td>129.530</td>\n",
              "      <td>127.480</td>\n",
              "    </tr>\n",
              "    <tr>\n",
              "      <th>1</th>\n",
              "      <td>95.002</td>\n",
              "      <td>90.997</td>\n",
              "      <td>87.431</td>\n",
              "      <td>84.403</td>\n",
              "      <td>82.107</td>\n",
              "      <td>80.349</td>\n",
              "      <td>79.127</td>\n",
              "      <td>78.297</td>\n",
              "      <td>77.858</td>\n",
              "      <td>77.760</td>\n",
              "      <td>...</td>\n",
              "      <td>143.16</td>\n",
              "      <td>142.19</td>\n",
              "      <td>140.82</td>\n",
              "      <td>139.16</td>\n",
              "      <td>137.45</td>\n",
              "      <td>135.640</td>\n",
              "      <td>133.690</td>\n",
              "      <td>131.630</td>\n",
              "      <td>129.530</td>\n",
              "      <td>127.480</td>\n",
              "    </tr>\n",
              "    <tr>\n",
              "      <th>2</th>\n",
              "      <td>125.290</td>\n",
              "      <td>122.990</td>\n",
              "      <td>120.500</td>\n",
              "      <td>117.810</td>\n",
              "      <td>114.880</td>\n",
              "      <td>111.560</td>\n",
              "      <td>107.950</td>\n",
              "      <td>103.990</td>\n",
              "      <td>99.935</td>\n",
              "      <td>95.734</td>\n",
              "      <td>...</td>\n",
              "      <td>111.61</td>\n",
              "      <td>120.55</td>\n",
              "      <td>127.97</td>\n",
              "      <td>133.69</td>\n",
              "      <td>137.54</td>\n",
              "      <td>139.990</td>\n",
              "      <td>141.310</td>\n",
              "      <td>141.600</td>\n",
              "      <td>141.160</td>\n",
              "      <td>140.230</td>\n",
              "    </tr>\n",
              "    <tr>\n",
              "      <th>3</th>\n",
              "      <td>60.322</td>\n",
              "      <td>60.127</td>\n",
              "      <td>59.883</td>\n",
              "      <td>59.687</td>\n",
              "      <td>59.492</td>\n",
              "      <td>59.297</td>\n",
              "      <td>59.101</td>\n",
              "      <td>59.004</td>\n",
              "      <td>58.808</td>\n",
              "      <td>58.662</td>\n",
              "      <td>...</td>\n",
              "      <td>144.63</td>\n",
              "      <td>145.60</td>\n",
              "      <td>145.56</td>\n",
              "      <td>144.63</td>\n",
              "      <td>143.16</td>\n",
              "      <td>141.450</td>\n",
              "      <td>139.450</td>\n",
              "      <td>137.250</td>\n",
              "      <td>135.010</td>\n",
              "      <td>132.760</td>\n",
              "    </tr>\n",
              "    <tr>\n",
              "      <th>4</th>\n",
              "      <td>65.988</td>\n",
              "      <td>69.554</td>\n",
              "      <td>77.369</td>\n",
              "      <td>89.971</td>\n",
              "      <td>105.700</td>\n",
              "      <td>121.570</td>\n",
              "      <td>135.440</td>\n",
              "      <td>147.120</td>\n",
              "      <td>156.550</td>\n",
              "      <td>163.580</td>\n",
              "      <td>...</td>\n",
              "      <td>111.36</td>\n",
              "      <td>107.12</td>\n",
              "      <td>103.99</td>\n",
              "      <td>101.89</td>\n",
              "      <td>100.47</td>\n",
              "      <td>99.691</td>\n",
              "      <td>99.349</td>\n",
              "      <td>99.251</td>\n",
              "      <td>99.154</td>\n",
              "      <td>99.105</td>\n",
              "    </tr>\n",
              "  </tbody>\n",
              "</table>\n",
              "<p>5 rows × 1024 columns</p>\n",
              "</div>\n",
              "      <button class=\"colab-df-convert\" onclick=\"convertToInteractive('df-eeafcf63-8ca8-41f0-b2bc-239b7d7d1dc1')\"\n",
              "              title=\"Convert this dataframe to an interactive table.\"\n",
              "              style=\"display:none;\">\n",
              "        \n",
              "  <svg xmlns=\"http://www.w3.org/2000/svg\" height=\"24px\"viewBox=\"0 0 24 24\"\n",
              "       width=\"24px\">\n",
              "    <path d=\"M0 0h24v24H0V0z\" fill=\"none\"/>\n",
              "    <path d=\"M18.56 5.44l.94 2.06.94-2.06 2.06-.94-2.06-.94-.94-2.06-.94 2.06-2.06.94zm-11 1L8.5 8.5l.94-2.06 2.06-.94-2.06-.94L8.5 2.5l-.94 2.06-2.06.94zm10 10l.94 2.06.94-2.06 2.06-.94-2.06-.94-.94-2.06-.94 2.06-2.06.94z\"/><path d=\"M17.41 7.96l-1.37-1.37c-.4-.4-.92-.59-1.43-.59-.52 0-1.04.2-1.43.59L10.3 9.45l-7.72 7.72c-.78.78-.78 2.05 0 2.83L4 21.41c.39.39.9.59 1.41.59.51 0 1.02-.2 1.41-.59l7.78-7.78 2.81-2.81c.8-.78.8-2.07 0-2.86zM5.41 20L4 18.59l7.72-7.72 1.47 1.35L5.41 20z\"/>\n",
              "  </svg>\n",
              "      </button>\n",
              "      \n",
              "  <style>\n",
              "    .colab-df-container {\n",
              "      display:flex;\n",
              "      flex-wrap:wrap;\n",
              "      gap: 12px;\n",
              "    }\n",
              "\n",
              "    .colab-df-convert {\n",
              "      background-color: #E8F0FE;\n",
              "      border: none;\n",
              "      border-radius: 50%;\n",
              "      cursor: pointer;\n",
              "      display: none;\n",
              "      fill: #1967D2;\n",
              "      height: 32px;\n",
              "      padding: 0 0 0 0;\n",
              "      width: 32px;\n",
              "    }\n",
              "\n",
              "    .colab-df-convert:hover {\n",
              "      background-color: #E2EBFA;\n",
              "      box-shadow: 0px 1px 2px rgba(60, 64, 67, 0.3), 0px 1px 3px 1px rgba(60, 64, 67, 0.15);\n",
              "      fill: #174EA6;\n",
              "    }\n",
              "\n",
              "    [theme=dark] .colab-df-convert {\n",
              "      background-color: #3B4455;\n",
              "      fill: #D2E3FC;\n",
              "    }\n",
              "\n",
              "    [theme=dark] .colab-df-convert:hover {\n",
              "      background-color: #434B5C;\n",
              "      box-shadow: 0px 1px 3px 1px rgba(0, 0, 0, 0.15);\n",
              "      filter: drop-shadow(0px 1px 2px rgba(0, 0, 0, 0.3));\n",
              "      fill: #FFFFFF;\n",
              "    }\n",
              "  </style>\n",
              "\n",
              "      <script>\n",
              "        const buttonEl =\n",
              "          document.querySelector('#df-eeafcf63-8ca8-41f0-b2bc-239b7d7d1dc1 button.colab-df-convert');\n",
              "        buttonEl.style.display =\n",
              "          google.colab.kernel.accessAllowed ? 'block' : 'none';\n",
              "\n",
              "        async function convertToInteractive(key) {\n",
              "          const element = document.querySelector('#df-eeafcf63-8ca8-41f0-b2bc-239b7d7d1dc1');\n",
              "          const dataTable =\n",
              "            await google.colab.kernel.invokeFunction('convertToInteractive',\n",
              "                                                     [key], {});\n",
              "          if (!dataTable) return;\n",
              "\n",
              "          const docLinkHtml = 'Like what you see? Visit the ' +\n",
              "            '<a target=\"_blank\" href=https://colab.research.google.com/notebooks/data_table.ipynb>data table notebook</a>'\n",
              "            + ' to learn more about interactive tables.';\n",
              "          element.innerHTML = '';\n",
              "          dataTable['output_type'] = 'display_data';\n",
              "          await google.colab.output.renderOutput(dataTable, element);\n",
              "          const docLink = document.createElement('div');\n",
              "          docLink.innerHTML = docLinkHtml;\n",
              "          element.appendChild(docLink);\n",
              "        }\n",
              "      </script>\n",
              "    </div>\n",
              "  </div>\n",
              "  "
            ]
          },
          "metadata": {},
          "execution_count": 5
        }
      ]
    },
    {
      "cell_type": "code",
      "source": [
        "blood_df = pd.DataFrame()\n",
        "blood_df[\"systolic\"] = ABP_csv2.iloc[:1000,:].max(axis = 1)\n",
        "blood_df[\"diastolic\"] = ABP_csv2.iloc[:1000,:].min(axis = 1)\n"
      ],
      "metadata": {
        "id": "_kFdVUjJ5I_0"
      },
      "execution_count": 6,
      "outputs": []
    },
    {
      "cell_type": "code",
      "source": [
        "blood_df.head()"
      ],
      "metadata": {
        "id": "zjX_CxMz5DEk",
        "outputId": "c9a7005b-fced-4a1b-d50c-2fad3c70db7e",
        "colab": {
          "base_uri": "https://localhost:8080/",
          "height": 206
        }
      },
      "execution_count": 7,
      "outputs": [
        {
          "output_type": "execute_result",
          "data": {
            "text/plain": [
              "   systolic  diastolic\n",
              "0    144.43     52.947\n",
              "1    144.43     52.947\n",
              "2    143.36     52.752\n",
              "3    146.48     54.998\n",
              "4    177.11     65.060"
            ],
            "text/html": [
              "\n",
              "  <div id=\"df-b7d7c69f-cc52-478c-92b1-6a9156a83e58\">\n",
              "    <div class=\"colab-df-container\">\n",
              "      <div>\n",
              "<style scoped>\n",
              "    .dataframe tbody tr th:only-of-type {\n",
              "        vertical-align: middle;\n",
              "    }\n",
              "\n",
              "    .dataframe tbody tr th {\n",
              "        vertical-align: top;\n",
              "    }\n",
              "\n",
              "    .dataframe thead th {\n",
              "        text-align: right;\n",
              "    }\n",
              "</style>\n",
              "<table border=\"1\" class=\"dataframe\">\n",
              "  <thead>\n",
              "    <tr style=\"text-align: right;\">\n",
              "      <th></th>\n",
              "      <th>systolic</th>\n",
              "      <th>diastolic</th>\n",
              "    </tr>\n",
              "  </thead>\n",
              "  <tbody>\n",
              "    <tr>\n",
              "      <th>0</th>\n",
              "      <td>144.43</td>\n",
              "      <td>52.947</td>\n",
              "    </tr>\n",
              "    <tr>\n",
              "      <th>1</th>\n",
              "      <td>144.43</td>\n",
              "      <td>52.947</td>\n",
              "    </tr>\n",
              "    <tr>\n",
              "      <th>2</th>\n",
              "      <td>143.36</td>\n",
              "      <td>52.752</td>\n",
              "    </tr>\n",
              "    <tr>\n",
              "      <th>3</th>\n",
              "      <td>146.48</td>\n",
              "      <td>54.998</td>\n",
              "    </tr>\n",
              "    <tr>\n",
              "      <th>4</th>\n",
              "      <td>177.11</td>\n",
              "      <td>65.060</td>\n",
              "    </tr>\n",
              "  </tbody>\n",
              "</table>\n",
              "</div>\n",
              "      <button class=\"colab-df-convert\" onclick=\"convertToInteractive('df-b7d7c69f-cc52-478c-92b1-6a9156a83e58')\"\n",
              "              title=\"Convert this dataframe to an interactive table.\"\n",
              "              style=\"display:none;\">\n",
              "        \n",
              "  <svg xmlns=\"http://www.w3.org/2000/svg\" height=\"24px\"viewBox=\"0 0 24 24\"\n",
              "       width=\"24px\">\n",
              "    <path d=\"M0 0h24v24H0V0z\" fill=\"none\"/>\n",
              "    <path d=\"M18.56 5.44l.94 2.06.94-2.06 2.06-.94-2.06-.94-.94-2.06-.94 2.06-2.06.94zm-11 1L8.5 8.5l.94-2.06 2.06-.94-2.06-.94L8.5 2.5l-.94 2.06-2.06.94zm10 10l.94 2.06.94-2.06 2.06-.94-2.06-.94-.94-2.06-.94 2.06-2.06.94z\"/><path d=\"M17.41 7.96l-1.37-1.37c-.4-.4-.92-.59-1.43-.59-.52 0-1.04.2-1.43.59L10.3 9.45l-7.72 7.72c-.78.78-.78 2.05 0 2.83L4 21.41c.39.39.9.59 1.41.59.51 0 1.02-.2 1.41-.59l7.78-7.78 2.81-2.81c.8-.78.8-2.07 0-2.86zM5.41 20L4 18.59l7.72-7.72 1.47 1.35L5.41 20z\"/>\n",
              "  </svg>\n",
              "      </button>\n",
              "      \n",
              "  <style>\n",
              "    .colab-df-container {\n",
              "      display:flex;\n",
              "      flex-wrap:wrap;\n",
              "      gap: 12px;\n",
              "    }\n",
              "\n",
              "    .colab-df-convert {\n",
              "      background-color: #E8F0FE;\n",
              "      border: none;\n",
              "      border-radius: 50%;\n",
              "      cursor: pointer;\n",
              "      display: none;\n",
              "      fill: #1967D2;\n",
              "      height: 32px;\n",
              "      padding: 0 0 0 0;\n",
              "      width: 32px;\n",
              "    }\n",
              "\n",
              "    .colab-df-convert:hover {\n",
              "      background-color: #E2EBFA;\n",
              "      box-shadow: 0px 1px 2px rgba(60, 64, 67, 0.3), 0px 1px 3px 1px rgba(60, 64, 67, 0.15);\n",
              "      fill: #174EA6;\n",
              "    }\n",
              "\n",
              "    [theme=dark] .colab-df-convert {\n",
              "      background-color: #3B4455;\n",
              "      fill: #D2E3FC;\n",
              "    }\n",
              "\n",
              "    [theme=dark] .colab-df-convert:hover {\n",
              "      background-color: #434B5C;\n",
              "      box-shadow: 0px 1px 3px 1px rgba(0, 0, 0, 0.15);\n",
              "      filter: drop-shadow(0px 1px 2px rgba(0, 0, 0, 0.3));\n",
              "      fill: #FFFFFF;\n",
              "    }\n",
              "  </style>\n",
              "\n",
              "      <script>\n",
              "        const buttonEl =\n",
              "          document.querySelector('#df-b7d7c69f-cc52-478c-92b1-6a9156a83e58 button.colab-df-convert');\n",
              "        buttonEl.style.display =\n",
              "          google.colab.kernel.accessAllowed ? 'block' : 'none';\n",
              "\n",
              "        async function convertToInteractive(key) {\n",
              "          const element = document.querySelector('#df-b7d7c69f-cc52-478c-92b1-6a9156a83e58');\n",
              "          const dataTable =\n",
              "            await google.colab.kernel.invokeFunction('convertToInteractive',\n",
              "                                                     [key], {});\n",
              "          if (!dataTable) return;\n",
              "\n",
              "          const docLinkHtml = 'Like what you see? Visit the ' +\n",
              "            '<a target=\"_blank\" href=https://colab.research.google.com/notebooks/data_table.ipynb>data table notebook</a>'\n",
              "            + ' to learn more about interactive tables.';\n",
              "          element.innerHTML = '';\n",
              "          dataTable['output_type'] = 'display_data';\n",
              "          await google.colab.output.renderOutput(dataTable, element);\n",
              "          const docLink = document.createElement('div');\n",
              "          docLink.innerHTML = docLinkHtml;\n",
              "          element.appendChild(docLink);\n",
              "        }\n",
              "      </script>\n",
              "    </div>\n",
              "  </div>\n",
              "  "
            ]
          },
          "metadata": {},
          "execution_count": 7
        }
      ]
    },
    {
      "cell_type": "code",
      "source": [
        "\n",
        "scaled_df = heart_rate_equqlization(ppg_csv2,no_samples = 64,n_signals = 1000,p_threshold = 0.7)"
      ],
      "metadata": {
        "colab": {
          "base_uri": "https://localhost:8080/",
          "height": 1000
        },
        "id": "LaCpBiHR65jY",
        "outputId": "cb1e1ebb-0a4e-4dc3-d47d-8ed5e6447f47"
      },
      "execution_count": 62,
      "outputs": [
        {
          "output_type": "stream",
          "name": "stdout",
          "text": [
            "signal number  0\n",
            "signal number  1\n",
            "signal number  2\n",
            "signal number  3\n",
            "signal number  4\n",
            "signal number  5\n",
            "signal number  6\n",
            "signal number  7\n",
            "signal number  8\n",
            "signal number  9\n",
            "signal number  10\n",
            "signal number  11\n",
            "signal number  12\n",
            "signal number  13\n",
            "signal number  14\n",
            "signal number  15\n",
            "signal number  16\n",
            "signal number  17\n",
            "signal number  18\n",
            "signal number  19\n",
            "signal number  20\n",
            "signal number  21\n",
            "signal number  22\n",
            "signal number  23\n",
            "signal number  24\n",
            "signal number  25\n",
            "signal number  26\n",
            "signal number  27\n",
            "signal number  28\n",
            "signal number  29\n",
            "signal number  30\n",
            "signal number  31\n",
            "signal number  32\n",
            "signal number  33\n",
            "signal number  34\n",
            "signal number  35\n",
            "signal number  36\n",
            "signal number  37\n",
            "signal number  38\n",
            "signal number  39\n",
            "signal number  40\n",
            "signal number  41\n",
            "signal number  42\n",
            "signal number  43\n",
            "signal number  44\n",
            "signal number  45\n",
            "signal number  46\n",
            "signal number  47\n",
            "signal number  48\n",
            "signal number  49\n",
            "signal number  50\n",
            "signal number  51\n",
            "signal number  52\n",
            "signal number  53\n",
            "signal number  54\n",
            "signal number  55\n",
            "signal number  56\n",
            "signal number  57\n",
            "signal number  58\n",
            "signal number  59\n",
            "signal number  60\n",
            "signal number  61\n",
            "signal number  62\n",
            "signal number  63\n",
            "signal number  64\n",
            "signal number  65\n",
            "signal number  66\n",
            "signal number  67\n",
            "signal number  68\n",
            "signal number  69\n",
            "signal number  70\n",
            "signal number  71\n",
            "signal number  72\n",
            "signal number  73\n",
            "signal number  74\n",
            "signal number  75\n",
            "signal number  76\n",
            "signal number  77\n",
            "signal number  78\n",
            "signal number  79\n",
            "signal number  80\n",
            "signal number  81\n",
            "signal number  82\n",
            "signal number  83\n",
            "signal number  84\n",
            "signal number  85\n",
            "signal number  86\n",
            "signal number  87\n",
            "signal number  88\n",
            "signal number  89\n",
            "signal number  90\n",
            "signal number  91\n",
            "signal number  92\n",
            "signal number  93\n",
            "signal number  94\n",
            "signal number  95\n",
            "signal number  96\n",
            "signal number  97\n",
            "signal number  98\n",
            "signal number  99\n",
            "signal number  100\n",
            "signal number  101\n",
            "signal number  102\n",
            "signal number  103\n",
            "signal number  104\n",
            "signal number  105\n",
            "signal number  106\n",
            "signal number  107\n",
            "signal number  108\n",
            "signal number  109\n",
            "signal number  110\n",
            "signal number  111\n",
            "signal number  112\n",
            "signal number  113\n",
            "signal number  114\n",
            "signal number  115\n",
            "signal number  116\n",
            "signal number  117\n",
            "signal number  118\n",
            "signal number  119\n",
            "signal number  120\n",
            "signal number  121\n",
            "signal number  122\n",
            "signal number  123\n",
            "signal number  124\n",
            "signal number  125\n",
            "signal number  126\n",
            "signal number  127\n",
            "signal number  128\n",
            "signal number  129\n",
            "signal number  130\n",
            "signal number  131\n",
            "signal number  132\n",
            "signal number  133\n",
            "signal number  134\n",
            "signal number  135\n",
            "signal number  136\n",
            "signal number  137\n",
            "signal number  138\n",
            "signal number  139\n",
            "signal number  140\n",
            "signal number  141\n",
            "signal number  142\n",
            "signal number  143\n",
            "signal number  144\n",
            "signal number  145\n",
            "signal number  146\n",
            "signal number  147\n",
            "signal number  148\n",
            "signal number  149\n",
            "signal number  150\n",
            "signal number  151\n",
            "signal number  152\n",
            "signal number  153\n",
            "signal number  154\n",
            "signal number  155\n",
            "signal number  156\n",
            "signal number  157\n",
            "signal number  158\n",
            "signal number  159\n",
            "signal number  160\n",
            "signal number  161\n",
            "signal number  162\n",
            "signal number  163\n",
            "signal number  164\n",
            "signal number  165\n",
            "signal number  166\n",
            "signal number  167\n",
            "signal number  168\n",
            "signal number  169\n",
            "signal number  170\n",
            "signal number  171\n",
            "signal number  172\n",
            "signal number  173\n",
            "signal number  174\n",
            "signal number  175\n",
            "signal number  176\n",
            "signal number  177\n",
            "signal number  178\n",
            "signal number  179\n",
            "signal number  180\n",
            "signal number  181\n",
            "signal number  182\n",
            "signal number  183\n",
            "signal number  184\n",
            "signal number  185\n",
            "signal number  186\n",
            "signal number  187\n",
            "signal number  188\n",
            "signal number  189\n",
            "signal number  190\n",
            "signal number  191\n",
            "signal number  192\n",
            "signal number  193\n",
            "signal number  194\n",
            "signal number  195\n",
            "signal number  196\n",
            "signal number  197\n",
            "signal number  198\n",
            "signal number  199\n",
            "signal number  200\n",
            "signal number  201\n",
            "signal number  202\n",
            "signal number  203\n",
            "signal number  204\n",
            "signal number  205\n",
            "signal number  206\n",
            "signal number  207\n",
            "signal number  208\n",
            "signal number  209\n",
            "signal number  210\n",
            "signal number  211\n",
            "signal number  212\n",
            "signal number  213\n",
            "signal number  214\n",
            "signal number  215\n",
            "signal number  216\n",
            "signal number  217\n",
            "signal number  218\n",
            "signal number  219\n",
            "signal number  220\n",
            "signal number  221\n",
            "signal number  222\n",
            "signal number  223\n",
            "signal number  224\n",
            "signal number  225\n",
            "signal number  226\n",
            "signal number  227\n",
            "signal number  228\n",
            "signal number  229\n",
            "signal number  230\n",
            "signal number  231\n",
            "signal number  232\n",
            "signal number  233\n",
            "signal number  234\n",
            "signal number  235\n",
            "signal number  236\n",
            "signal number  237\n",
            "signal number  238\n",
            "signal number  239\n",
            "signal number  240\n",
            "signal number  241\n",
            "signal number  242\n",
            "signal number  243\n",
            "signal number  244\n",
            "signal number  245\n",
            "signal number  246\n",
            "signal number  247\n",
            "signal number  248\n",
            "signal number  249\n",
            "signal number  250\n",
            "signal number  251\n",
            "signal number  252\n",
            "signal number  253\n",
            "signal number  254\n",
            "signal number  255\n",
            "signal number  256\n",
            "signal number  257\n",
            "signal number  258\n",
            "signal number  259\n",
            "signal number  260\n",
            "signal number  261\n",
            "signal number  262\n",
            "signal number  263\n",
            "signal number  264\n",
            "signal number  265\n",
            "signal number  266\n",
            "signal number  267\n",
            "signal number  268\n",
            "signal number  269\n",
            "signal number  270\n",
            "signal number  271\n",
            "signal number  272\n",
            "signal number  273\n",
            "signal number  274\n",
            "signal number  275\n",
            "signal number  276\n",
            "signal number  277\n",
            "signal number  278\n",
            "signal number  279\n",
            "signal number  280\n",
            "signal number  281\n",
            "signal number  282\n",
            "signal number  283\n",
            "signal number  284\n",
            "signal number  285\n",
            "signal number  286\n",
            "signal number  287\n",
            "signal number  288\n",
            "signal number  289\n",
            "signal number  290\n",
            "signal number  291\n",
            "signal number  292\n",
            "signal number  293\n",
            "signal number  294\n",
            "signal number  295\n",
            "signal number  296\n",
            "signal number  297\n",
            "signal number  298\n",
            "signal number  299\n",
            "signal number  300\n",
            "signal number  301\n",
            "signal number  302\n",
            "signal number  303\n",
            "signal number  304\n",
            "signal number  305\n",
            "signal number  306\n",
            "signal number  307\n",
            "signal number  308\n",
            "signal number  309\n",
            "signal number  310\n",
            "signal number  311\n",
            "signal number  312\n",
            "signal number  313\n",
            "signal number  314\n",
            "signal number  315\n",
            "signal number  316\n",
            "signal number  317\n",
            "signal number  318\n",
            "signal number  319\n",
            "signal number  320\n",
            "signal number  321\n",
            "signal number  322\n",
            "signal number  323\n",
            "signal number  324\n",
            "signal number  325\n",
            "signal number  326\n",
            "signal number  327\n",
            "signal number  328\n",
            "signal number  329\n",
            "signal number  330\n"
          ]
        },
        {
          "output_type": "error",
          "ename": "IndexError",
          "evalue": "ignored",
          "traceback": [
            "\u001b[0;31m---------------------------------------------------------------------------\u001b[0m",
            "\u001b[0;31mIndexError\u001b[0m                                Traceback (most recent call last)",
            "\u001b[0;32m<ipython-input-62-15806e648f1f>\u001b[0m in \u001b[0;36m<module>\u001b[0;34m()\u001b[0m\n\u001b[1;32m      1\u001b[0m \u001b[0;34m\u001b[0m\u001b[0m\n\u001b[0;32m----> 2\u001b[0;31m \u001b[0mscaled_df\u001b[0m \u001b[0;34m=\u001b[0m \u001b[0mheart_rate_equqlization\u001b[0m\u001b[0;34m(\u001b[0m\u001b[0mppg_csv2\u001b[0m\u001b[0;34m,\u001b[0m\u001b[0mno_samples\u001b[0m \u001b[0;34m=\u001b[0m \u001b[0;36m64\u001b[0m\u001b[0;34m,\u001b[0m\u001b[0mn_signals\u001b[0m \u001b[0;34m=\u001b[0m \u001b[0;36m1000\u001b[0m\u001b[0;34m,\u001b[0m\u001b[0mp_threshold\u001b[0m \u001b[0;34m=\u001b[0m \u001b[0;36m0.7\u001b[0m\u001b[0;34m)\u001b[0m\u001b[0;34m\u001b[0m\u001b[0;34m\u001b[0m\u001b[0m\n\u001b[0m",
            "\u001b[0;32m<ipython-input-61-1a952bdc3a7d>\u001b[0m in \u001b[0;36mheart_rate_equqlization\u001b[0;34m(data_frame, no_samples, n_signals, p_threshold)\u001b[0m\n\u001b[1;32m     18\u001b[0m     \u001b[0mmid_peak\u001b[0m \u001b[0;34m=\u001b[0m \u001b[0mpeaks\u001b[0m\u001b[0;34m[\u001b[0m\u001b[0mint\u001b[0m\u001b[0;34m(\u001b[0m\u001b[0mlen\u001b[0m\u001b[0;34m(\u001b[0m\u001b[0mpeaks\u001b[0m\u001b[0;34m)\u001b[0m\u001b[0;34m/\u001b[0m\u001b[0;36m2\u001b[0m\u001b[0;34m)\u001b[0m\u001b[0;34m]\u001b[0m\u001b[0;34m\u001b[0m\u001b[0;34m\u001b[0m\u001b[0m\n\u001b[1;32m     19\u001b[0m     \u001b[0mstart\u001b[0m \u001b[0;34m=\u001b[0m \u001b[0mmid_peak\u001b[0m\u001b[0;34m\u001b[0m\u001b[0;34m\u001b[0m\u001b[0m\n\u001b[0;32m---> 20\u001b[0;31m     \u001b[0mstop\u001b[0m \u001b[0;34m=\u001b[0m\u001b[0mpeaks\u001b[0m\u001b[0;34m[\u001b[0m\u001b[0mint\u001b[0m\u001b[0;34m(\u001b[0m\u001b[0mlen\u001b[0m\u001b[0;34m(\u001b[0m\u001b[0mpeaks\u001b[0m\u001b[0;34m)\u001b[0m\u001b[0;34m/\u001b[0m\u001b[0;36m2\u001b[0m\u001b[0;34m)\u001b[0m\u001b[0;34m+\u001b[0m\u001b[0;36m1\u001b[0m\u001b[0;34m]\u001b[0m\u001b[0;34m\u001b[0m\u001b[0;34m\u001b[0m\u001b[0m\n\u001b[0m\u001b[1;32m     21\u001b[0m     \u001b[0mnp_sig\u001b[0m \u001b[0;34m=\u001b[0m \u001b[0mnp_sig\u001b[0m\u001b[0;34m[\u001b[0m\u001b[0mstart\u001b[0m\u001b[0;34m:\u001b[0m\u001b[0mstop\u001b[0m\u001b[0;34m]\u001b[0m\u001b[0;34m\u001b[0m\u001b[0;34m\u001b[0m\u001b[0m\n\u001b[1;32m     22\u001b[0m     \u001b[0;31m#print(\"cuted signal [np_signale] \\n \",np_sig)\u001b[0m\u001b[0;34m\u001b[0m\u001b[0;34m\u001b[0m\u001b[0;34m\u001b[0m\u001b[0m\n",
            "\u001b[0;31mIndexError\u001b[0m: index 1 is out of bounds for axis 0 with size 1"
          ]
        }
      ]
    },
    {
      "cell_type": "code",
      "source": [
        "print(scaled_df.isna().sum(axis = 1))\n"
      ],
      "metadata": {
        "colab": {
          "base_uri": "https://localhost:8080/"
        },
        "id": "BeevJx2t3eKa",
        "outputId": "39f22663-254a-4aa7-eff2-f4f4d594ba52"
      },
      "execution_count": 12,
      "outputs": [
        {
          "output_type": "stream",
          "name": "stdout",
          "text": [
            "0      0\n",
            "1      0\n",
            "2      0\n",
            "3      0\n",
            "4      0\n",
            "      ..\n",
            "995    0\n",
            "996    0\n",
            "997    0\n",
            "998    0\n",
            "999    0\n",
            "Length: 1000, dtype: int64\n"
          ]
        }
      ]
    },
    {
      "cell_type": "code",
      "source": [
        "scaled_df.shape"
      ],
      "metadata": {
        "colab": {
          "base_uri": "https://localhost:8080/"
        },
        "id": "nkLpVNE__AjY",
        "outputId": "6cec20b8-2f5f-4a4d-f764-4cbf3c076601"
      },
      "execution_count": 13,
      "outputs": [
        {
          "output_type": "execute_result",
          "data": {
            "text/plain": [
              "(1000, 65)"
            ]
          },
          "metadata": {},
          "execution_count": 13
        }
      ]
    },
    {
      "cell_type": "code",
      "source": [
        "from numpy.random import randint\n",
        "\n",
        "# generate some integers\n",
        "row = randint(0, 999, 1)\n",
        "print(row)\n",
        "ppg_sig = scaled_df.iloc[row,:]\n",
        "print(ppg_sig)\n",
        "plt.plot(ppg_sig.values.T)"
      ],
      "metadata": {
        "colab": {
          "base_uri": "https://localhost:8080/",
          "height": 486
        },
        "id": "DwhFEwzc4dYO",
        "outputId": "b499526d-6431-4193-ea66-99228c07d3f1"
      },
      "execution_count": 64,
      "outputs": [
        {
          "output_type": "stream",
          "name": "stdout",
          "text": [
            "[600]\n",
            "          0         1        2         3         4         5         6   \\\n",
            "600  0.95408  0.940342  0.91416  0.878078  0.834604  0.785976  0.733995   \n",
            "\n",
            "           7         8         9   ...        55        56        57  \\\n",
            "600  0.679961  0.624724  0.568799  ...  0.385411  0.474647  0.566136   \n",
            "\n",
            "           58        59        60        61        62        63       64  \n",
            "600  0.655434  0.738267  0.810824  0.870083  0.913991  0.941504  0.94192  \n",
            "\n",
            "[1 rows x 65 columns]\n"
          ]
        },
        {
          "output_type": "execute_result",
          "data": {
            "text/plain": [
              "[<matplotlib.lines.Line2D at 0x7f75cd01a0d0>]"
            ]
          },
          "metadata": {},
          "execution_count": 64
        },
        {
          "output_type": "display_data",
          "data": {
            "text/plain": [
              "<Figure size 432x288 with 1 Axes>"
            ],
            "image/png": "[encoded data removed]"
          },
          "metadata": {
            "needs_background": "light"
          }
        }
      ]
    },
    {
      "cell_type": "code",
      "source": [
        "!pip install tslearn"
      ],
      "metadata": {
        "colab": {
          "base_uri": "https://localhost:8080/"
        },
        "id": "sbILtnpyBP6m",
        "outputId": "a9fb1f4a-fca9-48e7-f7f5-b9735c8533a8"
      },
      "execution_count": 45,
      "outputs": [
        {
          "output_type": "stream",
          "name": "stdout",
          "text": [
            "Looking in indexes: https://pypi.org/simple, https://us-python.pkg.dev/colab-wheels/public/simple/\n",
            "Collecting tslearn\n",
            "  Downloading tslearn-0.5.2-cp37-cp37m-manylinux_2_5_x86_64.manylinux1_x86_64.manylinux_2_12_x86_64.manylinux2010_x86_64.whl (793 kB)\n",
            "\u001b[K     |████████████████████████████████| 793 kB 7.0 MB/s \n",
            "\u001b[?25hRequirement already satisfied: scipy in /usr/local/lib/python3.7/dist-packages (from tslearn) (1.7.3)\n",
            "Requirement already satisfied: joblib in /usr/local/lib/python3.7/dist-packages (from tslearn) (1.1.0)\n",
            "Requirement already satisfied: scikit-learn in /usr/local/lib/python3.7/dist-packages (from tslearn) (1.0.2)\n",
            "Requirement already satisfied: numpy in /usr/local/lib/python3.7/dist-packages (from tslearn) (1.21.6)\n",
            "Requirement already satisfied: numba in /usr/local/lib/python3.7/dist-packages (from tslearn) (0.56.0)\n",
            "Requirement already satisfied: Cython in /usr/local/lib/python3.7/dist-packages (from tslearn) (0.29.32)\n",
            "Requirement already satisfied: setuptools in /usr/local/lib/python3.7/dist-packages (from numba->tslearn) (57.4.0)\n",
            "Requirement already satisfied: importlib-metadata in /usr/local/lib/python3.7/dist-packages (from numba->tslearn) (4.12.0)\n",
            "Requirement already satisfied: llvmlite<0.40,>=0.39.0dev0 in /usr/local/lib/python3.7/dist-packages (from numba->tslearn) (0.39.0)\n",
            "Requirement already satisfied: zipp>=0.5 in /usr/local/lib/python3.7/dist-packages (from importlib-metadata->numba->tslearn) (3.8.1)\n",
            "Requirement already satisfied: typing-extensions>=3.6.4 in /usr/local/lib/python3.7/dist-packages (from importlib-metadata->numba->tslearn) (4.1.1)\n",
            "Requirement already satisfied: threadpoolctl>=2.0.0 in /usr/local/lib/python3.7/dist-packages (from scikit-learn->tslearn) (3.1.0)\n",
            "Installing collected packages: tslearn\n",
            "Successfully installed tslearn-0.5.2\n"
          ]
        }
      ]
    },
    {
      "cell_type": "code",
      "source": [
        "scaled_df.values.shape"
      ],
      "metadata": {
        "colab": {
          "base_uri": "https://localhost:8080/"
        },
        "id": "LHIhpu0cC0-r",
        "outputId": "8e57a3a1-cf69-46f2-90fd-52fa7ef9351f"
      },
      "execution_count": 13,
      "outputs": [
        {
          "output_type": "execute_result",
          "data": {
            "text/plain": [
              "(1000, 65)"
            ]
          },
          "metadata": {},
          "execution_count": 13
        }
      ]
    },
    {
      "cell_type": "code",
      "source": [
        "# Author: Romain Tavenard\n",
        "# License: BSD 3 clause\n",
        "\n",
        "import numpy\n",
        "import matplotlib.pyplot as plt\n",
        "\n",
        "from tslearn.clustering import TimeSeriesKMeans\n",
        "from tslearn.datasets import CachedDatasets\n",
        "from tslearn.preprocessing import TimeSeriesScalerMeanVariance,  TimeSeriesResampler\n",
        "\n",
        "seed = 0\n",
        "numpy.random.seed(seed)\n",
        "X_train = scaled_df.values #, y_train, X_test, y_test = CachedDatasets().load_dataset(\"Trace\")\n",
        "#X_train = X_train[y_train < 4]  # Keep first 3 classes\n",
        "numpy.random.shuffle(X_train)\n",
        "# Keep only 50 time series\n",
        "X_train = TimeSeriesScalerMeanVariance().fit_transform(X_train)\n",
        "# Make time series shorter\n",
        "X_train = TimeSeriesResampler(sz=64).fit_transform(X_train)\n",
        "sz = X_train.shape[1]\n",
        "\n",
        "# Euclidean k-means\n",
        "print(\"Euclidean k-means\")\n",
        "km = TimeSeriesKMeans(n_clusters=7, verbose=True, random_state=seed)\n",
        "y_pred = km.fit_predict(X_train)\n",
        "\n",
        "plt.figure(figsize=(20,20))\n",
        "for yi in range(7):\n",
        "    plt.subplot(7,7, yi + 1)\n",
        "    for xx in X_train[y_pred == yi]:\n",
        "        plt.plot(xx.ravel(), \"k-\", alpha=.2)\n",
        "    plt.plot(km.cluster_centers_[yi].ravel(), \"r-\")\n",
        "    plt.xlim(0, sz)\n",
        "    plt.ylim(-4, 4)\n",
        "    plt.text(0.55, 0.85,'Cluster %d' % (yi + 1),\n",
        "             transform=plt.gca().transAxes)\n",
        "    if yi == 1:\n",
        "        plt.title(\"Euclidean $k$-means\")\n",
        "\n"
      ],
      "metadata": {
        "colab": {
          "base_uri": "https://localhost:8080/",
          "height": 234
        },
        "id": "9vV7FGiLB9nq",
        "outputId": "f78e6d4a-242f-4e60-b47c-8650b70e71d2"
      },
      "execution_count": 56,
      "outputs": [
        {
          "output_type": "stream",
          "name": "stdout",
          "text": [
            "Euclidean k-means\n",
            "0.897 --> 0.600 --> 0.583 --> 0.581 --> 0.580 --> 0.580 --> 0.579 --> 0.579 --> 0.579 --> 0.579 --> \n"
          ]
        },
        {
          "output_type": "display_data",
          "data": {
            "text/plain": [
              "<Figure size 1440x1440 with 7 Axes>"
            ],
            "image/png": "[encoded data removed]"
          },
          "metadata": {
            "needs_background": "light"
          }
        }
      ]
    },
    {
      "cell_type": "code",
      "source": [
        "blood_df[\"class\"] = y_pred"
      ],
      "metadata": {
        "id": "GPr4N9c27yTq"
      },
      "execution_count": 47,
      "outputs": []
    },
    {
      "cell_type": "code",
      "source": [
        "import seaborn as sns\n",
        "sns.boxplot(x=\"class\", y=\"systolic\", data=blood_df)\n"
      ],
      "metadata": {
        "id": "wQDNWJZB5TNh",
        "outputId": "2974fa7e-7285-45b9-d711-05c0b0db02bd",
        "colab": {
          "base_uri": "https://localhost:8080/",
          "height": 297
        }
      },
      "execution_count": 48,
      "outputs": [
        {
          "output_type": "execute_result",
          "data": {
            "text/plain": [
              "<matplotlib.axes._subplots.AxesSubplot at 0x7f75cc57e190>"
            ]
          },
          "metadata": {},
          "execution_count": 48
        },
        {
          "output_type": "display_data",
          "data": {
            "text/plain": [
              "<Figure size 432x288 with 1 Axes>"
            ],
            "image/png": "[encoded data removed]"
          },
          "metadata": {
            "needs_background": "light"
          }
        }
      ]
    },
    {
      "cell_type": "code",
      "source": [
        "sns.boxplot(x=\"class\", y=\"diastolic\", data=blood_df)\n"
      ],
      "metadata": {
        "id": "6Xmi7VHj68j6",
        "outputId": "c6065614-bf66-46b6-843d-fb8d971a14e5",
        "colab": {
          "base_uri": "https://localhost:8080/",
          "height": 297
        }
      },
      "execution_count": 49,
      "outputs": [
        {
          "output_type": "execute_result",
          "data": {
            "text/plain": [
              "<matplotlib.axes._subplots.AxesSubplot at 0x7f75dd11ee90>"
            ]
          },
          "metadata": {},
          "execution_count": 49
        },
        {
          "output_type": "display_data",
          "data": {
            "text/plain": [
              "<Figure size 432x288 with 1 Axes>"
            ],
            "image/png": "[encoded data removed]"
          },
          "metadata": {
            "needs_background": "light"
          }
        }
      ]
    },
    {
      "cell_type": "code",
      "source": [
        "# DBA-k-means\n",
        "print(\"DBA k-means\")\n",
        "dba_km = TimeSeriesKMeans(n_clusters=8,\n",
        "                          n_init=2,\n",
        "                          metric=\"dtw\",\n",
        "                          verbose=True,\n",
        "                          max_iter_barycenter=10,\n",
        "                          random_state=seed)\n",
        "y_pred = dba_km.fit_predict(X_train)\n",
        "plt.figure(figsize=(20,20))\n",
        "\n",
        "for yi in range(7):\n",
        "    plt.subplot(7, 7,1 + yi)\n",
        "    for xx in X_train[y_pred == yi]:\n",
        "        plt.plot(xx.ravel(), \"k-\", alpha=.2)\n",
        "    plt.plot(dba_km.cluster_centers_[yi].ravel(), \"r-\")\n",
        "    plt.xlim(0, sz)\n",
        "    plt.ylim(-4, 4)\n",
        "    plt.text(0.55, 0.85,'Cluster %d' % (yi + 1),\n",
        "             transform=plt.gca().transAxes)\n",
        "    if yi == 1:\n",
        "        plt.title(\"DBA $k$-means\")\n"
      ],
      "metadata": {
        "colab": {
          "base_uri": "https://localhost:8080/",
          "height": 1000
        },
        "id": "URyKi1reCuWS",
        "outputId": "0b1c62d7-ee1b-4e1b-fe65-95383fce0d12"
      },
      "execution_count": 36,
      "outputs": [
        {
          "output_type": "stream",
          "name": "stdout",
          "text": [
            "DBA k-means\n",
            "Init 1\n"
          ]
        },
        {
          "output_type": "stream",
          "name": "stderr",
          "text": [
            "[Parallel(n_jobs=1)]: Using backend SequentialBackend with 1 concurrent workers.\n",
            "[Parallel(n_jobs=1)]: Done 1000 out of 1000 | elapsed:    1.7s finished\n",
            "[Parallel(n_jobs=1)]: Using backend SequentialBackend with 1 concurrent workers.\n",
            "[Parallel(n_jobs=1)]: Done 4000 out of 4000 | elapsed:    0.5s finished\n",
            "[Parallel(n_jobs=1)]: Using backend SequentialBackend with 1 concurrent workers.\n",
            "[Parallel(n_jobs=1)]: Done 4000 out of 4000 | elapsed:    0.5s finished\n",
            "[Parallel(n_jobs=1)]: Using backend SequentialBackend with 1 concurrent workers.\n",
            "[Parallel(n_jobs=1)]: Done 4000 out of 4000 | elapsed:    0.5s finished\n",
            "[Parallel(n_jobs=1)]: Using backend SequentialBackend with 1 concurrent workers.\n",
            "[Parallel(n_jobs=1)]: Done 4000 out of 4000 | elapsed:    0.5s finished\n",
            "[Parallel(n_jobs=1)]: Using backend SequentialBackend with 1 concurrent workers.\n",
            "[Parallel(n_jobs=1)]: Done 4000 out of 4000 | elapsed:    0.5s finished\n",
            "[Parallel(n_jobs=1)]: Using backend SequentialBackend with 1 concurrent workers.\n",
            "[Parallel(n_jobs=1)]: Done 4000 out of 4000 | elapsed:    0.5s finished\n",
            "[Parallel(n_jobs=1)]: Using backend SequentialBackend with 1 concurrent workers.\n",
            "[Parallel(n_jobs=1)]: Done 4000 out of 4000 | elapsed:    0.5s finished\n",
            "[Parallel(n_jobs=1)]: Using backend SequentialBackend with 1 concurrent workers.\n",
            "[Parallel(n_jobs=1)]: Done 8000 out of 8000 | elapsed:    1.0s finished\n"
          ]
        },
        {
          "output_type": "stream",
          "name": "stdout",
          "text": [
            "0.198 --> "
          ]
        },
        {
          "output_type": "stream",
          "name": "stderr",
          "text": [
            "[Parallel(n_jobs=1)]: Using backend SequentialBackend with 1 concurrent workers.\n",
            "[Parallel(n_jobs=1)]: Done 8000 out of 8000 | elapsed:    1.0s finished\n"
          ]
        },
        {
          "output_type": "stream",
          "name": "stdout",
          "text": [
            "0.146 --> "
          ]
        },
        {
          "output_type": "stream",
          "name": "stderr",
          "text": [
            "[Parallel(n_jobs=1)]: Using backend SequentialBackend with 1 concurrent workers.\n",
            "[Parallel(n_jobs=1)]: Done 8000 out of 8000 | elapsed:    1.1s finished\n"
          ]
        },
        {
          "output_type": "stream",
          "name": "stdout",
          "text": [
            "0.143 --> "
          ]
        },
        {
          "output_type": "stream",
          "name": "stderr",
          "text": [
            "[Parallel(n_jobs=1)]: Using backend SequentialBackend with 1 concurrent workers.\n",
            "[Parallel(n_jobs=1)]: Done 8000 out of 8000 | elapsed:    1.0s finished\n"
          ]
        },
        {
          "output_type": "stream",
          "name": "stdout",
          "text": [
            "0.141 --> "
          ]
        },
        {
          "output_type": "stream",
          "name": "stderr",
          "text": [
            "[Parallel(n_jobs=1)]: Using backend SequentialBackend with 1 concurrent workers.\n",
            "[Parallel(n_jobs=1)]: Done 8000 out of 8000 | elapsed:    1.0s finished\n"
          ]
        },
        {
          "output_type": "stream",
          "name": "stdout",
          "text": [
            "0.139 --> "
          ]
        },
        {
          "output_type": "stream",
          "name": "stderr",
          "text": [
            "[Parallel(n_jobs=1)]: Using backend SequentialBackend with 1 concurrent workers.\n",
            "[Parallel(n_jobs=1)]: Done 8000 out of 8000 | elapsed:    1.0s finished\n"
          ]
        },
        {
          "output_type": "stream",
          "name": "stdout",
          "text": [
            "0.138 --> "
          ]
        },
        {
          "output_type": "stream",
          "name": "stderr",
          "text": [
            "[Parallel(n_jobs=1)]: Using backend SequentialBackend with 1 concurrent workers.\n",
            "[Parallel(n_jobs=1)]: Done 8000 out of 8000 | elapsed:    1.0s finished\n"
          ]
        },
        {
          "output_type": "stream",
          "name": "stdout",
          "text": [
            "0.138 --> "
          ]
        },
        {
          "output_type": "stream",
          "name": "stderr",
          "text": [
            "[Parallel(n_jobs=1)]: Using backend SequentialBackend with 1 concurrent workers.\n",
            "[Parallel(n_jobs=1)]: Done 8000 out of 8000 | elapsed:    1.0s finished\n"
          ]
        },
        {
          "output_type": "stream",
          "name": "stdout",
          "text": [
            "0.138 --> "
          ]
        },
        {
          "output_type": "stream",
          "name": "stderr",
          "text": [
            "[Parallel(n_jobs=1)]: Using backend SequentialBackend with 1 concurrent workers.\n",
            "[Parallel(n_jobs=1)]: Done 8000 out of 8000 | elapsed:    1.0s finished\n"
          ]
        },
        {
          "output_type": "stream",
          "name": "stdout",
          "text": [
            "0.138 --> "
          ]
        },
        {
          "output_type": "stream",
          "name": "stderr",
          "text": [
            "[Parallel(n_jobs=1)]: Using backend SequentialBackend with 1 concurrent workers.\n",
            "[Parallel(n_jobs=1)]: Done 8000 out of 8000 | elapsed:    1.1s finished\n"
          ]
        },
        {
          "output_type": "stream",
          "name": "stdout",
          "text": [
            "0.138 --> "
          ]
        },
        {
          "output_type": "stream",
          "name": "stderr",
          "text": [
            "[Parallel(n_jobs=1)]: Using backend SequentialBackend with 1 concurrent workers.\n",
            "[Parallel(n_jobs=1)]: Done 8000 out of 8000 | elapsed:    1.0s finished\n"
          ]
        },
        {
          "output_type": "stream",
          "name": "stdout",
          "text": [
            "0.138 --> "
          ]
        },
        {
          "output_type": "stream",
          "name": "stderr",
          "text": [
            "[Parallel(n_jobs=1)]: Using backend SequentialBackend with 1 concurrent workers.\n",
            "[Parallel(n_jobs=1)]: Done 8000 out of 8000 | elapsed:    1.0s finished\n"
          ]
        },
        {
          "output_type": "stream",
          "name": "stdout",
          "text": [
            "0.138 --> "
          ]
        },
        {
          "output_type": "stream",
          "name": "stderr",
          "text": [
            "[Parallel(n_jobs=1)]: Using backend SequentialBackend with 1 concurrent workers.\n",
            "[Parallel(n_jobs=1)]: Done 8000 out of 8000 | elapsed:    1.0s finished\n"
          ]
        },
        {
          "output_type": "stream",
          "name": "stdout",
          "text": [
            "0.137 --> "
          ]
        },
        {
          "output_type": "stream",
          "name": "stderr",
          "text": [
            "[Parallel(n_jobs=1)]: Using backend SequentialBackend with 1 concurrent workers.\n",
            "[Parallel(n_jobs=1)]: Done 8000 out of 8000 | elapsed:    1.1s finished\n"
          ]
        },
        {
          "output_type": "stream",
          "name": "stdout",
          "text": [
            "0.137 --> "
          ]
        },
        {
          "output_type": "stream",
          "name": "stderr",
          "text": [
            "[Parallel(n_jobs=1)]: Using backend SequentialBackend with 1 concurrent workers.\n",
            "[Parallel(n_jobs=1)]: Done 8000 out of 8000 | elapsed:    1.0s finished\n"
          ]
        },
        {
          "output_type": "stream",
          "name": "stdout",
          "text": [
            "0.137 --> "
          ]
        },
        {
          "output_type": "stream",
          "name": "stderr",
          "text": [
            "[Parallel(n_jobs=1)]: Using backend SequentialBackend with 1 concurrent workers.\n",
            "[Parallel(n_jobs=1)]: Done 8000 out of 8000 | elapsed:    1.0s finished\n"
          ]
        },
        {
          "output_type": "stream",
          "name": "stdout",
          "text": [
            "0.137 --> "
          ]
        },
        {
          "output_type": "stream",
          "name": "stderr",
          "text": [
            "[Parallel(n_jobs=1)]: Using backend SequentialBackend with 1 concurrent workers.\n",
            "[Parallel(n_jobs=1)]: Done 8000 out of 8000 | elapsed:    1.0s finished\n"
          ]
        },
        {
          "output_type": "stream",
          "name": "stdout",
          "text": [
            "0.137 --> "
          ]
        },
        {
          "output_type": "stream",
          "name": "stderr",
          "text": [
            "[Parallel(n_jobs=1)]: Using backend SequentialBackend with 1 concurrent workers.\n",
            "[Parallel(n_jobs=1)]: Done 8000 out of 8000 | elapsed:    1.0s finished\n"
          ]
        },
        {
          "output_type": "stream",
          "name": "stdout",
          "text": [
            "0.137 --> "
          ]
        },
        {
          "output_type": "stream",
          "name": "stderr",
          "text": [
            "[Parallel(n_jobs=1)]: Using backend SequentialBackend with 1 concurrent workers.\n",
            "[Parallel(n_jobs=1)]: Done 8000 out of 8000 | elapsed:    1.0s finished\n"
          ]
        },
        {
          "output_type": "stream",
          "name": "stdout",
          "text": [
            "0.137 --> "
          ]
        },
        {
          "output_type": "stream",
          "name": "stderr",
          "text": [
            "[Parallel(n_jobs=1)]: Using backend SequentialBackend with 1 concurrent workers.\n",
            "[Parallel(n_jobs=1)]: Done 8000 out of 8000 | elapsed:    1.0s finished\n"
          ]
        },
        {
          "output_type": "stream",
          "name": "stdout",
          "text": [
            "0.137 --> "
          ]
        },
        {
          "output_type": "stream",
          "name": "stderr",
          "text": [
            "[Parallel(n_jobs=1)]: Using backend SequentialBackend with 1 concurrent workers.\n",
            "[Parallel(n_jobs=1)]: Done 8000 out of 8000 | elapsed:    1.1s finished\n"
          ]
        },
        {
          "output_type": "stream",
          "name": "stdout",
          "text": [
            "0.137 --> \n",
            "Init 2\n"
          ]
        },
        {
          "output_type": "stream",
          "name": "stderr",
          "text": [
            "[Parallel(n_jobs=1)]: Using backend SequentialBackend with 1 concurrent workers.\n",
            "[Parallel(n_jobs=1)]: Done 1000 out of 1000 | elapsed:    0.1s finished\n",
            "[Parallel(n_jobs=1)]: Using backend SequentialBackend with 1 concurrent workers.\n",
            "[Parallel(n_jobs=1)]: Done 4000 out of 4000 | elapsed:    0.5s finished\n",
            "[Parallel(n_jobs=1)]: Using backend SequentialBackend with 1 concurrent workers.\n",
            "[Parallel(n_jobs=1)]: Done 4000 out of 4000 | elapsed:    0.5s finished\n",
            "[Parallel(n_jobs=1)]: Using backend SequentialBackend with 1 concurrent workers.\n",
            "[Parallel(n_jobs=1)]: Done 4000 out of 4000 | elapsed:    0.5s finished\n",
            "[Parallel(n_jobs=1)]: Using backend SequentialBackend with 1 concurrent workers.\n",
            "[Parallel(n_jobs=1)]: Done 4000 out of 4000 | elapsed:    0.5s finished\n",
            "[Parallel(n_jobs=1)]: Using backend SequentialBackend with 1 concurrent workers.\n",
            "[Parallel(n_jobs=1)]: Done 4000 out of 4000 | elapsed:    0.5s finished\n",
            "[Parallel(n_jobs=1)]: Using backend SequentialBackend with 1 concurrent workers.\n",
            "[Parallel(n_jobs=1)]: Done 4000 out of 4000 | elapsed:    0.5s finished\n",
            "[Parallel(n_jobs=1)]: Using backend SequentialBackend with 1 concurrent workers.\n",
            "[Parallel(n_jobs=1)]: Done 4000 out of 4000 | elapsed:    0.5s finished\n",
            "[Parallel(n_jobs=1)]: Using backend SequentialBackend with 1 concurrent workers.\n",
            "[Parallel(n_jobs=1)]: Done 8000 out of 8000 | elapsed:    1.0s finished\n"
          ]
        },
        {
          "output_type": "stream",
          "name": "stdout",
          "text": [
            "0.221 --> "
          ]
        },
        {
          "output_type": "stream",
          "name": "stderr",
          "text": [
            "[Parallel(n_jobs=1)]: Using backend SequentialBackend with 1 concurrent workers.\n",
            "[Parallel(n_jobs=1)]: Done 8000 out of 8000 | elapsed:    1.0s finished\n"
          ]
        },
        {
          "output_type": "stream",
          "name": "stdout",
          "text": [
            "0.152 --> "
          ]
        },
        {
          "output_type": "stream",
          "name": "stderr",
          "text": [
            "[Parallel(n_jobs=1)]: Using backend SequentialBackend with 1 concurrent workers.\n",
            "[Parallel(n_jobs=1)]: Done 8000 out of 8000 | elapsed:    1.0s finished\n"
          ]
        },
        {
          "output_type": "stream",
          "name": "stdout",
          "text": [
            "0.142 --> "
          ]
        },
        {
          "output_type": "stream",
          "name": "stderr",
          "text": [
            "[Parallel(n_jobs=1)]: Using backend SequentialBackend with 1 concurrent workers.\n",
            "[Parallel(n_jobs=1)]: Done 8000 out of 8000 | elapsed:    1.1s finished\n"
          ]
        },
        {
          "output_type": "stream",
          "name": "stdout",
          "text": [
            "0.139 --> "
          ]
        },
        {
          "output_type": "stream",
          "name": "stderr",
          "text": [
            "[Parallel(n_jobs=1)]: Using backend SequentialBackend with 1 concurrent workers.\n",
            "[Parallel(n_jobs=1)]: Done 8000 out of 8000 | elapsed:    1.0s finished\n"
          ]
        },
        {
          "output_type": "stream",
          "name": "stdout",
          "text": [
            "0.138 --> "
          ]
        },
        {
          "output_type": "stream",
          "name": "stderr",
          "text": [
            "[Parallel(n_jobs=1)]: Using backend SequentialBackend with 1 concurrent workers.\n",
            "[Parallel(n_jobs=1)]: Done 8000 out of 8000 | elapsed:    1.7s finished\n"
          ]
        },
        {
          "output_type": "stream",
          "name": "stdout",
          "text": [
            "0.138 --> "
          ]
        },
        {
          "output_type": "stream",
          "name": "stderr",
          "text": [
            "[Parallel(n_jobs=1)]: Using backend SequentialBackend with 1 concurrent workers.\n",
            "[Parallel(n_jobs=1)]: Done 8000 out of 8000 | elapsed:    1.1s finished\n"
          ]
        },
        {
          "output_type": "stream",
          "name": "stdout",
          "text": [
            "0.138 --> "
          ]
        },
        {
          "output_type": "stream",
          "name": "stderr",
          "text": [
            "[Parallel(n_jobs=1)]: Using backend SequentialBackend with 1 concurrent workers.\n",
            "[Parallel(n_jobs=1)]: Done 8000 out of 8000 | elapsed:    1.0s finished\n"
          ]
        },
        {
          "output_type": "stream",
          "name": "stdout",
          "text": [
            "0.138 --> "
          ]
        },
        {
          "output_type": "stream",
          "name": "stderr",
          "text": [
            "[Parallel(n_jobs=1)]: Using backend SequentialBackend with 1 concurrent workers.\n",
            "[Parallel(n_jobs=1)]: Done 8000 out of 8000 | elapsed:    1.0s finished\n"
          ]
        },
        {
          "output_type": "stream",
          "name": "stdout",
          "text": [
            "0.138 --> "
          ]
        },
        {
          "output_type": "stream",
          "name": "stderr",
          "text": [
            "[Parallel(n_jobs=1)]: Using backend SequentialBackend with 1 concurrent workers.\n",
            "[Parallel(n_jobs=1)]: Done 8000 out of 8000 | elapsed:    1.0s finished\n"
          ]
        },
        {
          "output_type": "stream",
          "name": "stdout",
          "text": [
            "0.138 --> "
          ]
        },
        {
          "output_type": "stream",
          "name": "stderr",
          "text": [
            "[Parallel(n_jobs=1)]: Using backend SequentialBackend with 1 concurrent workers.\n",
            "[Parallel(n_jobs=1)]: Done 8000 out of 8000 | elapsed:    1.1s finished\n"
          ]
        },
        {
          "output_type": "stream",
          "name": "stdout",
          "text": [
            "0.138 --> "
          ]
        },
        {
          "output_type": "stream",
          "name": "stderr",
          "text": [
            "[Parallel(n_jobs=1)]: Using backend SequentialBackend with 1 concurrent workers.\n",
            "[Parallel(n_jobs=1)]: Done 8000 out of 8000 | elapsed:    1.0s finished\n"
          ]
        },
        {
          "output_type": "stream",
          "name": "stdout",
          "text": [
            "0.138 --> "
          ]
        },
        {
          "output_type": "stream",
          "name": "stderr",
          "text": [
            "[Parallel(n_jobs=1)]: Using backend SequentialBackend with 1 concurrent workers.\n",
            "[Parallel(n_jobs=1)]: Done 8000 out of 8000 | elapsed:    1.0s finished\n"
          ]
        },
        {
          "output_type": "stream",
          "name": "stdout",
          "text": [
            "0.138 --> "
          ]
        },
        {
          "output_type": "stream",
          "name": "stderr",
          "text": [
            "[Parallel(n_jobs=1)]: Using backend SequentialBackend with 1 concurrent workers.\n",
            "[Parallel(n_jobs=1)]: Done 8000 out of 8000 | elapsed:    1.0s finished\n"
          ]
        },
        {
          "output_type": "stream",
          "name": "stdout",
          "text": [
            "0.137 --> "
          ]
        },
        {
          "output_type": "stream",
          "name": "stderr",
          "text": [
            "[Parallel(n_jobs=1)]: Using backend SequentialBackend with 1 concurrent workers.\n",
            "[Parallel(n_jobs=1)]: Done 8000 out of 8000 | elapsed:    1.2s finished\n"
          ]
        },
        {
          "output_type": "stream",
          "name": "stdout",
          "text": [
            "0.137 --> "
          ]
        },
        {
          "output_type": "stream",
          "name": "stderr",
          "text": [
            "[Parallel(n_jobs=1)]: Using backend SequentialBackend with 1 concurrent workers.\n",
            "[Parallel(n_jobs=1)]: Done 8000 out of 8000 | elapsed:    1.0s finished\n"
          ]
        },
        {
          "output_type": "stream",
          "name": "stdout",
          "text": [
            "0.137 --> "
          ]
        },
        {
          "output_type": "stream",
          "name": "stderr",
          "text": [
            "[Parallel(n_jobs=1)]: Using backend SequentialBackend with 1 concurrent workers.\n",
            "[Parallel(n_jobs=1)]: Done 8000 out of 8000 | elapsed:    1.0s finished\n"
          ]
        },
        {
          "output_type": "stream",
          "name": "stdout",
          "text": [
            "0.137 --> "
          ]
        },
        {
          "output_type": "stream",
          "name": "stderr",
          "text": [
            "[Parallel(n_jobs=1)]: Using backend SequentialBackend with 1 concurrent workers.\n",
            "[Parallel(n_jobs=1)]: Done 8000 out of 8000 | elapsed:    1.1s finished\n"
          ]
        },
        {
          "output_type": "stream",
          "name": "stdout",
          "text": [
            "0.137 --> "
          ]
        },
        {
          "output_type": "stream",
          "name": "stderr",
          "text": [
            "[Parallel(n_jobs=1)]: Using backend SequentialBackend with 1 concurrent workers.\n",
            "[Parallel(n_jobs=1)]: Done 8000 out of 8000 | elapsed:    1.0s finished\n"
          ]
        },
        {
          "output_type": "stream",
          "name": "stdout",
          "text": [
            "0.137 --> "
          ]
        },
        {
          "output_type": "stream",
          "name": "stderr",
          "text": [
            "[Parallel(n_jobs=1)]: Using backend SequentialBackend with 1 concurrent workers.\n",
            "[Parallel(n_jobs=1)]: Done 8000 out of 8000 | elapsed:    2.2s finished\n"
          ]
        },
        {
          "output_type": "stream",
          "name": "stdout",
          "text": [
            "0.137 --> "
          ]
        },
        {
          "output_type": "stream",
          "name": "stderr",
          "text": [
            "[Parallel(n_jobs=1)]: Using backend SequentialBackend with 1 concurrent workers.\n",
            "[Parallel(n_jobs=1)]: Done 8000 out of 8000 | elapsed:    1.0s finished\n"
          ]
        },
        {
          "output_type": "stream",
          "name": "stdout",
          "text": [
            "0.137 --> "
          ]
        },
        {
          "output_type": "stream",
          "name": "stderr",
          "text": [
            "[Parallel(n_jobs=1)]: Using backend SequentialBackend with 1 concurrent workers.\n",
            "[Parallel(n_jobs=1)]: Done 8000 out of 8000 | elapsed:    1.1s finished\n"
          ]
        },
        {
          "output_type": "stream",
          "name": "stdout",
          "text": [
            "0.137 --> "
          ]
        },
        {
          "output_type": "stream",
          "name": "stderr",
          "text": [
            "[Parallel(n_jobs=1)]: Using backend SequentialBackend with 1 concurrent workers.\n",
            "[Parallel(n_jobs=1)]: Done 8000 out of 8000 | elapsed:    1.0s finished\n"
          ]
        },
        {
          "output_type": "stream",
          "name": "stdout",
          "text": [
            "0.137 --> \n"
          ]
        },
        {
          "output_type": "stream",
          "name": "stderr",
          "text": [
            "[Parallel(n_jobs=1)]: Using backend SequentialBackend with 1 concurrent workers.\n",
            "[Parallel(n_jobs=1)]: Done 8000 out of 8000 | elapsed:    1.0s finished\n"
          ]
        },
        {
          "output_type": "display_data",
          "data": {
            "text/plain": [
              "<Figure size 1440x1440 with 7 Axes>"
            ],
            "image/png": "[encoded data removed]"
          },
          "metadata": {
            "needs_background": "light"
          }
        }
      ]
    },
    {
      "cell_type": "code",
      "source": [
        "blood_df[\"class\"] = y_pred\n",
        "sns.boxplot(x=\"class\", y=\"systolic\", data=blood_df)\n"
      ],
      "metadata": {
        "id": "YXRXsd549u_m",
        "outputId": "caae6eb6-50a0-4398-b192-b666dbed9af7",
        "colab": {
          "base_uri": "https://localhost:8080/",
          "height": 297
        }
      },
      "execution_count": 37,
      "outputs": [
        {
          "output_type": "execute_result",
          "data": {
            "text/plain": [
              "<matplotlib.axes._subplots.AxesSubplot at 0x7fa6425a0ed0>"
            ]
          },
          "metadata": {},
          "execution_count": 37
        },
        {
          "output_type": "display_data",
          "data": {
            "text/plain": [
              "<Figure size 432x288 with 1 Axes>"
            ],
            "image/png": "[encoded data removed]"
          },
          "metadata": {
            "needs_background": "light"
          }
        }
      ]
    },
    {
      "cell_type": "code",
      "source": [
        "sns.boxplot(x=\"class\", y=\"diastolic\", data=blood_df)\n"
      ],
      "metadata": {
        "id": "OvXg6XNy97_p",
        "outputId": "1922802c-9de1-40dc-812c-f5033699365d",
        "colab": {
          "base_uri": "https://localhost:8080/",
          "height": 297
        }
      },
      "execution_count": 38,
      "outputs": [
        {
          "output_type": "execute_result",
          "data": {
            "text/plain": [
              "<matplotlib.axes._subplots.AxesSubplot at 0x7fa6424f5310>"
            ]
          },
          "metadata": {},
          "execution_count": 38
        },
        {
          "output_type": "display_data",
          "data": {
            "text/plain": [
              "<Figure size 432x288 with 1 Axes>"
            ],
            "image/png": "[encoded data removed]"
          },
          "metadata": {
            "needs_background": "light"
          }
        }
      ]
    },
    {
      "cell_type": "code",
      "source": [
        "# Soft-DTW-k-means\n",
        "print(\"Soft-DTW k-means\")\n",
        "sdtw_km = TimeSeriesKMeans(n_clusters=8,\n",
        "                           metric=\"softdtw\",\n",
        "                           metric_params={\"gamma\": .01},\n",
        "                           verbose=True,\n",
        "                           random_state=seed)\n",
        "y_pred = sdtw_km.fit_predict(X_train)\n",
        "plt.figure(figsize=(20,20))\n",
        "\n",
        "for yi in range(7):\n",
        "    plt.subplot(7, 7, 1 + yi)\n",
        "    for xx in X_train[y_pred == yi]:\n",
        "        plt.plot(xx.ravel(), \"k-\", alpha=.2)\n",
        "    plt.plot(sdtw_km.cluster_centers_[yi].ravel(), \"r-\")\n",
        "    plt.xlim(0, sz)\n",
        "    plt.ylim(-4, 4)\n",
        "    plt.text(0.55, 0.85,'Cluster %d' % (yi + 1),\n",
        "             transform=plt.gca().transAxes)\n",
        "    if yi == 1:\n",
        "        plt.title(\"Soft-DTW $k$-means\")\n",
        "\n",
        "plt.tight_layout()\n",
        "plt.show()"
      ],
      "metadata": {
        "colab": {
          "base_uri": "https://localhost:8080/",
          "height": 298
        },
        "id": "r_K9_ndoCxDo",
        "outputId": "6e5b6215-6d09-46ef-9b3e-55f045ed8926"
      },
      "execution_count": 39,
      "outputs": [
        {
          "output_type": "stream",
          "name": "stdout",
          "text": [
            "Soft-DTW k-means\n",
            "0.108 --> 0.152 --> 0.154 --> 0.156 --> 0.156 --> 0.157 --> 0.157 --> 0.159 --> 0.159 --> 0.160 --> 0.160 --> 0.161 --> 0.161 --> 0.161 --> 0.162 --> 0.162 --> 0.162 --> 0.162 --> 0.162 --> 0.162 --> 0.162 --> 0.162 --> 0.162 --> 0.162 --> 0.162 --> 0.162 --> 0.162 --> 0.162 --> 0.162 --> 0.162 --> 0.162 --> 0.162 --> 0.162 --> 0.162 --> 0.162 --> 0.162 --> 0.162 --> 0.162 --> 0.162 --> 0.162 --> 0.162 --> 0.162 --> 0.162 --> 0.162 --> 0.162 --> 0.162 --> 0.162 --> 0.162 --> 0.162 --> 0.162 --> \n"
          ]
        },
        {
          "output_type": "display_data",
          "data": {
            "text/plain": [
              "<Figure size 1440x1440 with 7 Axes>"
            ],
            "image/png": "[encoded data removed]"
          },
          "metadata": {
            "needs_background": "light"
          }
        }
      ]
    },
    {
      "cell_type": "code",
      "source": [
        "blood_df[\"class\"] = y_pred\n",
        "sns.boxplot(x=\"class\", y=\"systolic\", data=blood_df)"
      ],
      "metadata": {
        "id": "7vVrBSSxBK0D",
        "outputId": "93249a7b-819c-499d-cbe9-1a839c21373e",
        "colab": {
          "base_uri": "https://localhost:8080/",
          "height": 297
        }
      },
      "execution_count": 40,
      "outputs": [
        {
          "output_type": "execute_result",
          "data": {
            "text/plain": [
              "<matplotlib.axes._subplots.AxesSubplot at 0x7fa642d39b50>"
            ]
          },
          "metadata": {},
          "execution_count": 40
        },
        {
          "output_type": "display_data",
          "data": {
            "text/plain": [
              "<Figure size 432x288 with 1 Axes>"
            ],
            "image/png": "[encoded data removed]"
          },
          "metadata": {
            "needs_background": "light"
          }
        }
      ]
    }
  ]
}