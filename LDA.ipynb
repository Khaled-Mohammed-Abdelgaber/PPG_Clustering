{
  "nbformat": 4,
  "nbformat_minor": 0,
  "metadata": {
    "colab": {
      "name": "LDA.ipynb",
      "provenance": [],
      "collapsed_sections": [],
      "authorship_tag": "ABX9TyO0AxkS9R98lJS7NBxFkHcl",
      "include_colab_link": true
    },
    "kernelspec": {
      "name": "python3",
      "display_name": "Python 3"
    },
    "language_info": {
      "name": "python"
    }
  },
  "cells": [
    {
      "cell_type": "markdown",
      "metadata": {
        "id": "view-in-github",
        "colab_type": "text"
      },
      "source": [
        "<a href=\"https://colab.research.google.com/github/Khaled-Mohammed-Abdelgaber/PPG_Clustering/blob/main/LDA.ipynb\" target=\"_parent\"><img src=\"https://colab.research.google.com/assets/colab-badge.svg\" alt=\"Open In Colab\"/></a>"
      ]
    },
    {
      "cell_type": "code",
      "execution_count": 5,
      "metadata": {
        "colab": {
          "base_uri": "https://localhost:8080/"
        },
        "id": "wnmRX9HyaUNG",
        "outputId": "9cb6d54c-88db-4383-91e7-9511897e4a68"
      },
      "outputs": [
        {
          "output_type": "stream",
          "name": "stdout",
          "text": [
            "Mounted at /content/gdrive\n"
          ]
        }
      ],
      "source": [
        "from google.colab import drive\n",
        "drive.mount('/content/gdrive')"
      ]
    },
    {
      "cell_type": "code",
      "source": [
        "import pandas as pd \n",
        "import matplotlib.pyplot as plt\n",
        "import numpy as np\n",
        "import seaborn as sns"
      ],
      "metadata": {
        "id": "mPt-1orabrhs"
      },
      "execution_count": 3,
      "outputs": []
    },
    {
      "cell_type": "code",
      "source": [
        "ppg_one_beat = pd.read_csv(\"/content/gdrive/MyDrive/data/peak2peak_aug_2022/Part_1/p2p_beats/part_1_PPG_beats_P2P_Aug_2022.csv\",\n",
        "                           names = np.arange(120))\n",
        "ppg_10_beats = pd.read_csv(\"/content/gdrive/MyDrive/data/peak2peak_aug_2022/Part_1/10_beat_signals/part_1_PPG_signals_10_beats_Aug_2022.csv\",\n",
        "                           names = np.arange(1024))\n",
        "id = pd.read_csv(\"/content/gdrive/MyDrive/data/peak2peak_aug_2022/Part_1/p2p_beats/part_1_Subj_ID_beats_P2P_Aug_2022.csv\",names = [\"ID\"])\n",
        "sys_df = pd.read_csv(\"/content/gdrive/MyDrive/data/peak2peak_aug_2022/Part_1/p2p_beats/part_1_SYS_BP_beats_P2P_Aug_2022.csv\",\n",
        "                     names = [\"sys\"])\n",
        "dia_df = pd.read_csv(\"/content/gdrive/MyDrive/data/peak2peak_aug_2022/Part_1/p2p_beats/part_1_Dia_BP_beats_P2P_Aug_2022.csv\",\n",
        "                     names = [\"dia\"])"
      ],
      "metadata": {
        "id": "JtIfrpDec8ba"
      },
      "execution_count": 6,
      "outputs": []
    },
    {
      "cell_type": "code",
      "source": [
        "df_info = pd.DataFrame()\n",
        " \n",
        "df_info[\"dia\"]  = dia_df\n",
        "df_info[\"sys\"]  = sys_df\n",
        "df_info[\"ID\"] = id"
      ],
      "metadata": {
        "id": "ACijJdUlc8hv"
      },
      "execution_count": 7,
      "outputs": []
    },
    {
      "cell_type": "code",
      "source": [
        "X = ppg_one_beat.values"
      ],
      "metadata": {
        "id": "H9oCS3qGdMR_"
      },
      "execution_count": 8,
      "outputs": []
    },
    {
      "cell_type": "code",
      "source": [
        "y = df_info[\"sys\"].values"
      ],
      "metadata": {
        "id": "OXHIZuGKj3x_"
      },
      "execution_count": 14,
      "outputs": []
    },
    {
      "cell_type": "code",
      "source": [
        "type(y)"
      ],
      "metadata": {
        "colab": {
          "base_uri": "https://localhost:8080/"
        },
        "id": "pLTjZWOAkF9s",
        "outputId": "69e78f80-de7f-4cad-e6c0-5e0ce7d75913"
      },
      "execution_count": 15,
      "outputs": [
        {
          "output_type": "execute_result",
          "data": {
            "text/plain": [
              "numpy.ndarray"
            ]
          },
          "metadata": {},
          "execution_count": 15
        }
      ]
    },
    {
      "cell_type": "code",
      "source": [
        "for i in range(len(y)):\n",
        "  if y[i] < 80:\n",
        "    y[i] = 0\n",
        "  elif y[i] < 90:\n",
        "    y[i] = 1\n",
        "  elif y[i] < 100:\n",
        "    y[i] = 2\n",
        "  elif y[i] < 110:\n",
        "    y[i] = 3\n",
        "  elif y[i] < 120:\n",
        "    y[i] = 4 \n",
        "  elif y[i] < 130:\n",
        "    y[i] = 5\n",
        "  elif y[i] < 140:\n",
        "    y[i] = 6\n",
        "  elif y[i] < 150:\n",
        "    y[i] = 7\n",
        "  elif y[i] < 160:\n",
        "    y[i] = 8\n",
        "  elif y[i] < 170:\n",
        "    y[i] = 9\n",
        "  elif y[i] < 180:\n",
        "    y[i] = 10\n",
        "  elif y[i] < 190:\n",
        "    y[i] = 11\n",
        "  else:\n",
        "    y[i] = 12\n"
      ],
      "metadata": {
        "id": "RXu5rAXtdMVL"
      },
      "execution_count": 16,
      "outputs": []
    },
    {
      "cell_type": "code",
      "source": [
        "y"
      ],
      "metadata": {
        "colab": {
          "base_uri": "https://localhost:8080/"
        },
        "id": "sOi-0sRIdMXm",
        "outputId": "c626b5ab-ae81-4f0e-a00b-8e4b631e0be2"
      },
      "execution_count": 17,
      "outputs": [
        {
          "output_type": "execute_result",
          "data": {
            "text/plain": [
              "array([5., 5., 4., ..., 1., 1., 1.])"
            ]
          },
          "metadata": {},
          "execution_count": 17
        }
      ]
    },
    {
      "cell_type": "code",
      "source": [
        "import numpy as np\n",
        "import pandas as pd\n",
        "import matplotlib.pyplot as plt\n",
        "from sklearn import datasets\n",
        "from sklearn.decomposition import PCA\n",
        "from sklearn.discriminant_analysis import LinearDiscriminantAnalysis\n",
        "colors = ['royalblue','red','deeppink', 'maroon', 'mediumorchid', 'tan', 'forestgreen', 'olive', 'goldenrod', 'lightcyan', 'navy']\n",
        "vectorizer = np.vectorize(lambda x: colors[x % len(colors)])"
      ],
      "metadata": {
        "id": "ABj-0hb3c8vx"
      },
      "execution_count": 24,
      "outputs": []
    },
    {
      "cell_type": "code",
      "source": [
        "lda = LinearDiscriminantAnalysis(n_components=12)\n",
        "X_lda_comp = lda.fit(X, y).transform(X)"
      ],
      "metadata": {
        "id": "JaINwmj0lCp0"
      },
      "execution_count": 22,
      "outputs": []
    },
    {
      "cell_type": "code",
      "source": [
        "lda.explained_variance_ratio_"
      ],
      "metadata": {
        "colab": {
          "base_uri": "https://localhost:8080/"
        },
        "id": "MRewo8R1lh9U",
        "outputId": "5865292c-6a71-4b89-ec65-36d3d0cf28c0"
      },
      "execution_count": 23,
      "outputs": [
        {
          "output_type": "execute_result",
          "data": {
            "text/plain": [
              "array([0.51752546, 0.16698827, 0.1229704 , 0.06028748, 0.05000757,\n",
              "       0.02965918, 0.01789165, 0.01304061, 0.00952329, 0.00719488,\n",
              "       0.00278347, 0.00212774])"
            ]
          },
          "metadata": {},
          "execution_count": 23
        }
      ]
    },
    {
      "cell_type": "code",
      "source": [
        "X_lda_comp.shape"
      ],
      "metadata": {
        "colab": {
          "base_uri": "https://localhost:8080/"
        },
        "id": "n1nJf5KWl9DL",
        "outputId": "73e8548d-5238-4dbb-ec12-871cf865b300"
      },
      "execution_count": 26,
      "outputs": [
        {
          "output_type": "execute_result",
          "data": {
            "text/plain": [
              "(154540, 12)"
            ]
          },
          "metadata": {},
          "execution_count": 26
        }
      ]
    },
    {
      "cell_type": "code",
      "source": [
        "from sklearn.cluster import KMeans\n",
        "from sklearn.metrics import silhouette_score\n",
        "import matplotlib.pyplot as plt\n",
        "\n",
        "\n",
        " \n",
        "# initialise kmeans\n",
        "kmeans = KMeans(n_clusters=12)\n",
        "kmeans.fit(X_lda_comp)\n",
        "cluster_labels = kmeans.labels_"
      ],
      "metadata": {
        "id": "yQEdP_wsl2qq"
      },
      "execution_count": 41,
      "outputs": []
    },
    {
      "cell_type": "code",
      "source": [
        "cluster_labels"
      ],
      "metadata": {
        "colab": {
          "base_uri": "https://localhost:8080/"
        },
        "id": "6ITEYGFXoJvt",
        "outputId": "4484d649-7ff9-41f6-ddb0-be9015ead438"
      },
      "execution_count": 43,
      "outputs": [
        {
          "output_type": "execute_result",
          "data": {
            "text/plain": [
              "array([11, 11, 11, ...,  6,  6,  6], dtype=int32)"
            ]
          },
          "metadata": {},
          "execution_count": 43
        }
      ]
    },
    {
      "cell_type": "code",
      "source": [
        "for i in range(12):\n",
        "  plt.figure(i);\n",
        "  plt.plot(ppg_one_beat[cluster_labels == i].values[:].T,alpha = 0.5);"
      ],
      "metadata": {
        "id": "oiuHCdZ-oPcQ"
      },
      "execution_count": null,
      "outputs": []
    },
    {
      "cell_type": "code",
      "source": [
        "ppg_one_beat[cluster_labels == 0].values[:].shape"
      ],
      "metadata": {
        "id": "5ukG6nXgolpo"
      },
      "execution_count": null,
      "outputs": []
    },
    {
      "cell_type": "code",
      "source": [],
      "metadata": {
        "id": "uq4x9fbnpCJJ"
      },
      "execution_count": null,
      "outputs": []
    }
  ]
}