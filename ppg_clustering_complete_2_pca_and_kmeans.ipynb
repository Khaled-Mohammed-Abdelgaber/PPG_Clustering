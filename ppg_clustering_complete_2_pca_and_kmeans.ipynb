{
  "nbformat": 4,
  "nbformat_minor": 0,
  "metadata": {
    "colab": {
      "name": "ppg clustering complete 2 pca and kmeans.ipynb",
      "provenance": [],
      "authorship_tag": "ABX9TyNlGdkVyvCk+qEyZuTRJpDY",
      "include_colab_link": true
    },
    "kernelspec": {
      "name": "python3",
      "display_name": "Python 3"
    },
    "language_info": {
      "name": "python"
    },
    "accelerator": "GPU",
    "gpuClass": "standard"
  },
  "cells": [
    {
      "cell_type": "markdown",
      "metadata": {
        "id": "view-in-github",
        "colab_type": "text"
      },
      "source": [
        "<a href=\"https://colab.research.google.com/github/Khaled-Mohammed-Abdelgaber/PPG_Clustering/blob/main/ppg_clustering_complete_2_pca_and_kmeans.ipynb\" target=\"_parent\"><img src=\"https://colab.research.google.com/assets/colab-badge.svg\" alt=\"Open In Colab\"/></a>"
      ]
    },
    {
      "cell_type": "code",
      "execution_count": 1,
      "metadata": {
        "id": "PUNBMu1f-pR3",
        "colab": {
          "base_uri": "https://localhost:8080/"
        },
        "outputId": "df001a64-19f6-44f0-ddfe-d8df20650c3e"
      },
      "outputs": [
        {
          "output_type": "stream",
          "name": "stdout",
          "text": [
            "Drive already mounted at /content/gdrive; to attempt to forcibly remount, call drive.mount(\"/content/gdrive\", force_remount=True).\n"
          ]
        }
      ],
      "source": [
        "from google.colab import drive\n",
        "drive.mount('/content/gdrive')"
      ]
    },
    {
      "cell_type": "code",
      "source": [
        "import pandas as pd \n",
        "import matplotlib.pyplot as plt\n",
        "import numpy as np\n",
        "import time"
      ],
      "metadata": {
        "id": "y4Npyyf3AWMQ"
      },
      "execution_count": 2,
      "outputs": []
    },
    {
      "cell_type": "code",
      "source": [
        "# variables declearation \n",
        "\n",
        "ppgData = pd.DataFrame()   # to store dataFrame from files like 1.csv\n",
        "featureDf = pd.DataFrame()  # to store all features like PCA and Systolic and Diastolic of all data\n",
        "ppg_pca = pd.DataFrame()    # to store all pca of all data \n",
        "ABP_sys_dia = pd.DataFrame() # to store all systolic and diastolic obtained from ABP signals of all data\n",
        "\n"
      ],
      "metadata": {
        "id": "gAE3NPwMNGte"
      },
      "execution_count": 3,
      "outputs": []
    },
    {
      "cell_type": "code",
      "source": [
        "data = pd.read_csv(\"/content/gdrive/MyDrive/data/sys_dia_pca1_pca2.csv\")"
      ],
      "metadata": {
        "id": "P76op2Ctk3Y8"
      },
      "execution_count": 4,
      "outputs": []
    },
    {
      "cell_type": "code",
      "source": [
        "data[\"sys_dia\"] = data[\"systolic\"] / data['diastolic']"
      ],
      "metadata": {
        "id": "A_3FGAoAk_bY"
      },
      "execution_count": 5,
      "outputs": []
    },
    {
      "cell_type": "code",
      "source": [
        "data.head()"
      ],
      "metadata": {
        "colab": {
          "base_uri": "https://localhost:8080/",
          "height": 206
        },
        "id": "jtiGjwCilhEW",
        "outputId": "dbea2b45-9bee-4e1f-b884-4025138920df"
      },
      "execution_count": 6,
      "outputs": [
        {
          "output_type": "execute_result",
          "data": {
            "text/plain": [
              "   Unnamed: 0  systolic  diastolic      pca1      pca2   sys_dia\n",
              "0           0    144.43     52.947  0.448304  0.068589  2.727822\n",
              "1           1    144.43     52.947  0.108880 -0.028446  2.727822\n",
              "2           2    143.36     52.752  0.464056  0.471354  2.717622\n",
              "3           3    146.48     54.998 -0.089028 -0.016251  2.663370\n",
              "4           4    177.11     65.060 -0.213127  0.035350  2.722256"
            ],
            "text/html": [
              "\n",
              "  <div id=\"df-84b2733a-3c0f-4cc7-859c-0884dcfa5579\">\n",
              "    <div class=\"colab-df-container\">\n",
              "      <div>\n",
              "<style scoped>\n",
              "    .dataframe tbody tr th:only-of-type {\n",
              "        vertical-align: middle;\n",
              "    }\n",
              "\n",
              "    .dataframe tbody tr th {\n",
              "        vertical-align: top;\n",
              "    }\n",
              "\n",
              "    .dataframe thead th {\n",
              "        text-align: right;\n",
              "    }\n",
              "</style>\n",
              "<table border=\"1\" class=\"dataframe\">\n",
              "  <thead>\n",
              "    <tr style=\"text-align: right;\">\n",
              "      <th></th>\n",
              "      <th>Unnamed: 0</th>\n",
              "      <th>systolic</th>\n",
              "      <th>diastolic</th>\n",
              "      <th>pca1</th>\n",
              "      <th>pca2</th>\n",
              "      <th>sys_dia</th>\n",
              "    </tr>\n",
              "  </thead>\n",
              "  <tbody>\n",
              "    <tr>\n",
              "      <th>0</th>\n",
              "      <td>0</td>\n",
              "      <td>144.43</td>\n",
              "      <td>52.947</td>\n",
              "      <td>0.448304</td>\n",
              "      <td>0.068589</td>\n",
              "      <td>2.727822</td>\n",
              "    </tr>\n",
              "    <tr>\n",
              "      <th>1</th>\n",
              "      <td>1</td>\n",
              "      <td>144.43</td>\n",
              "      <td>52.947</td>\n",
              "      <td>0.108880</td>\n",
              "      <td>-0.028446</td>\n",
              "      <td>2.727822</td>\n",
              "    </tr>\n",
              "    <tr>\n",
              "      <th>2</th>\n",
              "      <td>2</td>\n",
              "      <td>143.36</td>\n",
              "      <td>52.752</td>\n",
              "      <td>0.464056</td>\n",
              "      <td>0.471354</td>\n",
              "      <td>2.717622</td>\n",
              "    </tr>\n",
              "    <tr>\n",
              "      <th>3</th>\n",
              "      <td>3</td>\n",
              "      <td>146.48</td>\n",
              "      <td>54.998</td>\n",
              "      <td>-0.089028</td>\n",
              "      <td>-0.016251</td>\n",
              "      <td>2.663370</td>\n",
              "    </tr>\n",
              "    <tr>\n",
              "      <th>4</th>\n",
              "      <td>4</td>\n",
              "      <td>177.11</td>\n",
              "      <td>65.060</td>\n",
              "      <td>-0.213127</td>\n",
              "      <td>0.035350</td>\n",
              "      <td>2.722256</td>\n",
              "    </tr>\n",
              "  </tbody>\n",
              "</table>\n",
              "</div>\n",
              "      <button class=\"colab-df-convert\" onclick=\"convertToInteractive('df-84b2733a-3c0f-4cc7-859c-0884dcfa5579')\"\n",
              "              title=\"Convert this dataframe to an interactive table.\"\n",
              "              style=\"display:none;\">\n",
              "        \n",
              "  <svg xmlns=\"http://www.w3.org/2000/svg\" height=\"24px\"viewBox=\"0 0 24 24\"\n",
              "       width=\"24px\">\n",
              "    <path d=\"M0 0h24v24H0V0z\" fill=\"none\"/>\n",
              "    <path d=\"M18.56 5.44l.94 2.06.94-2.06 2.06-.94-2.06-.94-.94-2.06-.94 2.06-2.06.94zm-11 1L8.5 8.5l.94-2.06 2.06-.94-2.06-.94L8.5 2.5l-.94 2.06-2.06.94zm10 10l.94 2.06.94-2.06 2.06-.94-2.06-.94-.94-2.06-.94 2.06-2.06.94z\"/><path d=\"M17.41 7.96l-1.37-1.37c-.4-.4-.92-.59-1.43-.59-.52 0-1.04.2-1.43.59L10.3 9.45l-7.72 7.72c-.78.78-.78 2.05 0 2.83L4 21.41c.39.39.9.59 1.41.59.51 0 1.02-.2 1.41-.59l7.78-7.78 2.81-2.81c.8-.78.8-2.07 0-2.86zM5.41 20L4 18.59l7.72-7.72 1.47 1.35L5.41 20z\"/>\n",
              "  </svg>\n",
              "      </button>\n",
              "      \n",
              "  <style>\n",
              "    .colab-df-container {\n",
              "      display:flex;\n",
              "      flex-wrap:wrap;\n",
              "      gap: 12px;\n",
              "    }\n",
              "\n",
              "    .colab-df-convert {\n",
              "      background-color: #E8F0FE;\n",
              "      border: none;\n",
              "      border-radius: 50%;\n",
              "      cursor: pointer;\n",
              "      display: none;\n",
              "      fill: #1967D2;\n",
              "      height: 32px;\n",
              "      padding: 0 0 0 0;\n",
              "      width: 32px;\n",
              "    }\n",
              "\n",
              "    .colab-df-convert:hover {\n",
              "      background-color: #E2EBFA;\n",
              "      box-shadow: 0px 1px 2px rgba(60, 64, 67, 0.3), 0px 1px 3px 1px rgba(60, 64, 67, 0.15);\n",
              "      fill: #174EA6;\n",
              "    }\n",
              "\n",
              "    [theme=dark] .colab-df-convert {\n",
              "      background-color: #3B4455;\n",
              "      fill: #D2E3FC;\n",
              "    }\n",
              "\n",
              "    [theme=dark] .colab-df-convert:hover {\n",
              "      background-color: #434B5C;\n",
              "      box-shadow: 0px 1px 3px 1px rgba(0, 0, 0, 0.15);\n",
              "      filter: drop-shadow(0px 1px 2px rgba(0, 0, 0, 0.3));\n",
              "      fill: #FFFFFF;\n",
              "    }\n",
              "  </style>\n",
              "\n",
              "      <script>\n",
              "        const buttonEl =\n",
              "          document.querySelector('#df-84b2733a-3c0f-4cc7-859c-0884dcfa5579 button.colab-df-convert');\n",
              "        buttonEl.style.display =\n",
              "          google.colab.kernel.accessAllowed ? 'block' : 'none';\n",
              "\n",
              "        async function convertToInteractive(key) {\n",
              "          const element = document.querySelector('#df-84b2733a-3c0f-4cc7-859c-0884dcfa5579');\n",
              "          const dataTable =\n",
              "            await google.colab.kernel.invokeFunction('convertToInteractive',\n",
              "                                                     [key], {});\n",
              "          if (!dataTable) return;\n",
              "\n",
              "          const docLinkHtml = 'Like what you see? Visit the ' +\n",
              "            '<a target=\"_blank\" href=https://colab.research.google.com/notebooks/data_table.ipynb>data table notebook</a>'\n",
              "            + ' to learn more about interactive tables.';\n",
              "          element.innerHTML = '';\n",
              "          dataTable['output_type'] = 'display_data';\n",
              "          await google.colab.output.renderOutput(dataTable, element);\n",
              "          const docLink = document.createElement('div');\n",
              "          docLink.innerHTML = docLinkHtml;\n",
              "          element.appendChild(docLink);\n",
              "        }\n",
              "      </script>\n",
              "    </div>\n",
              "  </div>\n",
              "  "
            ]
          },
          "metadata": {},
          "execution_count": 6
        }
      ]
    },
    {
      "cell_type": "code",
      "source": [
        "data.shape"
      ],
      "metadata": {
        "colab": {
          "base_uri": "https://localhost:8080/"
        },
        "id": "m9k1DwWa0Q2H",
        "outputId": "069a19cb-78a3-467f-e35b-bbe2f9a79057"
      },
      "execution_count": 8,
      "outputs": [
        {
          "output_type": "execute_result",
          "data": {
            "text/plain": [
              "(205851, 3)"
            ]
          },
          "metadata": {},
          "execution_count": 8
        }
      ]
    },
    {
      "cell_type": "code",
      "source": [
        "\n",
        "data = data.drop(\"diastolic\",axis = 1)\n",
        "data = data.drop(\"systolic\",axis = 1)\n",
        "data = data.drop(\"Unnamed: 0\",axis = 1)"
      ],
      "metadata": {
        "id": "jkPQG07aliiu"
      },
      "execution_count": 7,
      "outputs": []
    },
    {
      "cell_type": "code",
      "source": [
        "\n",
        "data.head()"
      ],
      "metadata": {
        "colab": {
          "base_uri": "https://localhost:8080/",
          "height": 206
        },
        "id": "gWtDOCgACmCL",
        "outputId": "36c5f671-e43f-4fdd-8800-929188038065"
      },
      "execution_count": 9,
      "outputs": [
        {
          "output_type": "execute_result",
          "data": {
            "text/plain": [
              "       pca1      pca2   sys_dia\n",
              "0  0.448304  0.068589  2.727822\n",
              "1  0.108880 -0.028446  2.727822\n",
              "2  0.464056  0.471354  2.717622\n",
              "3 -0.089028 -0.016251  2.663370\n",
              "4 -0.213127  0.035350  2.722256"
            ],
            "text/html": [
              "\n",
              "  <div id=\"df-9eaed62d-f39d-4bb4-9677-618749db1be8\">\n",
              "    <div class=\"colab-df-container\">\n",
              "      <div>\n",
              "<style scoped>\n",
              "    .dataframe tbody tr th:only-of-type {\n",
              "        vertical-align: middle;\n",
              "    }\n",
              "\n",
              "    .dataframe tbody tr th {\n",
              "        vertical-align: top;\n",
              "    }\n",
              "\n",
              "    .dataframe thead th {\n",
              "        text-align: right;\n",
              "    }\n",
              "</style>\n",
              "<table border=\"1\" class=\"dataframe\">\n",
              "  <thead>\n",
              "    <tr style=\"text-align: right;\">\n",
              "      <th></th>\n",
              "      <th>pca1</th>\n",
              "      <th>pca2</th>\n",
              "      <th>sys_dia</th>\n",
              "    </tr>\n",
              "  </thead>\n",
              "  <tbody>\n",
              "    <tr>\n",
              "      <th>0</th>\n",
              "      <td>0.448304</td>\n",
              "      <td>0.068589</td>\n",
              "      <td>2.727822</td>\n",
              "    </tr>\n",
              "    <tr>\n",
              "      <th>1</th>\n",
              "      <td>0.108880</td>\n",
              "      <td>-0.028446</td>\n",
              "      <td>2.727822</td>\n",
              "    </tr>\n",
              "    <tr>\n",
              "      <th>2</th>\n",
              "      <td>0.464056</td>\n",
              "      <td>0.471354</td>\n",
              "      <td>2.717622</td>\n",
              "    </tr>\n",
              "    <tr>\n",
              "      <th>3</th>\n",
              "      <td>-0.089028</td>\n",
              "      <td>-0.016251</td>\n",
              "      <td>2.663370</td>\n",
              "    </tr>\n",
              "    <tr>\n",
              "      <th>4</th>\n",
              "      <td>-0.213127</td>\n",
              "      <td>0.035350</td>\n",
              "      <td>2.722256</td>\n",
              "    </tr>\n",
              "  </tbody>\n",
              "</table>\n",
              "</div>\n",
              "      <button class=\"colab-df-convert\" onclick=\"convertToInteractive('df-9eaed62d-f39d-4bb4-9677-618749db1be8')\"\n",
              "              title=\"Convert this dataframe to an interactive table.\"\n",
              "              style=\"display:none;\">\n",
              "        \n",
              "  <svg xmlns=\"http://www.w3.org/2000/svg\" height=\"24px\"viewBox=\"0 0 24 24\"\n",
              "       width=\"24px\">\n",
              "    <path d=\"M0 0h24v24H0V0z\" fill=\"none\"/>\n",
              "    <path d=\"M18.56 5.44l.94 2.06.94-2.06 2.06-.94-2.06-.94-.94-2.06-.94 2.06-2.06.94zm-11 1L8.5 8.5l.94-2.06 2.06-.94-2.06-.94L8.5 2.5l-.94 2.06-2.06.94zm10 10l.94 2.06.94-2.06 2.06-.94-2.06-.94-.94-2.06-.94 2.06-2.06.94z\"/><path d=\"M17.41 7.96l-1.37-1.37c-.4-.4-.92-.59-1.43-.59-.52 0-1.04.2-1.43.59L10.3 9.45l-7.72 7.72c-.78.78-.78 2.05 0 2.83L4 21.41c.39.39.9.59 1.41.59.51 0 1.02-.2 1.41-.59l7.78-7.78 2.81-2.81c.8-.78.8-2.07 0-2.86zM5.41 20L4 18.59l7.72-7.72 1.47 1.35L5.41 20z\"/>\n",
              "  </svg>\n",
              "      </button>\n",
              "      \n",
              "  <style>\n",
              "    .colab-df-container {\n",
              "      display:flex;\n",
              "      flex-wrap:wrap;\n",
              "      gap: 12px;\n",
              "    }\n",
              "\n",
              "    .colab-df-convert {\n",
              "      background-color: #E8F0FE;\n",
              "      border: none;\n",
              "      border-radius: 50%;\n",
              "      cursor: pointer;\n",
              "      display: none;\n",
              "      fill: #1967D2;\n",
              "      height: 32px;\n",
              "      padding: 0 0 0 0;\n",
              "      width: 32px;\n",
              "    }\n",
              "\n",
              "    .colab-df-convert:hover {\n",
              "      background-color: #E2EBFA;\n",
              "      box-shadow: 0px 1px 2px rgba(60, 64, 67, 0.3), 0px 1px 3px 1px rgba(60, 64, 67, 0.15);\n",
              "      fill: #174EA6;\n",
              "    }\n",
              "\n",
              "    [theme=dark] .colab-df-convert {\n",
              "      background-color: #3B4455;\n",
              "      fill: #D2E3FC;\n",
              "    }\n",
              "\n",
              "    [theme=dark] .colab-df-convert:hover {\n",
              "      background-color: #434B5C;\n",
              "      box-shadow: 0px 1px 3px 1px rgba(0, 0, 0, 0.15);\n",
              "      filter: drop-shadow(0px 1px 2px rgba(0, 0, 0, 0.3));\n",
              "      fill: #FFFFFF;\n",
              "    }\n",
              "  </style>\n",
              "\n",
              "      <script>\n",
              "        const buttonEl =\n",
              "          document.querySelector('#df-9eaed62d-f39d-4bb4-9677-618749db1be8 button.colab-df-convert');\n",
              "        buttonEl.style.display =\n",
              "          google.colab.kernel.accessAllowed ? 'block' : 'none';\n",
              "\n",
              "        async function convertToInteractive(key) {\n",
              "          const element = document.querySelector('#df-9eaed62d-f39d-4bb4-9677-618749db1be8');\n",
              "          const dataTable =\n",
              "            await google.colab.kernel.invokeFunction('convertToInteractive',\n",
              "                                                     [key], {});\n",
              "          if (!dataTable) return;\n",
              "\n",
              "          const docLinkHtml = 'Like what you see? Visit the ' +\n",
              "            '<a target=\"_blank\" href=https://colab.research.google.com/notebooks/data_table.ipynb>data table notebook</a>'\n",
              "            + ' to learn more about interactive tables.';\n",
              "          element.innerHTML = '';\n",
              "          dataTable['output_type'] = 'display_data';\n",
              "          await google.colab.output.renderOutput(dataTable, element);\n",
              "          const docLink = document.createElement('div');\n",
              "          docLink.innerHTML = docLinkHtml;\n",
              "          element.appendChild(docLink);\n",
              "        }\n",
              "      </script>\n",
              "    </div>\n",
              "  </div>\n",
              "  "
            ]
          },
          "metadata": {},
          "execution_count": 9
        }
      ]
    },
    {
      "cell_type": "code",
      "source": [
        "data.info()"
      ],
      "metadata": {
        "colab": {
          "base_uri": "https://localhost:8080/"
        },
        "id": "l6cqYQBhO8pW",
        "outputId": "30f3f861-d071-437f-8ed3-879a3b88d659"
      },
      "execution_count": 10,
      "outputs": [
        {
          "output_type": "stream",
          "name": "stdout",
          "text": [
            "<class 'pandas.core.frame.DataFrame'>\n",
            "RangeIndex: 205851 entries, 0 to 205850\n",
            "Data columns (total 3 columns):\n",
            " #   Column   Non-Null Count   Dtype  \n",
            "---  ------   --------------   -----  \n",
            " 0   pca1     205851 non-null  float64\n",
            " 1   pca2     205851 non-null  float64\n",
            " 2   sys_dia  205851 non-null  float64\n",
            "dtypes: float64(3)\n",
            "memory usage: 4.7 MB\n"
          ]
        }
      ]
    },
    {
      "cell_type": "code",
      "source": [
        "from sklearn.cluster import KMeans\n",
        "from sklearn.metrics import silhouette_score\n",
        "import matplotlib.pyplot as plt\n",
        "\n",
        "\n",
        " \n",
        "# initialise kmeans\n",
        "kmeans = KMeans(n_clusters=6)\n",
        "kmeans.fit(data)\n",
        "cluster_labels = kmeans.labels_\n"
      ],
      "metadata": {
        "id": "nKvUXcwFPFGW"
      },
      "execution_count": 11,
      "outputs": []
    },
    {
      "cell_type": "code",
      "source": [
        "np.unique(cluster_labels)"
      ],
      "metadata": {
        "colab": {
          "base_uri": "https://localhost:8080/"
        },
        "id": "75_Z_QCQmGzd",
        "outputId": "f210e845-0dcd-4490-f880-5027e0383584"
      },
      "execution_count": 12,
      "outputs": [
        {
          "output_type": "execute_result",
          "data": {
            "text/plain": [
              "array([0, 1, 2, 3, 4, 5], dtype=int32)"
            ]
          },
          "metadata": {},
          "execution_count": 12
        }
      ]
    },
    {
      "cell_type": "code",
      "source": [
        "print(\"number of datasets of cluster 0 = \",cluster_labels[cluster_labels == 0].shape[0])\n",
        "print(\"number of datasets of cluster 1 = \",cluster_labels[cluster_labels == 1].shape[0])\n",
        "print(\"number of datasets of cluster 2 = \",cluster_labels[cluster_labels == 2].shape[0])\n",
        "print(\"number of datasets of cluster 3 = \",cluster_labels[cluster_labels == 3].shape[0])\n",
        "print(\"number of datasets of cluster 4 = \",cluster_labels[cluster_labels == 4].shape[0])\n",
        "print(\"number of datasets of cluster 5 = \",cluster_labels[cluster_labels == 5].shape[0])\n"
      ],
      "metadata": {
        "colab": {
          "base_uri": "https://localhost:8080/"
        },
        "id": "qR5MoCMG0syd",
        "outputId": "3c239228-8f96-425b-f623-c85f0b9d2eeb"
      },
      "execution_count": 15,
      "outputs": [
        {
          "output_type": "stream",
          "name": "stdout",
          "text": [
            "number of datasets of cluster 0 =  16603\n",
            "number of datasets of cluster 1 =  15969\n",
            "number of datasets of cluster 2 =  123277\n",
            "number of datasets of cluster 3 =  17286\n",
            "number of datasets of cluster 4 =  15885\n",
            "number of datasets of cluster 5 =  16831\n"
          ]
        }
      ]
    },
    {
      "cell_type": "code",
      "source": [
        "PCA_values = pd.DataFrame()\n",
        "PCA_values[\"pca1\"] = data['pca1']\n",
        "PCA_values['pca2'] = data['pca2']\n"
      ],
      "metadata": {
        "id": "qasxvPf6EWTZ"
      },
      "execution_count": 34,
      "outputs": []
    },
    {
      "cell_type": "code",
      "source": [
        "PCA_values.head()"
      ],
      "metadata": {
        "colab": {
          "base_uri": "https://localhost:8080/",
          "height": 206
        },
        "id": "8GaZ7QK615p4",
        "outputId": "0d1aad82-9385-47a8-af98-280b7b828014"
      },
      "execution_count": 35,
      "outputs": [
        {
          "output_type": "execute_result",
          "data": {
            "text/plain": [
              "       pca1      pca2\n",
              "0  0.448304  0.068589\n",
              "1  0.108880 -0.028446\n",
              "2  0.464056  0.471354\n",
              "3 -0.089028 -0.016251\n",
              "4 -0.213127  0.035350"
            ],
            "text/html": [
              "\n",
              "  <div id=\"df-9c2a52f8-7272-451e-9a7e-188db74d8840\">\n",
              "    <div class=\"colab-df-container\">\n",
              "      <div>\n",
              "<style scoped>\n",
              "    .dataframe tbody tr th:only-of-type {\n",
              "        vertical-align: middle;\n",
              "    }\n",
              "\n",
              "    .dataframe tbody tr th {\n",
              "        vertical-align: top;\n",
              "    }\n",
              "\n",
              "    .dataframe thead th {\n",
              "        text-align: right;\n",
              "    }\n",
              "</style>\n",
              "<table border=\"1\" class=\"dataframe\">\n",
              "  <thead>\n",
              "    <tr style=\"text-align: right;\">\n",
              "      <th></th>\n",
              "      <th>pca1</th>\n",
              "      <th>pca2</th>\n",
              "    </tr>\n",
              "  </thead>\n",
              "  <tbody>\n",
              "    <tr>\n",
              "      <th>0</th>\n",
              "      <td>0.448304</td>\n",
              "      <td>0.068589</td>\n",
              "    </tr>\n",
              "    <tr>\n",
              "      <th>1</th>\n",
              "      <td>0.108880</td>\n",
              "      <td>-0.028446</td>\n",
              "    </tr>\n",
              "    <tr>\n",
              "      <th>2</th>\n",
              "      <td>0.464056</td>\n",
              "      <td>0.471354</td>\n",
              "    </tr>\n",
              "    <tr>\n",
              "      <th>3</th>\n",
              "      <td>-0.089028</td>\n",
              "      <td>-0.016251</td>\n",
              "    </tr>\n",
              "    <tr>\n",
              "      <th>4</th>\n",
              "      <td>-0.213127</td>\n",
              "      <td>0.035350</td>\n",
              "    </tr>\n",
              "  </tbody>\n",
              "</table>\n",
              "</div>\n",
              "      <button class=\"colab-df-convert\" onclick=\"convertToInteractive('df-9c2a52f8-7272-451e-9a7e-188db74d8840')\"\n",
              "              title=\"Convert this dataframe to an interactive table.\"\n",
              "              style=\"display:none;\">\n",
              "        \n",
              "  <svg xmlns=\"http://www.w3.org/2000/svg\" height=\"24px\"viewBox=\"0 0 24 24\"\n",
              "       width=\"24px\">\n",
              "    <path d=\"M0 0h24v24H0V0z\" fill=\"none\"/>\n",
              "    <path d=\"M18.56 5.44l.94 2.06.94-2.06 2.06-.94-2.06-.94-.94-2.06-.94 2.06-2.06.94zm-11 1L8.5 8.5l.94-2.06 2.06-.94-2.06-.94L8.5 2.5l-.94 2.06-2.06.94zm10 10l.94 2.06.94-2.06 2.06-.94-2.06-.94-.94-2.06-.94 2.06-2.06.94z\"/><path d=\"M17.41 7.96l-1.37-1.37c-.4-.4-.92-.59-1.43-.59-.52 0-1.04.2-1.43.59L10.3 9.45l-7.72 7.72c-.78.78-.78 2.05 0 2.83L4 21.41c.39.39.9.59 1.41.59.51 0 1.02-.2 1.41-.59l7.78-7.78 2.81-2.81c.8-.78.8-2.07 0-2.86zM5.41 20L4 18.59l7.72-7.72 1.47 1.35L5.41 20z\"/>\n",
              "  </svg>\n",
              "      </button>\n",
              "      \n",
              "  <style>\n",
              "    .colab-df-container {\n",
              "      display:flex;\n",
              "      flex-wrap:wrap;\n",
              "      gap: 12px;\n",
              "    }\n",
              "\n",
              "    .colab-df-convert {\n",
              "      background-color: #E8F0FE;\n",
              "      border: none;\n",
              "      border-radius: 50%;\n",
              "      cursor: pointer;\n",
              "      display: none;\n",
              "      fill: #1967D2;\n",
              "      height: 32px;\n",
              "      padding: 0 0 0 0;\n",
              "      width: 32px;\n",
              "    }\n",
              "\n",
              "    .colab-df-convert:hover {\n",
              "      background-color: #E2EBFA;\n",
              "      box-shadow: 0px 1px 2px rgba(60, 64, 67, 0.3), 0px 1px 3px 1px rgba(60, 64, 67, 0.15);\n",
              "      fill: #174EA6;\n",
              "    }\n",
              "\n",
              "    [theme=dark] .colab-df-convert {\n",
              "      background-color: #3B4455;\n",
              "      fill: #D2E3FC;\n",
              "    }\n",
              "\n",
              "    [theme=dark] .colab-df-convert:hover {\n",
              "      background-color: #434B5C;\n",
              "      box-shadow: 0px 1px 3px 1px rgba(0, 0, 0, 0.15);\n",
              "      filter: drop-shadow(0px 1px 2px rgba(0, 0, 0, 0.3));\n",
              "      fill: #FFFFFF;\n",
              "    }\n",
              "  </style>\n",
              "\n",
              "      <script>\n",
              "        const buttonEl =\n",
              "          document.querySelector('#df-9c2a52f8-7272-451e-9a7e-188db74d8840 button.colab-df-convert');\n",
              "        buttonEl.style.display =\n",
              "          google.colab.kernel.accessAllowed ? 'block' : 'none';\n",
              "\n",
              "        async function convertToInteractive(key) {\n",
              "          const element = document.querySelector('#df-9c2a52f8-7272-451e-9a7e-188db74d8840');\n",
              "          const dataTable =\n",
              "            await google.colab.kernel.invokeFunction('convertToInteractive',\n",
              "                                                     [key], {});\n",
              "          if (!dataTable) return;\n",
              "\n",
              "          const docLinkHtml = 'Like what you see? Visit the ' +\n",
              "            '<a target=\"_blank\" href=https://colab.research.google.com/notebooks/data_table.ipynb>data table notebook</a>'\n",
              "            + ' to learn more about interactive tables.';\n",
              "          element.innerHTML = '';\n",
              "          dataTable['output_type'] = 'display_data';\n",
              "          await google.colab.output.renderOutput(dataTable, element);\n",
              "          const docLink = document.createElement('div');\n",
              "          docLink.innerHTML = docLinkHtml;\n",
              "          element.appendChild(docLink);\n",
              "        }\n",
              "      </script>\n",
              "    </div>\n",
              "  </div>\n",
              "  "
            ]
          },
          "metadata": {},
          "execution_count": 35
        }
      ]
    },
    {
      "cell_type": "code",
      "source": [
        "label0 = PCA_values[cluster_labels == 0]\n",
        "label0"
      ],
      "metadata": {
        "colab": {
          "base_uri": "https://localhost:8080/",
          "height": 424
        },
        "id": "HBXUBsaAE5U_",
        "outputId": "70e41ed4-6d0e-40de-cb79-68242bfa16c1"
      },
      "execution_count": 38,
      "outputs": [
        {
          "output_type": "execute_result",
          "data": {
            "text/plain": [
              "            pca1      pca2\n",
              "455    -1.928102 -2.445909\n",
              "456    -3.631020 -2.402302\n",
              "482    -2.972059 -1.700744\n",
              "485    -0.682491 -4.539847\n",
              "486    -6.002697 -4.438316\n",
              "...          ...       ...\n",
              "205336 -1.794848 -6.711284\n",
              "205531 -1.369701 -2.693881\n",
              "205652 -4.944442 -4.538288\n",
              "205691 -6.771166 -2.832290\n",
              "205693 -3.526886 -3.991444\n",
              "\n",
              "[16603 rows x 2 columns]"
            ],
            "text/html": [
              "\n",
              "  <div id=\"df-203fba8c-d180-45df-8820-c6974eab46a3\">\n",
              "    <div class=\"colab-df-container\">\n",
              "      <div>\n",
              "<style scoped>\n",
              "    .dataframe tbody tr th:only-of-type {\n",
              "        vertical-align: middle;\n",
              "    }\n",
              "\n",
              "    .dataframe tbody tr th {\n",
              "        vertical-align: top;\n",
              "    }\n",
              "\n",
              "    .dataframe thead th {\n",
              "        text-align: right;\n",
              "    }\n",
              "</style>\n",
              "<table border=\"1\" class=\"dataframe\">\n",
              "  <thead>\n",
              "    <tr style=\"text-align: right;\">\n",
              "      <th></th>\n",
              "      <th>pca1</th>\n",
              "      <th>pca2</th>\n",
              "    </tr>\n",
              "  </thead>\n",
              "  <tbody>\n",
              "    <tr>\n",
              "      <th>455</th>\n",
              "      <td>-1.928102</td>\n",
              "      <td>-2.445909</td>\n",
              "    </tr>\n",
              "    <tr>\n",
              "      <th>456</th>\n",
              "      <td>-3.631020</td>\n",
              "      <td>-2.402302</td>\n",
              "    </tr>\n",
              "    <tr>\n",
              "      <th>482</th>\n",
              "      <td>-2.972059</td>\n",
              "      <td>-1.700744</td>\n",
              "    </tr>\n",
              "    <tr>\n",
              "      <th>485</th>\n",
              "      <td>-0.682491</td>\n",
              "      <td>-4.539847</td>\n",
              "    </tr>\n",
              "    <tr>\n",
              "      <th>486</th>\n",
              "      <td>-6.002697</td>\n",
              "      <td>-4.438316</td>\n",
              "    </tr>\n",
              "    <tr>\n",
              "      <th>...</th>\n",
              "      <td>...</td>\n",
              "      <td>...</td>\n",
              "    </tr>\n",
              "    <tr>\n",
              "      <th>205336</th>\n",
              "      <td>-1.794848</td>\n",
              "      <td>-6.711284</td>\n",
              "    </tr>\n",
              "    <tr>\n",
              "      <th>205531</th>\n",
              "      <td>-1.369701</td>\n",
              "      <td>-2.693881</td>\n",
              "    </tr>\n",
              "    <tr>\n",
              "      <th>205652</th>\n",
              "      <td>-4.944442</td>\n",
              "      <td>-4.538288</td>\n",
              "    </tr>\n",
              "    <tr>\n",
              "      <th>205691</th>\n",
              "      <td>-6.771166</td>\n",
              "      <td>-2.832290</td>\n",
              "    </tr>\n",
              "    <tr>\n",
              "      <th>205693</th>\n",
              "      <td>-3.526886</td>\n",
              "      <td>-3.991444</td>\n",
              "    </tr>\n",
              "  </tbody>\n",
              "</table>\n",
              "<p>16603 rows × 2 columns</p>\n",
              "</div>\n",
              "      <button class=\"colab-df-convert\" onclick=\"convertToInteractive('df-203fba8c-d180-45df-8820-c6974eab46a3')\"\n",
              "              title=\"Convert this dataframe to an interactive table.\"\n",
              "              style=\"display:none;\">\n",
              "        \n",
              "  <svg xmlns=\"http://www.w3.org/2000/svg\" height=\"24px\"viewBox=\"0 0 24 24\"\n",
              "       width=\"24px\">\n",
              "    <path d=\"M0 0h24v24H0V0z\" fill=\"none\"/>\n",
              "    <path d=\"M18.56 5.44l.94 2.06.94-2.06 2.06-.94-2.06-.94-.94-2.06-.94 2.06-2.06.94zm-11 1L8.5 8.5l.94-2.06 2.06-.94-2.06-.94L8.5 2.5l-.94 2.06-2.06.94zm10 10l.94 2.06.94-2.06 2.06-.94-2.06-.94-.94-2.06-.94 2.06-2.06.94z\"/><path d=\"M17.41 7.96l-1.37-1.37c-.4-.4-.92-.59-1.43-.59-.52 0-1.04.2-1.43.59L10.3 9.45l-7.72 7.72c-.78.78-.78 2.05 0 2.83L4 21.41c.39.39.9.59 1.41.59.51 0 1.02-.2 1.41-.59l7.78-7.78 2.81-2.81c.8-.78.8-2.07 0-2.86zM5.41 20L4 18.59l7.72-7.72 1.47 1.35L5.41 20z\"/>\n",
              "  </svg>\n",
              "      </button>\n",
              "      \n",
              "  <style>\n",
              "    .colab-df-container {\n",
              "      display:flex;\n",
              "      flex-wrap:wrap;\n",
              "      gap: 12px;\n",
              "    }\n",
              "\n",
              "    .colab-df-convert {\n",
              "      background-color: #E8F0FE;\n",
              "      border: none;\n",
              "      border-radius: 50%;\n",
              "      cursor: pointer;\n",
              "      display: none;\n",
              "      fill: #1967D2;\n",
              "      height: 32px;\n",
              "      padding: 0 0 0 0;\n",
              "      width: 32px;\n",
              "    }\n",
              "\n",
              "    .colab-df-convert:hover {\n",
              "      background-color: #E2EBFA;\n",
              "      box-shadow: 0px 1px 2px rgba(60, 64, 67, 0.3), 0px 1px 3px 1px rgba(60, 64, 67, 0.15);\n",
              "      fill: #174EA6;\n",
              "    }\n",
              "\n",
              "    [theme=dark] .colab-df-convert {\n",
              "      background-color: #3B4455;\n",
              "      fill: #D2E3FC;\n",
              "    }\n",
              "\n",
              "    [theme=dark] .colab-df-convert:hover {\n",
              "      background-color: #434B5C;\n",
              "      box-shadow: 0px 1px 3px 1px rgba(0, 0, 0, 0.15);\n",
              "      filter: drop-shadow(0px 1px 2px rgba(0, 0, 0, 0.3));\n",
              "      fill: #FFFFFF;\n",
              "    }\n",
              "  </style>\n",
              "\n",
              "      <script>\n",
              "        const buttonEl =\n",
              "          document.querySelector('#df-203fba8c-d180-45df-8820-c6974eab46a3 button.colab-df-convert');\n",
              "        buttonEl.style.display =\n",
              "          google.colab.kernel.accessAllowed ? 'block' : 'none';\n",
              "\n",
              "        async function convertToInteractive(key) {\n",
              "          const element = document.querySelector('#df-203fba8c-d180-45df-8820-c6974eab46a3');\n",
              "          const dataTable =\n",
              "            await google.colab.kernel.invokeFunction('convertToInteractive',\n",
              "                                                     [key], {});\n",
              "          if (!dataTable) return;\n",
              "\n",
              "          const docLinkHtml = 'Like what you see? Visit the ' +\n",
              "            '<a target=\"_blank\" href=https://colab.research.google.com/notebooks/data_table.ipynb>data table notebook</a>'\n",
              "            + ' to learn more about interactive tables.';\n",
              "          element.innerHTML = '';\n",
              "          dataTable['output_type'] = 'display_data';\n",
              "          await google.colab.output.renderOutput(dataTable, element);\n",
              "          const docLink = document.createElement('div');\n",
              "          docLink.innerHTML = docLinkHtml;\n",
              "          element.appendChild(docLink);\n",
              "        }\n",
              "      </script>\n",
              "    </div>\n",
              "  </div>\n",
              "  "
            ]
          },
          "metadata": {},
          "execution_count": 38
        }
      ]
    },
    {
      "cell_type": "code",
      "source": [
        "label1 = PCA_values[cluster_labels == 1]\n",
        "label2 = PCA_values[cluster_labels == 2]\n",
        "label3 = PCA_values[cluster_labels == 3]\n",
        "label4 = PCA_values[cluster_labels == 4]\n",
        "label5 = PCA_values[cluster_labels == 5]"
      ],
      "metadata": {
        "id": "Yew2lPGEE731"
      },
      "execution_count": 39,
      "outputs": []
    },
    {
      "cell_type": "code",
      "source": [
        "import sklearn\n",
        "\n",
        "sklearn.metrics.davies_bouldin_score(data.values, cluster_labels)"
      ],
      "metadata": {
        "colab": {
          "base_uri": "https://localhost:8080/"
        },
        "id": "h7yUU1puIIdI",
        "outputId": "7ee5d327-ae4b-460f-801b-bc5a7d1f82c9"
      },
      "execution_count": 16,
      "outputs": [
        {
          "output_type": "execute_result",
          "data": {
            "text/plain": [
              "0.715758743503251"
            ]
          },
          "metadata": {},
          "execution_count": 16
        }
      ]
    },
    {
      "cell_type": "code",
      "source": [
        "sklearn.metrics.calinski_harabasz_score(data.values, cluster_labels)"
      ],
      "metadata": {
        "colab": {
          "base_uri": "https://localhost:8080/"
        },
        "id": "RubGHeIhlZ8g",
        "outputId": "78d7b3ff-87f6-4360-d19a-7537ac898f23"
      },
      "execution_count": 17,
      "outputs": [
        {
          "output_type": "execute_result",
          "data": {
            "text/plain": [
              "148963.97221771648"
            ]
          },
          "metadata": {},
          "execution_count": 17
        }
      ]
    },
    {
      "cell_type": "code",
      "source": [
        "import matplotlib.pyplot as plt \n",
        "plt.scatter(label0.values[:,0],label0.values[:,1],color = \"red\")\n",
        "plt.scatter(label1.values[:,0],label1.values[:,1],color = \"green\")\n",
        "plt.scatter(label2.values[:,0],label2.values[:,1],color = \"black\")\n",
        "plt.scatter(label3.values[:,0],label3.values[:,1],color = \"blue\")\n",
        "plt.scatter(label4.values[:,0],label4.values[:,1],color = \"yellow\")\n",
        "plt.scatter(label5.values[:,0],label5.values[:,1],color = \"gray\")\n",
        "plt.show()"
      ],
      "metadata": {
        "colab": {
          "base_uri": "https://localhost:8080/",
          "height": 265
        },
        "id": "KL611R33s2iU",
        "outputId": "a0c0c3af-59e0-4979-ebf3-881aaff2f4ee"
      },
      "execution_count": 40,
      "outputs": [
        {
          "output_type": "display_data",
          "data": {
            "text/plain": [
              "<Figure size 432x288 with 1 Axes>"
            ],
            "image/png": "[encoded data removed]"
          },
          "metadata": {
            "needs_background": "light"
          }
        }
      ]
    },
    {
      "cell_type": "code",
      "source": [
        "all_ppg_2_22 = pd.DataFrame()\n",
        "for i in range(2,23):\n",
        "  df = pd.read_csv(\"/content/gdrive/MyDrive/data/PPG_/\"+str(i)+\".csv\")\n",
        "  all_ppg_2_22 = pd.concat(objs = [all_ppg_2_22 , df] ,axis = 0,ignore_index = True )\n",
        "  print(i)\n"
      ],
      "metadata": {
        "colab": {
          "base_uri": "https://localhost:8080/"
        },
        "id": "64P_fZOOtEkX",
        "outputId": "1c0e08a1-3b34-4dc0-dbb1-e40d78d0415d"
      },
      "execution_count": 48,
      "outputs": [
        {
          "output_type": "stream",
          "name": "stdout",
          "text": [
            "2\n",
            "3\n",
            "4\n",
            "5\n",
            "6\n",
            "7\n",
            "8\n",
            "9\n",
            "10\n",
            "11\n",
            "12\n",
            "13\n",
            "14\n",
            "15\n",
            "16\n",
            "17\n",
            "18\n",
            "19\n",
            "20\n",
            "21\n",
            "22\n"
          ]
        }
      ]
    },
    {
      "cell_type": "code",
      "source": [
        "all_ppg_2_22"
      ],
      "metadata": {
        "colab": {
          "base_uri": "https://localhost:8080/",
          "height": 488
        },
        "id": "tLsArooCBfkX",
        "outputId": "d61c6765-f847-4d6f-f2e9-8a825721c15e"
      },
      "execution_count": 64,
      "outputs": [
        {
          "output_type": "execute_result",
          "data": {
            "text/plain": [
              "               1         2        3         4         5         6        7  \\\n",
              "0       0.626660  0.547210  0.47260  0.406270  0.350510  0.306410  0.27399   \n",
              "1       0.038500  0.057440  0.08861  0.132970  0.190530  0.260180  0.33985   \n",
              "2       0.022790  0.024570  0.02600  0.028050  0.032100  0.039810  0.05300   \n",
              "3       0.245200  0.260090  0.27128  0.278490  0.281820  0.281700  0.27876   \n",
              "4       0.576570  0.503680  0.42721  0.353030  0.286310  0.231070  0.18983   \n",
              "...          ...       ...      ...       ...       ...       ...      ...   \n",
              "205846  0.023608  0.006408  0.00000  0.006105  0.025813  0.059443  0.10642   \n",
              "205847  0.200210  0.198560  0.19711  0.196190  0.196080  0.197000  0.19914   \n",
              "205848  0.530510  0.450780  0.37326  0.303230  0.244790  0.200590  0.17170   \n",
              "205849  0.653840  0.675060  0.69403  0.708130  0.715170  0.713620  0.70260   \n",
              "205850  0.818770  0.877360  0.92573  0.961150  0.981860  0.987280  0.97790   \n",
              "\n",
              "              8        9       10  ...     1015     1016     1017     1018  \\\n",
              "0       0.25228  0.23964  0.23397  ...  0.74482  0.82479  0.88590  0.92470   \n",
              "1       0.42655  0.51669  0.60637  ...  0.05267  0.05805  0.06082  0.06036   \n",
              "2       0.07341  0.10256  0.14146  ...  0.00840  0.00365  0.00080  0.00000   \n",
              "3       0.27377  0.26749  0.26060  ...  0.11479  0.11281  0.11491  0.12155   \n",
              "4       0.16350  0.15142  0.15160  ...  0.37350  0.45685  0.53778  0.61003   \n",
              "...         ...      ...      ...  ...      ...      ...      ...      ...   \n",
              "205846  0.16530  0.23382  0.30909  ...  0.36970  0.33777  0.30459  0.26979   \n",
              "205847  0.20256  0.20729  0.21327  ...  0.18232  0.18736  0.19207  0.19617   \n",
              "205848  0.15766  0.15674  0.16627  ...  0.48017  0.56806  0.64505  0.70563   \n",
              "205849  0.68207  0.65270  0.61576  ...  0.69176  0.67078  0.64832  0.62748   \n",
              "205850  0.95523  0.92157  0.87982  ...  0.48528  0.46030  0.44945  0.45432   \n",
              "\n",
              "           1019     1020     1021     1022     1023      1024  \n",
              "0       0.93946  0.93015  0.89849  0.84767  0.78203  0.706600  \n",
              "1       0.05660  0.05009  0.04208  0.03443  0.02951  0.029980  \n",
              "2       0.00116  0.00397  0.00790  0.01232  0.01658  0.020160  \n",
              "3       0.13270  0.14788  0.16619  0.18644  0.20725  0.227260  \n",
              "4       0.66785  0.70663  0.72333  0.71686  0.68809  0.639870  \n",
              "...         ...      ...      ...      ...      ...       ...  \n",
              "205846  0.23327  0.19525  0.15646  0.11807  0.08173  0.049485  \n",
              "205847  0.19946  0.20179  0.20311  0.20346  0.20295  0.201770  \n",
              "205848  0.74549  0.76194  0.75419  0.72343  0.67268  0.606510  \n",
              "205849  0.61098  0.60085  0.59826  0.60341  0.61557  0.633120  \n",
              "205850  0.47527  0.51145  0.56079  0.62023  0.68593  0.753570  \n",
              "\n",
              "[205851 rows x 1024 columns]"
            ],
            "text/html": [
              "\n",
              "  <div id=\"df-5cbec065-78c6-4d76-ab70-695b4ff27f68\">\n",
              "    <div class=\"colab-df-container\">\n",
              "      <div>\n",
              "<style scoped>\n",
              "    .dataframe tbody tr th:only-of-type {\n",
              "        vertical-align: middle;\n",
              "    }\n",
              "\n",
              "    .dataframe tbody tr th {\n",
              "        vertical-align: top;\n",
              "    }\n",
              "\n",
              "    .dataframe thead th {\n",
              "        text-align: right;\n",
              "    }\n",
              "</style>\n",
              "<table border=\"1\" class=\"dataframe\">\n",
              "  <thead>\n",
              "    <tr style=\"text-align: right;\">\n",
              "      <th></th>\n",
              "      <th>1</th>\n",
              "      <th>2</th>\n",
              "      <th>3</th>\n",
              "      <th>4</th>\n",
              "      <th>5</th>\n",
              "      <th>6</th>\n",
              "      <th>7</th>\n",
              "      <th>8</th>\n",
              "      <th>9</th>\n",
              "      <th>10</th>\n",
              "      <th>...</th>\n",
              "      <th>1015</th>\n",
              "      <th>1016</th>\n",
              "      <th>1017</th>\n",
              "      <th>1018</th>\n",
              "      <th>1019</th>\n",
              "      <th>1020</th>\n",
              "      <th>1021</th>\n",
              "      <th>1022</th>\n",
              "      <th>1023</th>\n",
              "      <th>1024</th>\n",
              "    </tr>\n",
              "  </thead>\n",
              "  <tbody>\n",
              "    <tr>\n",
              "      <th>0</th>\n",
              "      <td>0.626660</td>\n",
              "      <td>0.547210</td>\n",
              "      <td>0.47260</td>\n",
              "      <td>0.406270</td>\n",
              "      <td>0.350510</td>\n",
              "      <td>0.306410</td>\n",
              "      <td>0.27399</td>\n",
              "      <td>0.25228</td>\n",
              "      <td>0.23964</td>\n",
              "      <td>0.23397</td>\n",
              "      <td>...</td>\n",
              "      <td>0.74482</td>\n",
              "      <td>0.82479</td>\n",
              "      <td>0.88590</td>\n",
              "      <td>0.92470</td>\n",
              "      <td>0.93946</td>\n",
              "      <td>0.93015</td>\n",
              "      <td>0.89849</td>\n",
              "      <td>0.84767</td>\n",
              "      <td>0.78203</td>\n",
              "      <td>0.706600</td>\n",
              "    </tr>\n",
              "    <tr>\n",
              "      <th>1</th>\n",
              "      <td>0.038500</td>\n",
              "      <td>0.057440</td>\n",
              "      <td>0.08861</td>\n",
              "      <td>0.132970</td>\n",
              "      <td>0.190530</td>\n",
              "      <td>0.260180</td>\n",
              "      <td>0.33985</td>\n",
              "      <td>0.42655</td>\n",
              "      <td>0.51669</td>\n",
              "      <td>0.60637</td>\n",
              "      <td>...</td>\n",
              "      <td>0.05267</td>\n",
              "      <td>0.05805</td>\n",
              "      <td>0.06082</td>\n",
              "      <td>0.06036</td>\n",
              "      <td>0.05660</td>\n",
              "      <td>0.05009</td>\n",
              "      <td>0.04208</td>\n",
              "      <td>0.03443</td>\n",
              "      <td>0.02951</td>\n",
              "      <td>0.029980</td>\n",
              "    </tr>\n",
              "    <tr>\n",
              "      <th>2</th>\n",
              "      <td>0.022790</td>\n",
              "      <td>0.024570</td>\n",
              "      <td>0.02600</td>\n",
              "      <td>0.028050</td>\n",
              "      <td>0.032100</td>\n",
              "      <td>0.039810</td>\n",
              "      <td>0.05300</td>\n",
              "      <td>0.07341</td>\n",
              "      <td>0.10256</td>\n",
              "      <td>0.14146</td>\n",
              "      <td>...</td>\n",
              "      <td>0.00840</td>\n",
              "      <td>0.00365</td>\n",
              "      <td>0.00080</td>\n",
              "      <td>0.00000</td>\n",
              "      <td>0.00116</td>\n",
              "      <td>0.00397</td>\n",
              "      <td>0.00790</td>\n",
              "      <td>0.01232</td>\n",
              "      <td>0.01658</td>\n",
              "      <td>0.020160</td>\n",
              "    </tr>\n",
              "    <tr>\n",
              "      <th>3</th>\n",
              "      <td>0.245200</td>\n",
              "      <td>0.260090</td>\n",
              "      <td>0.27128</td>\n",
              "      <td>0.278490</td>\n",
              "      <td>0.281820</td>\n",
              "      <td>0.281700</td>\n",
              "      <td>0.27876</td>\n",
              "      <td>0.27377</td>\n",
              "      <td>0.26749</td>\n",
              "      <td>0.26060</td>\n",
              "      <td>...</td>\n",
              "      <td>0.11479</td>\n",
              "      <td>0.11281</td>\n",
              "      <td>0.11491</td>\n",
              "      <td>0.12155</td>\n",
              "      <td>0.13270</td>\n",
              "      <td>0.14788</td>\n",
              "      <td>0.16619</td>\n",
              "      <td>0.18644</td>\n",
              "      <td>0.20725</td>\n",
              "      <td>0.227260</td>\n",
              "    </tr>\n",
              "    <tr>\n",
              "      <th>4</th>\n",
              "      <td>0.576570</td>\n",
              "      <td>0.503680</td>\n",
              "      <td>0.42721</td>\n",
              "      <td>0.353030</td>\n",
              "      <td>0.286310</td>\n",
              "      <td>0.231070</td>\n",
              "      <td>0.18983</td>\n",
              "      <td>0.16350</td>\n",
              "      <td>0.15142</td>\n",
              "      <td>0.15160</td>\n",
              "      <td>...</td>\n",
              "      <td>0.37350</td>\n",
              "      <td>0.45685</td>\n",
              "      <td>0.53778</td>\n",
              "      <td>0.61003</td>\n",
              "      <td>0.66785</td>\n",
              "      <td>0.70663</td>\n",
              "      <td>0.72333</td>\n",
              "      <td>0.71686</td>\n",
              "      <td>0.68809</td>\n",
              "      <td>0.639870</td>\n",
              "    </tr>\n",
              "    <tr>\n",
              "      <th>...</th>\n",
              "      <td>...</td>\n",
              "      <td>...</td>\n",
              "      <td>...</td>\n",
              "      <td>...</td>\n",
              "      <td>...</td>\n",
              "      <td>...</td>\n",
              "      <td>...</td>\n",
              "      <td>...</td>\n",
              "      <td>...</td>\n",
              "      <td>...</td>\n",
              "      <td>...</td>\n",
              "      <td>...</td>\n",
              "      <td>...</td>\n",
              "      <td>...</td>\n",
              "      <td>...</td>\n",
              "      <td>...</td>\n",
              "      <td>...</td>\n",
              "      <td>...</td>\n",
              "      <td>...</td>\n",
              "      <td>...</td>\n",
              "      <td>...</td>\n",
              "    </tr>\n",
              "    <tr>\n",
              "      <th>205846</th>\n",
              "      <td>0.023608</td>\n",
              "      <td>0.006408</td>\n",
              "      <td>0.00000</td>\n",
              "      <td>0.006105</td>\n",
              "      <td>0.025813</td>\n",
              "      <td>0.059443</td>\n",
              "      <td>0.10642</td>\n",
              "      <td>0.16530</td>\n",
              "      <td>0.23382</td>\n",
              "      <td>0.30909</td>\n",
              "      <td>...</td>\n",
              "      <td>0.36970</td>\n",
              "      <td>0.33777</td>\n",
              "      <td>0.30459</td>\n",
              "      <td>0.26979</td>\n",
              "      <td>0.23327</td>\n",
              "      <td>0.19525</td>\n",
              "      <td>0.15646</td>\n",
              "      <td>0.11807</td>\n",
              "      <td>0.08173</td>\n",
              "      <td>0.049485</td>\n",
              "    </tr>\n",
              "    <tr>\n",
              "      <th>205847</th>\n",
              "      <td>0.200210</td>\n",
              "      <td>0.198560</td>\n",
              "      <td>0.19711</td>\n",
              "      <td>0.196190</td>\n",
              "      <td>0.196080</td>\n",
              "      <td>0.197000</td>\n",
              "      <td>0.19914</td>\n",
              "      <td>0.20256</td>\n",
              "      <td>0.20729</td>\n",
              "      <td>0.21327</td>\n",
              "      <td>...</td>\n",
              "      <td>0.18232</td>\n",
              "      <td>0.18736</td>\n",
              "      <td>0.19207</td>\n",
              "      <td>0.19617</td>\n",
              "      <td>0.19946</td>\n",
              "      <td>0.20179</td>\n",
              "      <td>0.20311</td>\n",
              "      <td>0.20346</td>\n",
              "      <td>0.20295</td>\n",
              "      <td>0.201770</td>\n",
              "    </tr>\n",
              "    <tr>\n",
              "      <th>205848</th>\n",
              "      <td>0.530510</td>\n",
              "      <td>0.450780</td>\n",
              "      <td>0.37326</td>\n",
              "      <td>0.303230</td>\n",
              "      <td>0.244790</td>\n",
              "      <td>0.200590</td>\n",
              "      <td>0.17170</td>\n",
              "      <td>0.15766</td>\n",
              "      <td>0.15674</td>\n",
              "      <td>0.16627</td>\n",
              "      <td>...</td>\n",
              "      <td>0.48017</td>\n",
              "      <td>0.56806</td>\n",
              "      <td>0.64505</td>\n",
              "      <td>0.70563</td>\n",
              "      <td>0.74549</td>\n",
              "      <td>0.76194</td>\n",
              "      <td>0.75419</td>\n",
              "      <td>0.72343</td>\n",
              "      <td>0.67268</td>\n",
              "      <td>0.606510</td>\n",
              "    </tr>\n",
              "    <tr>\n",
              "      <th>205849</th>\n",
              "      <td>0.653840</td>\n",
              "      <td>0.675060</td>\n",
              "      <td>0.69403</td>\n",
              "      <td>0.708130</td>\n",
              "      <td>0.715170</td>\n",
              "      <td>0.713620</td>\n",
              "      <td>0.70260</td>\n",
              "      <td>0.68207</td>\n",
              "      <td>0.65270</td>\n",
              "      <td>0.61576</td>\n",
              "      <td>...</td>\n",
              "      <td>0.69176</td>\n",
              "      <td>0.67078</td>\n",
              "      <td>0.64832</td>\n",
              "      <td>0.62748</td>\n",
              "      <td>0.61098</td>\n",
              "      <td>0.60085</td>\n",
              "      <td>0.59826</td>\n",
              "      <td>0.60341</td>\n",
              "      <td>0.61557</td>\n",
              "      <td>0.633120</td>\n",
              "    </tr>\n",
              "    <tr>\n",
              "      <th>205850</th>\n",
              "      <td>0.818770</td>\n",
              "      <td>0.877360</td>\n",
              "      <td>0.92573</td>\n",
              "      <td>0.961150</td>\n",
              "      <td>0.981860</td>\n",
              "      <td>0.987280</td>\n",
              "      <td>0.97790</td>\n",
              "      <td>0.95523</td>\n",
              "      <td>0.92157</td>\n",
              "      <td>0.87982</td>\n",
              "      <td>...</td>\n",
              "      <td>0.48528</td>\n",
              "      <td>0.46030</td>\n",
              "      <td>0.44945</td>\n",
              "      <td>0.45432</td>\n",
              "      <td>0.47527</td>\n",
              "      <td>0.51145</td>\n",
              "      <td>0.56079</td>\n",
              "      <td>0.62023</td>\n",
              "      <td>0.68593</td>\n",
              "      <td>0.753570</td>\n",
              "    </tr>\n",
              "  </tbody>\n",
              "</table>\n",
              "<p>205851 rows × 1024 columns</p>\n",
              "</div>\n",
              "      <button class=\"colab-df-convert\" onclick=\"convertToInteractive('df-5cbec065-78c6-4d76-ab70-695b4ff27f68')\"\n",
              "              title=\"Convert this dataframe to an interactive table.\"\n",
              "              style=\"display:none;\">\n",
              "        \n",
              "  <svg xmlns=\"http://www.w3.org/2000/svg\" height=\"24px\"viewBox=\"0 0 24 24\"\n",
              "       width=\"24px\">\n",
              "    <path d=\"M0 0h24v24H0V0z\" fill=\"none\"/>\n",
              "    <path d=\"M18.56 5.44l.94 2.06.94-2.06 2.06-.94-2.06-.94-.94-2.06-.94 2.06-2.06.94zm-11 1L8.5 8.5l.94-2.06 2.06-.94-2.06-.94L8.5 2.5l-.94 2.06-2.06.94zm10 10l.94 2.06.94-2.06 2.06-.94-2.06-.94-.94-2.06-.94 2.06-2.06.94z\"/><path d=\"M17.41 7.96l-1.37-1.37c-.4-.4-.92-.59-1.43-.59-.52 0-1.04.2-1.43.59L10.3 9.45l-7.72 7.72c-.78.78-.78 2.05 0 2.83L4 21.41c.39.39.9.59 1.41.59.51 0 1.02-.2 1.41-.59l7.78-7.78 2.81-2.81c.8-.78.8-2.07 0-2.86zM5.41 20L4 18.59l7.72-7.72 1.47 1.35L5.41 20z\"/>\n",
              "  </svg>\n",
              "      </button>\n",
              "      \n",
              "  <style>\n",
              "    .colab-df-container {\n",
              "      display:flex;\n",
              "      flex-wrap:wrap;\n",
              "      gap: 12px;\n",
              "    }\n",
              "\n",
              "    .colab-df-convert {\n",
              "      background-color: #E8F0FE;\n",
              "      border: none;\n",
              "      border-radius: 50%;\n",
              "      cursor: pointer;\n",
              "      display: none;\n",
              "      fill: #1967D2;\n",
              "      height: 32px;\n",
              "      padding: 0 0 0 0;\n",
              "      width: 32px;\n",
              "    }\n",
              "\n",
              "    .colab-df-convert:hover {\n",
              "      background-color: #E2EBFA;\n",
              "      box-shadow: 0px 1px 2px rgba(60, 64, 67, 0.3), 0px 1px 3px 1px rgba(60, 64, 67, 0.15);\n",
              "      fill: #174EA6;\n",
              "    }\n",
              "\n",
              "    [theme=dark] .colab-df-convert {\n",
              "      background-color: #3B4455;\n",
              "      fill: #D2E3FC;\n",
              "    }\n",
              "\n",
              "    [theme=dark] .colab-df-convert:hover {\n",
              "      background-color: #434B5C;\n",
              "      box-shadow: 0px 1px 3px 1px rgba(0, 0, 0, 0.15);\n",
              "      filter: drop-shadow(0px 1px 2px rgba(0, 0, 0, 0.3));\n",
              "      fill: #FFFFFF;\n",
              "    }\n",
              "  </style>\n",
              "\n",
              "      <script>\n",
              "        const buttonEl =\n",
              "          document.querySelector('#df-5cbec065-78c6-4d76-ab70-695b4ff27f68 button.colab-df-convert');\n",
              "        buttonEl.style.display =\n",
              "          google.colab.kernel.accessAllowed ? 'block' : 'none';\n",
              "\n",
              "        async function convertToInteractive(key) {\n",
              "          const element = document.querySelector('#df-5cbec065-78c6-4d76-ab70-695b4ff27f68');\n",
              "          const dataTable =\n",
              "            await google.colab.kernel.invokeFunction('convertToInteractive',\n",
              "                                                     [key], {});\n",
              "          if (!dataTable) return;\n",
              "\n",
              "          const docLinkHtml = 'Like what you see? Visit the ' +\n",
              "            '<a target=\"_blank\" href=https://colab.research.google.com/notebooks/data_table.ipynb>data table notebook</a>'\n",
              "            + ' to learn more about interactive tables.';\n",
              "          element.innerHTML = '';\n",
              "          dataTable['output_type'] = 'display_data';\n",
              "          await google.colab.output.renderOutput(dataTable, element);\n",
              "          const docLink = document.createElement('div');\n",
              "          docLink.innerHTML = docLinkHtml;\n",
              "          element.appendChild(docLink);\n",
              "        }\n",
              "      </script>\n",
              "    </div>\n",
              "  </div>\n",
              "  "
            ]
          },
          "metadata": {},
          "execution_count": 64
        }
      ]
    },
    {
      "cell_type": "code",
      "source": [
        "all_ppg_2_22.loc[1]"
      ],
      "metadata": {
        "id": "c4I85DUQ7luC"
      },
      "execution_count": null,
      "outputs": []
    },
    {
      "cell_type": "code",
      "source": [
        "from scipy.spatial.distance import euclidean\n",
        "\n",
        "# Loop over all clusters and find index of closest point to the cluster center and append to closest_pt_idx list.\n",
        "closest_pt_idx = []\n",
        "for iclust in range(kmeans.n_clusters):\n",
        "    # get all points assigned to each cluster:\n",
        "    cluster_pts = data.values[kmeans.labels_ == iclust]\n",
        "    # get all indices of points assigned to this cluster:\n",
        "    cluster_pts_indices = np.where(kmeans.labels_ == iclust)[0]\n",
        "\n",
        "    cluster_cen = kmeans.cluster_centers_[iclust]\n",
        "    min_idx = np.argmin([euclidean(data.values[idx], cluster_cen) for idx in cluster_pts_indices])\n",
        "    \n",
        "    # Testing:    \n",
        "    print('closest point to cluster center: ', cluster_pts[min_idx])\n",
        "    print('closest index of point to cluster center: ', cluster_pts_indices[min_idx])\n",
        "    print('  ', data.values[cluster_pts_indices[min_idx]])\n",
        "    closest_pt_idx.append(cluster_pts_indices[min_idx])"
      ],
      "metadata": {
        "colab": {
          "base_uri": "https://localhost:8080/"
        },
        "id": "Qzznfl2f7oBh",
        "outputId": "b589b8ff-dbf8-4718-994f-bf9de31207a5"
      },
      "execution_count": 69,
      "outputs": [
        {
          "output_type": "stream",
          "name": "stdout",
          "text": [
            "closest point to cluster center:  [-3.14792099 -4.85865911  2.12597857]\n",
            "closest index of point to cluster center:  28529\n",
            "   [-3.14792099 -4.85865911  2.12597857]\n",
            "closest point to cluster center:  [5.62306995 1.65746067 2.06808002]\n",
            "closest index of point to cluster center:  59218\n",
            "   [5.62306995 1.65746067 2.06808002]\n",
            "closest point to cluster center:  [-2.03558485e-03 -1.91474691e-03  2.08078902e+00]\n",
            "closest index of point to cluster center:  199450\n",
            "   [-2.03558485e-03 -1.91474691e-03  2.08078902e+00]\n",
            "closest point to cluster center:  [-5.57530937  1.70503914  2.09483984]\n",
            "closest index of point to cluster center:  54157\n",
            "   [-5.57530937  1.70503914  2.09483984]\n",
            "closest point to cluster center:  [ 3.60181241 -4.51152931  2.0542641 ]\n",
            "closest index of point to cluster center:  131884\n",
            "   [ 3.60181241 -4.51152931  2.0542641 ]\n",
            "closest point to cluster center:  [0.13507747 5.79866547 1.98744501]\n",
            "closest index of point to cluster center:  139156\n",
            "   [0.13507747 5.79866547 1.98744501]\n"
          ]
        }
      ]
    },
    {
      "cell_type": "code",
      "source": [
        "plt.plot(all_ppg_2_22.loc[28529])\n",
        "print(\"cluster is \",cluster_labels[28529])"
      ],
      "metadata": {
        "colab": {
          "base_uri": "https://localhost:8080/",
          "height": 282
        },
        "id": "q585lDf69LNF",
        "outputId": "8a5ee1d4-8e1e-4f7c-d333-ff3e83369e07"
      },
      "execution_count": 76,
      "outputs": [
        {
          "output_type": "stream",
          "name": "stdout",
          "text": [
            "cluster is  0\n"
          ]
        },
        {
          "output_type": "display_data",
          "data": {
            "text/plain": [
              "<Figure size 432x288 with 1 Axes>"
            ],
            "image/png": "[encoded data removed]"
          },
          "metadata": {
            "needs_background": "light"
          }
        }
      ]
    },
    {
      "cell_type": "code",
      "source": [
        "plt.plot(all_ppg_2_22.loc[59218])\n",
        "print(\"cluster is \",cluster_labels[59218])"
      ],
      "metadata": {
        "colab": {
          "base_uri": "https://localhost:8080/",
          "height": 282
        },
        "id": "S4fuI4erEpG9",
        "outputId": "8f8d4f1e-dd91-47fc-e304-d35762a91266"
      },
      "execution_count": 77,
      "outputs": [
        {
          "output_type": "stream",
          "name": "stdout",
          "text": [
            "cluster is  1\n"
          ]
        },
        {
          "output_type": "display_data",
          "data": {
            "text/plain": [
              "<Figure size 432x288 with 1 Axes>"
            ],
            "image/png": "[encoded data removed]"
          },
          "metadata": {
            "needs_background": "light"
          }
        }
      ]
    },
    {
      "cell_type": "code",
      "source": [
        "plt.plot(all_ppg_2_22.loc[199450])\n",
        "print(\"cluster is \",cluster_labels[199450])"
      ],
      "metadata": {
        "colab": {
          "base_uri": "https://localhost:8080/",
          "height": 282
        },
        "id": "pVnEqsGGE5X-",
        "outputId": "54a4f843-1742-45e3-8c16-45424e639e74"
      },
      "execution_count": 78,
      "outputs": [
        {
          "output_type": "stream",
          "name": "stdout",
          "text": [
            "cluster is  2\n"
          ]
        },
        {
          "output_type": "display_data",
          "data": {
            "text/plain": [
              "<Figure size 432x288 with 1 Axes>"
            ],
            "image/png": "[encoded data removed]"
          },
          "metadata": {
            "needs_background": "light"
          }
        }
      ]
    },
    {
      "cell_type": "code",
      "source": [
        "plt.plot(all_ppg_2_22.loc[54157])\n",
        "print(\"cluster is \",cluster_labels[54157])"
      ],
      "metadata": {
        "colab": {
          "base_uri": "https://localhost:8080/",
          "height": 282
        },
        "id": "v_nOGj8sFD96",
        "outputId": "9f9a6bb1-441b-4da0-b6bf-d50b2291b5ac"
      },
      "execution_count": 79,
      "outputs": [
        {
          "output_type": "stream",
          "name": "stdout",
          "text": [
            "cluster is  3\n"
          ]
        },
        {
          "output_type": "display_data",
          "data": {
            "text/plain": [
              "<Figure size 432x288 with 1 Axes>"
            ],
            "image/png": "[encoded data removed]"
          },
          "metadata": {
            "needs_background": "light"
          }
        }
      ]
    },
    {
      "cell_type": "code",
      "source": [
        "plt.plot(all_ppg_2_22.loc[131884])\n",
        "print(\"cluster is \",cluster_labels[131884])"
      ],
      "metadata": {
        "colab": {
          "base_uri": "https://localhost:8080/",
          "height": 282
        },
        "id": "XSQS7im3FEIU",
        "outputId": "7691619e-5203-4c67-ab74-9355f26bc9bc"
      },
      "execution_count": 81,
      "outputs": [
        {
          "output_type": "stream",
          "name": "stdout",
          "text": [
            "cluster is  4\n"
          ]
        },
        {
          "output_type": "display_data",
          "data": {
            "text/plain": [
              "<Figure size 432x288 with 1 Axes>"
            ],
            "image/png": "[encoded data removed]"
          },
          "metadata": {
            "needs_background": "light"
          }
        }
      ]
    },
    {
      "cell_type": "code",
      "source": [
        "plt.plot(all_ppg_2_22.loc[139156])\n",
        "print(\"cluster is \",cluster_labels[139156])"
      ],
      "metadata": {
        "colab": {
          "base_uri": "https://localhost:8080/",
          "height": 282
        },
        "id": "TcWBm_P-FES8",
        "outputId": "bf549876-3f2f-49a6-bb81-21ff772a9717"
      },
      "execution_count": 80,
      "outputs": [
        {
          "output_type": "stream",
          "name": "stdout",
          "text": [
            "cluster is  5\n"
          ]
        },
        {
          "output_type": "display_data",
          "data": {
            "text/plain": [
              "<Figure size 432x288 with 1 Axes>"
            ],
            "image/png": "[encoded data removed]"
          },
          "metadata": {
            "needs_background": "light"
          }
        }
      ]
    },
    {
      "cell_type": "code",
      "source": [
        ""
      ],
      "metadata": {
        "id": "ifXQUBu0FEoW"
      },
      "execution_count": null,
      "outputs": []
    }
  ]
}